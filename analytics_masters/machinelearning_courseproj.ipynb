{
 "cells": [
  {
   "cell_type": "markdown",
   "metadata": {},
   "source": [
    "# Machine Learning Course Project\n",
    "## Chantel A. Miller\n",
    "### Predicting Mental Health Treatment Seekers from OSMI Mental Health in Tech Survey Respondents\n",
    "https://www.kaggle.com/osmi/mental-health-in-tech-2016/data\n",
    "\n",
    "\n",
    "**Description:** Through all of the contemporary dialogue on health care in the United States, mental health remains an interesting specter in our social consciousness. In the media, it is brought up infrequently, often an anecdotal, armchair diagnoses of victims or perpetrators of tragedies. In our social and private spaces, it is often underdiscussed and in extreme cases ignored or rejected entirely. These realizations prove especially consequential when coupled with the revelations by medical researchers and surveyors that mental health problems are far more prevalent in society than we might realize or even care to admit. In this project, we will apply machine learning techniques to mental health in tech survey data in an effort to predict individuals that will seek treatment for mental health issues and shed light on this important topic. "
   ]
  },
  {
   "cell_type": "code",
   "execution_count": 244,
   "metadata": {},
   "outputs": [
    {
     "data": {
      "text/html": [
       "<script>requirejs.config({paths: { 'plotly': ['https://cdn.plot.ly/plotly-latest.min']},});if(!window.Plotly) {{require(['plotly'],function(plotly) {window.Plotly=plotly;});}}</script>"
      ],
      "text/vnd.plotly.v1+html": [
       "<script>requirejs.config({paths: { 'plotly': ['https://cdn.plot.ly/plotly-latest.min']},});if(!window.Plotly) {{require(['plotly'],function(plotly) {window.Plotly=plotly;});}}</script>"
      ]
     },
     "metadata": {},
     "output_type": "display_data"
    }
   ],
   "source": [
    "# General\n",
    "import pandas as pd\n",
    "import numpy as np\n",
    "\n",
    "# Plotting \n",
    "from plotly.offline import download_plotlyjs, init_notebook_mode, plot, iplot\n",
    "import plotly.graph_objs as go\n",
    "init_notebook_mode(connected=True)\n",
    "import pylab as plt \n",
    "%matplotlib inline\n",
    "import seaborn as sns\n",
    "\n",
    "# Model Fitting and Validation\n",
    "from sklearn.cross_validation import train_test_split\n",
    "from sklearn import tree\n",
    "from sklearn.linear_model import LogisticRegression, LogisticRegressionCV\n",
    "from sklearn.neural_network import MLPClassifier\n",
    "from sklearn.model_selection import GridSearchCV\n",
    "from sklearn.metrics import zero_one_loss, roc_curve, roc_auc_score, confusion_matrix, mean_squared_error, accuracy_score, classification_report \n",
    "from sklearn.ensemble import GradientBoostingClassifier, BaggingClassifier, RandomForestClassifier\n",
    "\n",
    "# NLP\n",
    "from wordcloud import WordCloud, STOPWORDS\n",
    "import codecs\n",
    "import base64\n",
    "import imageio\n",
    "import nltk\n",
    "from sklearn.feature_extraction.text import CountVectorizer\n",
    "from collections import Counter\n",
    "from sklearn.decomposition import LatentDirichletAllocation"
   ]
  },
  {
   "cell_type": "markdown",
   "metadata": {},
   "source": [
    "## Read in Data and Explore"
   ]
  },
  {
   "cell_type": "code",
   "execution_count": 245,
   "metadata": {
    "collapsed": true
   },
   "outputs": [],
   "source": [
    "df = pd.read_csv('osmi-survey14.csv')"
   ]
  },
  {
   "cell_type": "code",
   "execution_count": 246,
   "metadata": {},
   "outputs": [
    {
     "data": {
      "text/html": [
       "<div>\n",
       "<style>\n",
       "    .dataframe thead tr:only-child th {\n",
       "        text-align: right;\n",
       "    }\n",
       "\n",
       "    .dataframe thead th {\n",
       "        text-align: left;\n",
       "    }\n",
       "\n",
       "    .dataframe tbody tr th {\n",
       "        vertical-align: top;\n",
       "    }\n",
       "</style>\n",
       "<table border=\"1\" class=\"dataframe\">\n",
       "  <thead>\n",
       "    <tr style=\"text-align: right;\">\n",
       "      <th></th>\n",
       "      <th>Timestamp</th>\n",
       "      <th>Age</th>\n",
       "      <th>Gender</th>\n",
       "      <th>Country</th>\n",
       "      <th>state</th>\n",
       "      <th>self_employed</th>\n",
       "      <th>family_history</th>\n",
       "      <th>treatment</th>\n",
       "      <th>work_interfere</th>\n",
       "      <th>no_employees</th>\n",
       "      <th>...</th>\n",
       "      <th>leave</th>\n",
       "      <th>mental_health_consequence</th>\n",
       "      <th>phys_health_consequence</th>\n",
       "      <th>coworkers</th>\n",
       "      <th>supervisor</th>\n",
       "      <th>mental_health_interview</th>\n",
       "      <th>phys_health_interview</th>\n",
       "      <th>mental_vs_physical</th>\n",
       "      <th>obs_consequence</th>\n",
       "      <th>comments</th>\n",
       "    </tr>\n",
       "  </thead>\n",
       "  <tbody>\n",
       "    <tr>\n",
       "      <th>0</th>\n",
       "      <td>8/27/2014 11:29</td>\n",
       "      <td>37</td>\n",
       "      <td>Female</td>\n",
       "      <td>United States</td>\n",
       "      <td>IL</td>\n",
       "      <td>NaN</td>\n",
       "      <td>No</td>\n",
       "      <td>Yes</td>\n",
       "      <td>Often</td>\n",
       "      <td>25-Jun</td>\n",
       "      <td>...</td>\n",
       "      <td>Somewhat easy</td>\n",
       "      <td>No</td>\n",
       "      <td>No</td>\n",
       "      <td>Some of them</td>\n",
       "      <td>Yes</td>\n",
       "      <td>No</td>\n",
       "      <td>Maybe</td>\n",
       "      <td>Yes</td>\n",
       "      <td>No</td>\n",
       "      <td>NaN</td>\n",
       "    </tr>\n",
       "    <tr>\n",
       "      <th>1</th>\n",
       "      <td>8/27/2014 11:29</td>\n",
       "      <td>44</td>\n",
       "      <td>M</td>\n",
       "      <td>United States</td>\n",
       "      <td>IN</td>\n",
       "      <td>NaN</td>\n",
       "      <td>No</td>\n",
       "      <td>No</td>\n",
       "      <td>Rarely</td>\n",
       "      <td>More than 1000</td>\n",
       "      <td>...</td>\n",
       "      <td>Don't know</td>\n",
       "      <td>Maybe</td>\n",
       "      <td>No</td>\n",
       "      <td>No</td>\n",
       "      <td>No</td>\n",
       "      <td>No</td>\n",
       "      <td>No</td>\n",
       "      <td>Don't know</td>\n",
       "      <td>No</td>\n",
       "      <td>NaN</td>\n",
       "    </tr>\n",
       "    <tr>\n",
       "      <th>2</th>\n",
       "      <td>8/27/2014 11:29</td>\n",
       "      <td>32</td>\n",
       "      <td>Male</td>\n",
       "      <td>Canada</td>\n",
       "      <td>NaN</td>\n",
       "      <td>NaN</td>\n",
       "      <td>No</td>\n",
       "      <td>No</td>\n",
       "      <td>Rarely</td>\n",
       "      <td>25-Jun</td>\n",
       "      <td>...</td>\n",
       "      <td>Somewhat difficult</td>\n",
       "      <td>No</td>\n",
       "      <td>No</td>\n",
       "      <td>Yes</td>\n",
       "      <td>Yes</td>\n",
       "      <td>Yes</td>\n",
       "      <td>Yes</td>\n",
       "      <td>No</td>\n",
       "      <td>No</td>\n",
       "      <td>NaN</td>\n",
       "    </tr>\n",
       "    <tr>\n",
       "      <th>3</th>\n",
       "      <td>8/27/2014 11:29</td>\n",
       "      <td>31</td>\n",
       "      <td>Male</td>\n",
       "      <td>United Kingdom</td>\n",
       "      <td>NaN</td>\n",
       "      <td>NaN</td>\n",
       "      <td>Yes</td>\n",
       "      <td>Yes</td>\n",
       "      <td>Often</td>\n",
       "      <td>26-100</td>\n",
       "      <td>...</td>\n",
       "      <td>Somewhat difficult</td>\n",
       "      <td>Yes</td>\n",
       "      <td>Yes</td>\n",
       "      <td>Some of them</td>\n",
       "      <td>No</td>\n",
       "      <td>Maybe</td>\n",
       "      <td>Maybe</td>\n",
       "      <td>No</td>\n",
       "      <td>Yes</td>\n",
       "      <td>NaN</td>\n",
       "    </tr>\n",
       "    <tr>\n",
       "      <th>4</th>\n",
       "      <td>8/27/2014 11:30</td>\n",
       "      <td>31</td>\n",
       "      <td>Male</td>\n",
       "      <td>United States</td>\n",
       "      <td>TX</td>\n",
       "      <td>NaN</td>\n",
       "      <td>No</td>\n",
       "      <td>No</td>\n",
       "      <td>Never</td>\n",
       "      <td>100-500</td>\n",
       "      <td>...</td>\n",
       "      <td>Don't know</td>\n",
       "      <td>No</td>\n",
       "      <td>No</td>\n",
       "      <td>Some of them</td>\n",
       "      <td>Yes</td>\n",
       "      <td>Yes</td>\n",
       "      <td>Yes</td>\n",
       "      <td>Don't know</td>\n",
       "      <td>No</td>\n",
       "      <td>NaN</td>\n",
       "    </tr>\n",
       "  </tbody>\n",
       "</table>\n",
       "<p>5 rows × 27 columns</p>\n",
       "</div>"
      ],
      "text/plain": [
       "         Timestamp  Age  Gender         Country state self_employed  \\\n",
       "0  8/27/2014 11:29   37  Female   United States    IL           NaN   \n",
       "1  8/27/2014 11:29   44       M   United States    IN           NaN   \n",
       "2  8/27/2014 11:29   32    Male          Canada   NaN           NaN   \n",
       "3  8/27/2014 11:29   31    Male  United Kingdom   NaN           NaN   \n",
       "4  8/27/2014 11:30   31    Male   United States    TX           NaN   \n",
       "\n",
       "  family_history treatment work_interfere    no_employees   ...     \\\n",
       "0             No       Yes          Often          25-Jun   ...      \n",
       "1             No        No         Rarely  More than 1000   ...      \n",
       "2             No        No         Rarely          25-Jun   ...      \n",
       "3            Yes       Yes          Often          26-100   ...      \n",
       "4             No        No          Never         100-500   ...      \n",
       "\n",
       "                leave mental_health_consequence phys_health_consequence  \\\n",
       "0       Somewhat easy                        No                      No   \n",
       "1          Don't know                     Maybe                      No   \n",
       "2  Somewhat difficult                        No                      No   \n",
       "3  Somewhat difficult                       Yes                     Yes   \n",
       "4          Don't know                        No                      No   \n",
       "\n",
       "      coworkers supervisor mental_health_interview phys_health_interview  \\\n",
       "0  Some of them        Yes                      No                 Maybe   \n",
       "1            No         No                      No                    No   \n",
       "2           Yes        Yes                     Yes                   Yes   \n",
       "3  Some of them         No                   Maybe                 Maybe   \n",
       "4  Some of them        Yes                     Yes                   Yes   \n",
       "\n",
       "  mental_vs_physical obs_consequence comments  \n",
       "0                Yes              No      NaN  \n",
       "1         Don't know              No      NaN  \n",
       "2                 No              No      NaN  \n",
       "3                 No             Yes      NaN  \n",
       "4         Don't know              No      NaN  \n",
       "\n",
       "[5 rows x 27 columns]"
      ]
     },
     "execution_count": 246,
     "metadata": {},
     "output_type": "execute_result"
    }
   ],
   "source": [
    "df.head()"
   ]
  },
  {
   "cell_type": "markdown",
   "metadata": {},
   "source": [
    "Initial review of dataframe indicates some cleanup will be necessary. Since this is survey data we want to look into each feature to see the variety of data reported.\n",
    "\n",
    "- Gender: Inconsistent levels (males vs M) \n",
    "- NaN in many columns might cause errors depending on model selection\n",
    "- Convert Yes/No binary features into dummies\n",
    "- Convert Yes/No/maybe features into dummies\n",
    "- work_interfere, leave: Reclassify ordinal data using dummies"
   ]
  },
  {
   "cell_type": "code",
   "execution_count": 247,
   "metadata": {
    "scrolled": true
   },
   "outputs": [
    {
     "name": "stdout",
     "output_type": "stream",
     "text": [
      "<class 'pandas.core.frame.DataFrame'>\n",
      "RangeIndex: 1259 entries, 0 to 1258\n",
      "Data columns (total 27 columns):\n",
      "Timestamp                    1259 non-null object\n",
      "Age                          1259 non-null int64\n",
      "Gender                       1259 non-null object\n",
      "Country                      1259 non-null object\n",
      "state                        744 non-null object\n",
      "self_employed                1241 non-null object\n",
      "family_history               1259 non-null object\n",
      "treatment                    1259 non-null object\n",
      "work_interfere               995 non-null object\n",
      "no_employees                 1259 non-null object\n",
      "remote_work                  1259 non-null object\n",
      "tech_company                 1259 non-null object\n",
      "benefits                     1259 non-null object\n",
      "care_options                 1259 non-null object\n",
      "wellness_program             1259 non-null object\n",
      "seek_help                    1259 non-null object\n",
      "anonymity                    1259 non-null object\n",
      "leave                        1259 non-null object\n",
      "mental_health_consequence    1259 non-null object\n",
      "phys_health_consequence      1259 non-null object\n",
      "coworkers                    1259 non-null object\n",
      "supervisor                   1259 non-null object\n",
      "mental_health_interview      1259 non-null object\n",
      "phys_health_interview        1259 non-null object\n",
      "mental_vs_physical           1259 non-null object\n",
      "obs_consequence              1259 non-null object\n",
      "comments                     164 non-null object\n",
      "dtypes: int64(1), object(26)\n",
      "memory usage: 265.6+ KB\n"
     ]
    }
   ],
   "source": [
    "df.info()"
   ]
  },
  {
   "cell_type": "markdown",
   "metadata": {},
   "source": [
    "Let's look at the unique levels in each column to see what needs reclassification or standardizing."
   ]
  },
  {
   "cell_type": "code",
   "execution_count": 248,
   "metadata": {
    "scrolled": true
   },
   "outputs": [
    {
     "data": {
      "text/plain": [
       "array(['Female', 'M', 'Male', 'male', 'female', 'm', 'Male-ish', 'maile',\n",
       "       'Trans-female', 'Cis Female', 'F', 'something kinda male?',\n",
       "       'Cis Male', 'Woman', 'f', 'Mal', 'Male (CIS)', 'queer/she/they',\n",
       "       'non-binary', 'Femake', 'woman', 'Make', 'Nah', 'All', 'Enby',\n",
       "       'fluid', 'Genderqueer', 'Female ', 'Androgyne', 'Agender',\n",
       "       'cis-female/femme', 'Guy (-ish) ^_^', 'male leaning androgynous',\n",
       "       'Male ', 'Man', 'Trans woman', 'msle', 'Neuter', 'Female (trans)',\n",
       "       'queer', 'Female (cis)', 'Mail', 'cis male', 'A little about you',\n",
       "       'Malr', 'p', 'femail', 'Cis Man',\n",
       "       'ostensibly male, unsure what that really means'], dtype=object)"
      ]
     },
     "execution_count": 248,
     "metadata": {},
     "output_type": "execute_result"
    }
   ],
   "source": [
    "df['Gender'].unique()"
   ]
  },
  {
   "cell_type": "markdown",
   "metadata": {},
   "source": [
    "This will be interesting..."
   ]
  },
  {
   "cell_type": "code",
   "execution_count": 249,
   "metadata": {
    "collapsed": true
   },
   "outputs": [],
   "source": [
    "unique_levels = {}\n",
    "for i in list(df):\n",
    "    if i not in ['Timestamp', 'comments']:\n",
    "        unique_levels[i] = df[i].unique()"
   ]
  },
  {
   "cell_type": "code",
   "execution_count": 250,
   "metadata": {},
   "outputs": [
    {
     "data": {
      "text/plain": [
       "{'Age': array([         37,          44,          32,          31,          33,\n",
       "                 35,          39,          42,          23,          29,\n",
       "                 36,          27,          46,          41,          34,\n",
       "                 30,          40,          38,          50,          24,\n",
       "                 18,          28,          26,          22,          19,\n",
       "                 25,          45,          21,         -29,          43,\n",
       "                 56,          60,          54,         329,          55,\n",
       "        99999999999,          48,          20,          57,          58,\n",
       "                 47,          62,          51,          65,          49,\n",
       "              -1726,           5,          53,          61,           8,\n",
       "                 11,          -1,          72], dtype=int64),\n",
       " 'Country': array(['United States', 'Canada', 'United Kingdom', 'Bulgaria', 'France',\n",
       "        'Portugal', 'Netherlands', 'Switzerland', 'Poland', 'Australia',\n",
       "        'Germany', 'Russia', 'Mexico', 'Brazil', 'Slovenia', 'Costa Rica',\n",
       "        'Austria', 'Ireland', 'India', 'South Africa', 'Italy', 'Sweden',\n",
       "        'Colombia', 'Latvia', 'Romania', 'Belgium', 'New Zealand',\n",
       "        'Zimbabwe', 'Spain', 'Finland', 'Uruguay', 'Israel',\n",
       "        'Bosnia and Herzegovina', 'Hungary', 'Singapore', 'Japan',\n",
       "        'Nigeria', 'Croatia', 'Norway', 'Thailand', 'Denmark',\n",
       "        'Bahamas, The', 'Greece', 'Moldova', 'Georgia', 'China',\n",
       "        'Czech Republic', 'Philippines'], dtype=object),\n",
       " 'Gender': array(['Female', 'M', 'Male', 'male', 'female', 'm', 'Male-ish', 'maile',\n",
       "        'Trans-female', 'Cis Female', 'F', 'something kinda male?',\n",
       "        'Cis Male', 'Woman', 'f', 'Mal', 'Male (CIS)', 'queer/she/they',\n",
       "        'non-binary', 'Femake', 'woman', 'Make', 'Nah', 'All', 'Enby',\n",
       "        'fluid', 'Genderqueer', 'Female ', 'Androgyne', 'Agender',\n",
       "        'cis-female/femme', 'Guy (-ish) ^_^', 'male leaning androgynous',\n",
       "        'Male ', 'Man', 'Trans woman', 'msle', 'Neuter', 'Female (trans)',\n",
       "        'queer', 'Female (cis)', 'Mail', 'cis male', 'A little about you',\n",
       "        'Malr', 'p', 'femail', 'Cis Man',\n",
       "        'ostensibly male, unsure what that really means'], dtype=object),\n",
       " 'anonymity': array(['Yes', \"Don't know\", 'No'], dtype=object),\n",
       " 'benefits': array(['Yes', \"Don't know\", 'No'], dtype=object),\n",
       " 'care_options': array(['Not sure', 'No', 'Yes'], dtype=object),\n",
       " 'coworkers': array(['Some of them', 'No', 'Yes'], dtype=object),\n",
       " 'family_history': array(['No', 'Yes'], dtype=object),\n",
       " 'leave': array(['Somewhat easy', \"Don't know\", 'Somewhat difficult',\n",
       "        'Very difficult', 'Very easy'], dtype=object),\n",
       " 'mental_health_consequence': array(['No', 'Maybe', 'Yes'], dtype=object),\n",
       " 'mental_health_interview': array(['No', 'Yes', 'Maybe'], dtype=object),\n",
       " 'mental_vs_physical': array(['Yes', \"Don't know\", 'No'], dtype=object),\n",
       " 'no_employees': array(['25-Jun', 'More than 1000', '26-100', '100-500', '5-Jan', '500-1000'], dtype=object),\n",
       " 'obs_consequence': array(['No', 'Yes'], dtype=object),\n",
       " 'phys_health_consequence': array(['No', 'Yes', 'Maybe'], dtype=object),\n",
       " 'phys_health_interview': array(['Maybe', 'No', 'Yes'], dtype=object),\n",
       " 'remote_work': array(['No', 'Yes'], dtype=object),\n",
       " 'seek_help': array(['Yes', \"Don't know\", 'No'], dtype=object),\n",
       " 'self_employed': array([nan, 'Yes', 'No'], dtype=object),\n",
       " 'state': array(['IL', 'IN', nan, 'TX', 'TN', 'MI', 'OH', 'CA', 'CT', 'MD', 'NY',\n",
       "        'NC', 'MA', 'IA', 'PA', 'WA', 'WI', 'UT', 'NM', 'OR', 'FL', 'MN',\n",
       "        'MO', 'AZ', 'CO', 'GA', 'DC', 'NE', 'WV', 'OK', 'KS', 'VA', 'NH',\n",
       "        'KY', 'AL', 'NV', 'NJ', 'SC', 'VT', 'SD', 'ID', 'MS', 'RI', 'WY',\n",
       "        'LA', 'ME'], dtype=object),\n",
       " 'supervisor': array(['Yes', 'No', 'Some of them'], dtype=object),\n",
       " 'tech_company': array(['Yes', 'No'], dtype=object),\n",
       " 'treatment': array(['Yes', 'No'], dtype=object),\n",
       " 'wellness_program': array(['No', \"Don't know\", 'Yes'], dtype=object),\n",
       " 'work_interfere': array(['Often', 'Rarely', 'Never', 'Sometimes', nan], dtype=object)}"
      ]
     },
     "execution_count": 250,
     "metadata": {},
     "output_type": "execute_result"
    }
   ],
   "source": [
    "unique_levels"
   ]
  },
  {
   "cell_type": "markdown",
   "metadata": {},
   "source": [
    "Unique values per feature do not look as bad as initially thought. \n",
    "\n",
    "- *Age* has some unexpected values, negatives, very large, very small given this is a workforce survey. \n",
    "- *Gender* has typogrpahic errors and a wide variety of responses but can be simplified using logical groupings: Male, Female, Non-Binary. Grouping everything not male/female into non-binary likely has drawbacks both socially and statistically. The incidence of these values is low in this dataset however and rather than have many small class sizes, aggregating helps us retain this information where there are relationships between datapoints.\n",
    "- *No_employees* looks to have suffered from a reformatting issue. 5-Jan is likely 1-5, 25-Jun is likely 6-25"
   ]
  },
  {
   "cell_type": "markdown",
   "metadata": {},
   "source": [
    "### Age\n",
    "\n",
    "For the Ages that look unusual, what does the rest of the data look like? "
   ]
  },
  {
   "cell_type": "code",
   "execution_count": 251,
   "metadata": {},
   "outputs": [
    {
     "data": {
      "text/html": [
       "<div>\n",
       "<style>\n",
       "    .dataframe thead tr:only-child th {\n",
       "        text-align: right;\n",
       "    }\n",
       "\n",
       "    .dataframe thead th {\n",
       "        text-align: left;\n",
       "    }\n",
       "\n",
       "    .dataframe tbody tr th {\n",
       "        vertical-align: top;\n",
       "    }\n",
       "</style>\n",
       "<table border=\"1\" class=\"dataframe\">\n",
       "  <thead>\n",
       "    <tr style=\"text-align: right;\">\n",
       "      <th></th>\n",
       "      <th>Timestamp</th>\n",
       "      <th>Age</th>\n",
       "      <th>Gender</th>\n",
       "      <th>Country</th>\n",
       "      <th>state</th>\n",
       "      <th>self_employed</th>\n",
       "      <th>family_history</th>\n",
       "      <th>treatment</th>\n",
       "      <th>work_interfere</th>\n",
       "      <th>no_employees</th>\n",
       "      <th>...</th>\n",
       "      <th>leave</th>\n",
       "      <th>mental_health_consequence</th>\n",
       "      <th>phys_health_consequence</th>\n",
       "      <th>coworkers</th>\n",
       "      <th>supervisor</th>\n",
       "      <th>mental_health_interview</th>\n",
       "      <th>phys_health_interview</th>\n",
       "      <th>mental_vs_physical</th>\n",
       "      <th>obs_consequence</th>\n",
       "      <th>comments</th>\n",
       "    </tr>\n",
       "  </thead>\n",
       "  <tbody>\n",
       "    <tr>\n",
       "      <th>143</th>\n",
       "      <td>8/27/2014 12:39</td>\n",
       "      <td>-29</td>\n",
       "      <td>Male</td>\n",
       "      <td>United States</td>\n",
       "      <td>MN</td>\n",
       "      <td>No</td>\n",
       "      <td>No</td>\n",
       "      <td>No</td>\n",
       "      <td>NaN</td>\n",
       "      <td>More than 1000</td>\n",
       "      <td>...</td>\n",
       "      <td>Don't know</td>\n",
       "      <td>No</td>\n",
       "      <td>No</td>\n",
       "      <td>Some of them</td>\n",
       "      <td>Yes</td>\n",
       "      <td>No</td>\n",
       "      <td>No</td>\n",
       "      <td>Don't know</td>\n",
       "      <td>No</td>\n",
       "      <td>NaN</td>\n",
       "    </tr>\n",
       "    <tr>\n",
       "      <th>364</th>\n",
       "      <td>8/27/2014 15:05</td>\n",
       "      <td>329</td>\n",
       "      <td>Male</td>\n",
       "      <td>United States</td>\n",
       "      <td>OH</td>\n",
       "      <td>No</td>\n",
       "      <td>No</td>\n",
       "      <td>Yes</td>\n",
       "      <td>Often</td>\n",
       "      <td>25-Jun</td>\n",
       "      <td>...</td>\n",
       "      <td>Don't know</td>\n",
       "      <td>Maybe</td>\n",
       "      <td>No</td>\n",
       "      <td>Some of them</td>\n",
       "      <td>No</td>\n",
       "      <td>No</td>\n",
       "      <td>No</td>\n",
       "      <td>No</td>\n",
       "      <td>No</td>\n",
       "      <td>NaN</td>\n",
       "    </tr>\n",
       "    <tr>\n",
       "      <th>390</th>\n",
       "      <td>8/27/2014 15:24</td>\n",
       "      <td>99999999999</td>\n",
       "      <td>All</td>\n",
       "      <td>Zimbabwe</td>\n",
       "      <td>NaN</td>\n",
       "      <td>Yes</td>\n",
       "      <td>Yes</td>\n",
       "      <td>Yes</td>\n",
       "      <td>Often</td>\n",
       "      <td>5-Jan</td>\n",
       "      <td>...</td>\n",
       "      <td>Very difficult</td>\n",
       "      <td>Yes</td>\n",
       "      <td>Yes</td>\n",
       "      <td>No</td>\n",
       "      <td>No</td>\n",
       "      <td>Yes</td>\n",
       "      <td>No</td>\n",
       "      <td>No</td>\n",
       "      <td>Yes</td>\n",
       "      <td>NaN</td>\n",
       "    </tr>\n",
       "    <tr>\n",
       "      <th>715</th>\n",
       "      <td>8/28/2014 10:07</td>\n",
       "      <td>-1726</td>\n",
       "      <td>male</td>\n",
       "      <td>United Kingdom</td>\n",
       "      <td>NaN</td>\n",
       "      <td>No</td>\n",
       "      <td>No</td>\n",
       "      <td>Yes</td>\n",
       "      <td>Sometimes</td>\n",
       "      <td>26-100</td>\n",
       "      <td>...</td>\n",
       "      <td>Somewhat difficult</td>\n",
       "      <td>Yes</td>\n",
       "      <td>No</td>\n",
       "      <td>No</td>\n",
       "      <td>No</td>\n",
       "      <td>No</td>\n",
       "      <td>Maybe</td>\n",
       "      <td>Don't know</td>\n",
       "      <td>No</td>\n",
       "      <td>NaN</td>\n",
       "    </tr>\n",
       "    <tr>\n",
       "      <th>734</th>\n",
       "      <td>8/28/2014 10:35</td>\n",
       "      <td>5</td>\n",
       "      <td>Male</td>\n",
       "      <td>United States</td>\n",
       "      <td>OH</td>\n",
       "      <td>No</td>\n",
       "      <td>No</td>\n",
       "      <td>No</td>\n",
       "      <td>NaN</td>\n",
       "      <td>100-500</td>\n",
       "      <td>...</td>\n",
       "      <td>Somewhat easy</td>\n",
       "      <td>No</td>\n",
       "      <td>No</td>\n",
       "      <td>Yes</td>\n",
       "      <td>Yes</td>\n",
       "      <td>No</td>\n",
       "      <td>No</td>\n",
       "      <td>Yes</td>\n",
       "      <td>No</td>\n",
       "      <td>We had a developer suffer from depression and ...</td>\n",
       "    </tr>\n",
       "    <tr>\n",
       "      <th>989</th>\n",
       "      <td>8/29/2014 09:10</td>\n",
       "      <td>8</td>\n",
       "      <td>A little about you</td>\n",
       "      <td>Bahamas, The</td>\n",
       "      <td>IL</td>\n",
       "      <td>Yes</td>\n",
       "      <td>Yes</td>\n",
       "      <td>Yes</td>\n",
       "      <td>Often</td>\n",
       "      <td>5-Jan</td>\n",
       "      <td>...</td>\n",
       "      <td>Very easy</td>\n",
       "      <td>Yes</td>\n",
       "      <td>Yes</td>\n",
       "      <td>Yes</td>\n",
       "      <td>Yes</td>\n",
       "      <td>Yes</td>\n",
       "      <td>Yes</td>\n",
       "      <td>Yes</td>\n",
       "      <td>Yes</td>\n",
       "      <td></td>\n",
       "    </tr>\n",
       "    <tr>\n",
       "      <th>1090</th>\n",
       "      <td>8/29/2014 17:26</td>\n",
       "      <td>11</td>\n",
       "      <td>male</td>\n",
       "      <td>United States</td>\n",
       "      <td>OH</td>\n",
       "      <td>Yes</td>\n",
       "      <td>No</td>\n",
       "      <td>No</td>\n",
       "      <td>Never</td>\n",
       "      <td>5-Jan</td>\n",
       "      <td>...</td>\n",
       "      <td>Very easy</td>\n",
       "      <td>No</td>\n",
       "      <td>No</td>\n",
       "      <td>Some of them</td>\n",
       "      <td>Some of them</td>\n",
       "      <td>No</td>\n",
       "      <td>Maybe</td>\n",
       "      <td>Yes</td>\n",
       "      <td>No</td>\n",
       "      <td>NaN</td>\n",
       "    </tr>\n",
       "    <tr>\n",
       "      <th>1127</th>\n",
       "      <td>8/30/2014 20:55</td>\n",
       "      <td>-1</td>\n",
       "      <td>p</td>\n",
       "      <td>United States</td>\n",
       "      <td>AL</td>\n",
       "      <td>Yes</td>\n",
       "      <td>Yes</td>\n",
       "      <td>Yes</td>\n",
       "      <td>Often</td>\n",
       "      <td>5-Jan</td>\n",
       "      <td>...</td>\n",
       "      <td>Very easy</td>\n",
       "      <td>Yes</td>\n",
       "      <td>Yes</td>\n",
       "      <td>Yes</td>\n",
       "      <td>Yes</td>\n",
       "      <td>Yes</td>\n",
       "      <td>Yes</td>\n",
       "      <td>Yes</td>\n",
       "      <td>Yes</td>\n",
       "      <td>password: testered</td>\n",
       "    </tr>\n",
       "  </tbody>\n",
       "</table>\n",
       "<p>8 rows × 27 columns</p>\n",
       "</div>"
      ],
      "text/plain": [
       "            Timestamp          Age              Gender         Country state  \\\n",
       "143   8/27/2014 12:39          -29                Male   United States    MN   \n",
       "364   8/27/2014 15:05          329                Male   United States    OH   \n",
       "390   8/27/2014 15:24  99999999999                 All        Zimbabwe   NaN   \n",
       "715   8/28/2014 10:07        -1726                male  United Kingdom   NaN   \n",
       "734   8/28/2014 10:35            5                Male   United States    OH   \n",
       "989   8/29/2014 09:10            8  A little about you    Bahamas, The    IL   \n",
       "1090  8/29/2014 17:26           11                male   United States    OH   \n",
       "1127  8/30/2014 20:55           -1                   p   United States    AL   \n",
       "\n",
       "     self_employed family_history treatment work_interfere    no_employees  \\\n",
       "143             No             No        No            NaN  More than 1000   \n",
       "364             No             No       Yes          Often          25-Jun   \n",
       "390            Yes            Yes       Yes          Often           5-Jan   \n",
       "715             No             No       Yes      Sometimes          26-100   \n",
       "734             No             No        No            NaN         100-500   \n",
       "989            Yes            Yes       Yes          Often           5-Jan   \n",
       "1090           Yes             No        No          Never           5-Jan   \n",
       "1127           Yes            Yes       Yes          Often           5-Jan   \n",
       "\n",
       "                            ...                                       leave  \\\n",
       "143                         ...                                  Don't know   \n",
       "364                         ...                                  Don't know   \n",
       "390                         ...                              Very difficult   \n",
       "715                         ...                          Somewhat difficult   \n",
       "734                         ...                               Somewhat easy   \n",
       "989                         ...                                   Very easy   \n",
       "1090                        ...                                   Very easy   \n",
       "1127                        ...                                   Very easy   \n",
       "\n",
       "     mental_health_consequence phys_health_consequence     coworkers  \\\n",
       "143                         No                      No  Some of them   \n",
       "364                      Maybe                      No  Some of them   \n",
       "390                        Yes                     Yes            No   \n",
       "715                        Yes                      No            No   \n",
       "734                         No                      No           Yes   \n",
       "989                        Yes                     Yes           Yes   \n",
       "1090                        No                      No  Some of them   \n",
       "1127                       Yes                     Yes           Yes   \n",
       "\n",
       "        supervisor mental_health_interview phys_health_interview  \\\n",
       "143            Yes                      No                    No   \n",
       "364             No                      No                    No   \n",
       "390             No                     Yes                    No   \n",
       "715             No                      No                 Maybe   \n",
       "734            Yes                      No                    No   \n",
       "989            Yes                     Yes                   Yes   \n",
       "1090  Some of them                      No                 Maybe   \n",
       "1127           Yes                     Yes                   Yes   \n",
       "\n",
       "     mental_vs_physical obs_consequence  \\\n",
       "143          Don't know              No   \n",
       "364                  No              No   \n",
       "390                  No             Yes   \n",
       "715          Don't know              No   \n",
       "734                 Yes              No   \n",
       "989                 Yes             Yes   \n",
       "1090                Yes              No   \n",
       "1127                Yes             Yes   \n",
       "\n",
       "                                               comments  \n",
       "143                                                 NaN  \n",
       "364                                                 NaN  \n",
       "390                                                 NaN  \n",
       "715                                                 NaN  \n",
       "734   We had a developer suffer from depression and ...  \n",
       "989                                                      \n",
       "1090                                                NaN  \n",
       "1127                                 password: testered  \n",
       "\n",
       "[8 rows x 27 columns]"
      ]
     },
     "execution_count": 251,
     "metadata": {},
     "output_type": "execute_result"
    }
   ],
   "source": [
    "df.loc[df['Age'].isin([99999999999, -29, -1726, 5, 8, 11, -1, 329])]"
   ]
  },
  {
   "cell_type": "markdown",
   "metadata": {},
   "source": [
    "Row 989 and 1127 will just be dropped based on likely erroneous data in multiple columns (age, gender, country/state, and yes's across the board).\n",
    "\n",
    "Row 143 Age of -29 could reasonably be a typo for 29. "
   ]
  },
  {
   "cell_type": "code",
   "execution_count": 252,
   "metadata": {
    "collapsed": true
   },
   "outputs": [],
   "source": [
    "df = df.loc[~df['Age'].isin([8, -1])]\n",
    "df['Age'].loc[df['Age'] == -29] = 29"
   ]
  },
  {
   "cell_type": "code",
   "execution_count": 253,
   "metadata": {},
   "outputs": [
    {
     "data": {
      "text/html": [
       "<div>\n",
       "<style>\n",
       "    .dataframe thead tr:only-child th {\n",
       "        text-align: right;\n",
       "    }\n",
       "\n",
       "    .dataframe thead th {\n",
       "        text-align: left;\n",
       "    }\n",
       "\n",
       "    .dataframe tbody tr th {\n",
       "        vertical-align: top;\n",
       "    }\n",
       "</style>\n",
       "<table border=\"1\" class=\"dataframe\">\n",
       "  <thead>\n",
       "    <tr style=\"text-align: right;\">\n",
       "      <th></th>\n",
       "      <th>Timestamp</th>\n",
       "      <th>Age</th>\n",
       "      <th>Gender</th>\n",
       "      <th>Country</th>\n",
       "      <th>state</th>\n",
       "      <th>self_employed</th>\n",
       "      <th>family_history</th>\n",
       "      <th>treatment</th>\n",
       "      <th>work_interfere</th>\n",
       "      <th>no_employees</th>\n",
       "      <th>...</th>\n",
       "      <th>leave</th>\n",
       "      <th>mental_health_consequence</th>\n",
       "      <th>phys_health_consequence</th>\n",
       "      <th>coworkers</th>\n",
       "      <th>supervisor</th>\n",
       "      <th>mental_health_interview</th>\n",
       "      <th>phys_health_interview</th>\n",
       "      <th>mental_vs_physical</th>\n",
       "      <th>obs_consequence</th>\n",
       "      <th>comments</th>\n",
       "    </tr>\n",
       "  </thead>\n",
       "  <tbody>\n",
       "    <tr>\n",
       "      <th>364</th>\n",
       "      <td>8/27/2014 15:05</td>\n",
       "      <td>329</td>\n",
       "      <td>Male</td>\n",
       "      <td>United States</td>\n",
       "      <td>OH</td>\n",
       "      <td>No</td>\n",
       "      <td>No</td>\n",
       "      <td>Yes</td>\n",
       "      <td>Often</td>\n",
       "      <td>25-Jun</td>\n",
       "      <td>...</td>\n",
       "      <td>Don't know</td>\n",
       "      <td>Maybe</td>\n",
       "      <td>No</td>\n",
       "      <td>Some of them</td>\n",
       "      <td>No</td>\n",
       "      <td>No</td>\n",
       "      <td>No</td>\n",
       "      <td>No</td>\n",
       "      <td>No</td>\n",
       "      <td>NaN</td>\n",
       "    </tr>\n",
       "    <tr>\n",
       "      <th>390</th>\n",
       "      <td>8/27/2014 15:24</td>\n",
       "      <td>99999999999</td>\n",
       "      <td>All</td>\n",
       "      <td>Zimbabwe</td>\n",
       "      <td>NaN</td>\n",
       "      <td>Yes</td>\n",
       "      <td>Yes</td>\n",
       "      <td>Yes</td>\n",
       "      <td>Often</td>\n",
       "      <td>5-Jan</td>\n",
       "      <td>...</td>\n",
       "      <td>Very difficult</td>\n",
       "      <td>Yes</td>\n",
       "      <td>Yes</td>\n",
       "      <td>No</td>\n",
       "      <td>No</td>\n",
       "      <td>Yes</td>\n",
       "      <td>No</td>\n",
       "      <td>No</td>\n",
       "      <td>Yes</td>\n",
       "      <td>NaN</td>\n",
       "    </tr>\n",
       "    <tr>\n",
       "      <th>715</th>\n",
       "      <td>8/28/2014 10:07</td>\n",
       "      <td>-1726</td>\n",
       "      <td>male</td>\n",
       "      <td>United Kingdom</td>\n",
       "      <td>NaN</td>\n",
       "      <td>No</td>\n",
       "      <td>No</td>\n",
       "      <td>Yes</td>\n",
       "      <td>Sometimes</td>\n",
       "      <td>26-100</td>\n",
       "      <td>...</td>\n",
       "      <td>Somewhat difficult</td>\n",
       "      <td>Yes</td>\n",
       "      <td>No</td>\n",
       "      <td>No</td>\n",
       "      <td>No</td>\n",
       "      <td>No</td>\n",
       "      <td>Maybe</td>\n",
       "      <td>Don't know</td>\n",
       "      <td>No</td>\n",
       "      <td>NaN</td>\n",
       "    </tr>\n",
       "    <tr>\n",
       "      <th>734</th>\n",
       "      <td>8/28/2014 10:35</td>\n",
       "      <td>5</td>\n",
       "      <td>Male</td>\n",
       "      <td>United States</td>\n",
       "      <td>OH</td>\n",
       "      <td>No</td>\n",
       "      <td>No</td>\n",
       "      <td>No</td>\n",
       "      <td>NaN</td>\n",
       "      <td>100-500</td>\n",
       "      <td>...</td>\n",
       "      <td>Somewhat easy</td>\n",
       "      <td>No</td>\n",
       "      <td>No</td>\n",
       "      <td>Yes</td>\n",
       "      <td>Yes</td>\n",
       "      <td>No</td>\n",
       "      <td>No</td>\n",
       "      <td>Yes</td>\n",
       "      <td>No</td>\n",
       "      <td>We had a developer suffer from depression and ...</td>\n",
       "    </tr>\n",
       "    <tr>\n",
       "      <th>1090</th>\n",
       "      <td>8/29/2014 17:26</td>\n",
       "      <td>11</td>\n",
       "      <td>male</td>\n",
       "      <td>United States</td>\n",
       "      <td>OH</td>\n",
       "      <td>Yes</td>\n",
       "      <td>No</td>\n",
       "      <td>No</td>\n",
       "      <td>Never</td>\n",
       "      <td>5-Jan</td>\n",
       "      <td>...</td>\n",
       "      <td>Very easy</td>\n",
       "      <td>No</td>\n",
       "      <td>No</td>\n",
       "      <td>Some of them</td>\n",
       "      <td>Some of them</td>\n",
       "      <td>No</td>\n",
       "      <td>Maybe</td>\n",
       "      <td>Yes</td>\n",
       "      <td>No</td>\n",
       "      <td>NaN</td>\n",
       "    </tr>\n",
       "  </tbody>\n",
       "</table>\n",
       "<p>5 rows × 27 columns</p>\n",
       "</div>"
      ],
      "text/plain": [
       "            Timestamp          Age Gender         Country state self_employed  \\\n",
       "364   8/27/2014 15:05          329   Male   United States    OH            No   \n",
       "390   8/27/2014 15:24  99999999999    All        Zimbabwe   NaN           Yes   \n",
       "715   8/28/2014 10:07        -1726   male  United Kingdom   NaN            No   \n",
       "734   8/28/2014 10:35            5   Male   United States    OH            No   \n",
       "1090  8/29/2014 17:26           11   male   United States    OH           Yes   \n",
       "\n",
       "     family_history treatment work_interfere no_employees  \\\n",
       "364              No       Yes          Often       25-Jun   \n",
       "390             Yes       Yes          Often        5-Jan   \n",
       "715              No       Yes      Sometimes       26-100   \n",
       "734              No        No            NaN      100-500   \n",
       "1090             No        No          Never        5-Jan   \n",
       "\n",
       "                            ...                                       leave  \\\n",
       "364                         ...                                  Don't know   \n",
       "390                         ...                              Very difficult   \n",
       "715                         ...                          Somewhat difficult   \n",
       "734                         ...                               Somewhat easy   \n",
       "1090                        ...                                   Very easy   \n",
       "\n",
       "     mental_health_consequence phys_health_consequence     coworkers  \\\n",
       "364                      Maybe                      No  Some of them   \n",
       "390                        Yes                     Yes            No   \n",
       "715                        Yes                      No            No   \n",
       "734                         No                      No           Yes   \n",
       "1090                        No                      No  Some of them   \n",
       "\n",
       "        supervisor mental_health_interview phys_health_interview  \\\n",
       "364             No                      No                    No   \n",
       "390             No                     Yes                    No   \n",
       "715             No                      No                 Maybe   \n",
       "734            Yes                      No                    No   \n",
       "1090  Some of them                      No                 Maybe   \n",
       "\n",
       "     mental_vs_physical obs_consequence  \\\n",
       "364                  No              No   \n",
       "390                  No             Yes   \n",
       "715          Don't know              No   \n",
       "734                 Yes              No   \n",
       "1090                Yes              No   \n",
       "\n",
       "                                               comments  \n",
       "364                                                 NaN  \n",
       "390                                                 NaN  \n",
       "715                                                 NaN  \n",
       "734   We had a developer suffer from depression and ...  \n",
       "1090                                                NaN  \n",
       "\n",
       "[5 rows x 27 columns]"
      ]
     },
     "execution_count": 253,
     "metadata": {},
     "output_type": "execute_result"
    }
   ],
   "source": [
    "df.loc[df['Age'].isin([99999999999, -29, -1726, 5, 8, 11, -1, 329])]"
   ]
  },
  {
   "cell_type": "markdown",
   "metadata": {},
   "source": [
    "For the remaining data points we simply remove them. \n",
    "\n",
    "Originally hoped to use np's missing values for age since there is valuable data in the other columns, however the missing values caused problems in model fitting. Could impute values instead of dropping these rows."
   ]
  },
  {
   "cell_type": "code",
   "execution_count": 254,
   "metadata": {
    "collapsed": true
   },
   "outputs": [],
   "source": [
    "#df['Age'].loc[df['Age'].isin([99999999999, -29, -1726, 5, 8, 11, -1, 329])] = np.nan \n",
    "df = df[~df['Age'].isin([99999999999, -29, -1726, 5, 8, 11, -1, 329])]"
   ]
  },
  {
   "cell_type": "code",
   "execution_count": 255,
   "metadata": {
    "scrolled": true
   },
   "outputs": [
    {
     "data": {
      "text/plain": [
       "array([37, 44, 32, 31, 33, 35, 39, 42, 23, 29, 36, 27, 46, 41, 34, 30, 40,\n",
       "       38, 50, 24, 18, 28, 26, 22, 19, 25, 45, 21, 43, 56, 60, 54, 55, 48,\n",
       "       20, 57, 58, 47, 62, 51, 65, 49, 53, 61, 72], dtype=int64)"
      ]
     },
     "execution_count": 255,
     "metadata": {},
     "output_type": "execute_result"
    }
   ],
   "source": [
    "df['Age'].unique()"
   ]
  },
  {
   "cell_type": "markdown",
   "metadata": {},
   "source": [
    "### Gender\n",
    "\n",
    "Standardize male and female gender."
   ]
  },
  {
   "cell_type": "code",
   "execution_count": 256,
   "metadata": {},
   "outputs": [
    {
     "data": {
      "text/plain": [
       "array(['Female', 'M', 'Male', 'male', 'female', 'm', 'Male-ish', 'maile',\n",
       "       'Trans-female', 'Cis Female', 'F', 'something kinda male?',\n",
       "       'Cis Male', 'Woman', 'f', 'Mal', 'Male (CIS)', 'queer/she/they',\n",
       "       'non-binary', 'Femake', 'woman', 'Make', 'Nah', 'All', 'Enby',\n",
       "       'fluid', 'Genderqueer', 'Female ', 'Androgyne', 'Agender',\n",
       "       'cis-female/femme', 'Guy (-ish) ^_^', 'male leaning androgynous',\n",
       "       'Male ', 'Man', 'Trans woman', 'msle', 'Neuter', 'Female (trans)',\n",
       "       'queer', 'Female (cis)', 'Mail', 'cis male', 'A little about you',\n",
       "       'Malr', 'p', 'femail', 'Cis Man',\n",
       "       'ostensibly male, unsure what that really means'], dtype=object)"
      ]
     },
     "execution_count": 256,
     "metadata": {},
     "output_type": "execute_result"
    }
   ],
   "source": [
    "unique_levels['Gender']"
   ]
  },
  {
   "cell_type": "code",
   "execution_count": 257,
   "metadata": {
    "collapsed": true
   },
   "outputs": [],
   "source": [
    "df['Gender'].loc[df['Gender'].isin(['female', 'Cis Female', 'Woman', 'F', 'f', 'Femake', 'woman', 'Female ', 'cis-female/femme', 'Female (cis)', 'femail'])] = 'Female'"
   ]
  },
  {
   "cell_type": "code",
   "execution_count": 258,
   "metadata": {},
   "outputs": [
    {
     "name": "stderr",
     "output_type": "stream",
     "text": [
      "C:\\Users\\cmill\\Anaconda3\\lib\\site-packages\\pandas\\core\\indexing.py:179: SettingWithCopyWarning:\n",
      "\n",
      "\n",
      "A value is trying to be set on a copy of a slice from a DataFrame\n",
      "\n",
      "See the caveats in the documentation: http://pandas.pydata.org/pandas-docs/stable/indexing.html#indexing-view-versus-copy\n",
      "\n"
     ]
    }
   ],
   "source": [
    "df['Gender'].loc[df['Gender'].isin(['M', 'male', 'm', 'maile', 'Cis Male', 'Mal', 'Male (CIS)', 'Make', 'Male ', 'Man', 'msle', 'Mail', 'cis male', 'Malr', 'Cis Man'])] = 'Male'"
   ]
  },
  {
   "cell_type": "code",
   "execution_count": 259,
   "metadata": {},
   "outputs": [
    {
     "name": "stderr",
     "output_type": "stream",
     "text": [
      "C:\\Users\\cmill\\Anaconda3\\lib\\site-packages\\pandas\\core\\indexing.py:179: SettingWithCopyWarning:\n",
      "\n",
      "\n",
      "A value is trying to be set on a copy of a slice from a DataFrame\n",
      "\n",
      "See the caveats in the documentation: http://pandas.pydata.org/pandas-docs/stable/indexing.html#indexing-view-versus-copy\n",
      "\n"
     ]
    }
   ],
   "source": [
    "df['Gender'].loc[df['Gender'].isin([ 'Trans-female', 'Male-ish',\n",
    "       'something kinda male?', 'queer/she/they', 'non-binary', 'Nah',\n",
    "       'All', 'Enby', 'fluid', 'Genderqueer', 'Androgyne', 'Agender',\n",
    "       'Guy (-ish) ^_^', 'male leaning androgynous', 'Trans woman',\n",
    "       'Neuter', 'Female (trans)', 'queer',\n",
    "       'ostensibly male, unsure what that really means'])] = 'Non-Binary'"
   ]
  },
  {
   "cell_type": "code",
   "execution_count": 260,
   "metadata": {},
   "outputs": [
    {
     "data": {
      "text/plain": [
       "array(['Female', 'Male', 'Non-Binary'], dtype=object)"
      ]
     },
     "execution_count": 260,
     "metadata": {},
     "output_type": "execute_result"
    }
   ],
   "source": [
    "df['Gender'].unique()"
   ]
  },
  {
   "cell_type": "markdown",
   "metadata": {},
   "source": [
    "### No_Employees"
   ]
  },
  {
   "cell_type": "code",
   "execution_count": 261,
   "metadata": {},
   "outputs": [
    {
     "data": {
      "text/plain": [
       "array(['25-Jun', 'More than 1000', '26-100', '100-500', '5-Jan', '500-1000'], dtype=object)"
      ]
     },
     "execution_count": 261,
     "metadata": {},
     "output_type": "execute_result"
    }
   ],
   "source": [
    "unique_levels['no_employees']"
   ]
  },
  {
   "cell_type": "code",
   "execution_count": 262,
   "metadata": {},
   "outputs": [
    {
     "name": "stderr",
     "output_type": "stream",
     "text": [
      "C:\\Users\\cmill\\Anaconda3\\lib\\site-packages\\pandas\\core\\indexing.py:179: SettingWithCopyWarning:\n",
      "\n",
      "\n",
      "A value is trying to be set on a copy of a slice from a DataFrame\n",
      "\n",
      "See the caveats in the documentation: http://pandas.pydata.org/pandas-docs/stable/indexing.html#indexing-view-versus-copy\n",
      "\n"
     ]
    }
   ],
   "source": [
    "df['no_employees'].loc[df['no_employees'] == '25-Jun'] = '6-25'\n",
    "df['no_employees'].loc[df['no_employees'] == '5-Jan'] = '1-5'"
   ]
  },
  {
   "cell_type": "code",
   "execution_count": 263,
   "metadata": {},
   "outputs": [
    {
     "data": {
      "text/plain": [
       "array(['6-25', 'More than 1000', '26-100', '100-500', '1-5', '500-1000'], dtype=object)"
      ]
     },
     "execution_count": 263,
     "metadata": {},
     "output_type": "execute_result"
    }
   ],
   "source": [
    "df['no_employees'].unique()"
   ]
  },
  {
   "cell_type": "markdown",
   "metadata": {},
   "source": [
    "### Missing Values"
   ]
  },
  {
   "cell_type": "code",
   "execution_count": 264,
   "metadata": {},
   "outputs": [
    {
     "data": {
      "text/html": [
       "<div>\n",
       "<style>\n",
       "    .dataframe thead tr:only-child th {\n",
       "        text-align: right;\n",
       "    }\n",
       "\n",
       "    .dataframe thead th {\n",
       "        text-align: left;\n",
       "    }\n",
       "\n",
       "    .dataframe tbody tr th {\n",
       "        vertical-align: top;\n",
       "    }\n",
       "</style>\n",
       "<table border=\"1\" class=\"dataframe\">\n",
       "  <thead>\n",
       "    <tr style=\"text-align: right;\">\n",
       "      <th></th>\n",
       "      <th>Timestamp</th>\n",
       "      <th>Age</th>\n",
       "      <th>Gender</th>\n",
       "      <th>Country</th>\n",
       "      <th>self_employed</th>\n",
       "      <th>family_history</th>\n",
       "      <th>treatment</th>\n",
       "      <th>work_interfere</th>\n",
       "      <th>no_employees</th>\n",
       "      <th>remote_work</th>\n",
       "      <th>...</th>\n",
       "      <th>anonymity</th>\n",
       "      <th>leave</th>\n",
       "      <th>mental_health_consequence</th>\n",
       "      <th>phys_health_consequence</th>\n",
       "      <th>coworkers</th>\n",
       "      <th>supervisor</th>\n",
       "      <th>mental_health_interview</th>\n",
       "      <th>phys_health_interview</th>\n",
       "      <th>mental_vs_physical</th>\n",
       "      <th>obs_consequence</th>\n",
       "    </tr>\n",
       "  </thead>\n",
       "  <tbody>\n",
       "    <tr>\n",
       "      <th>0</th>\n",
       "      <td>8/27/2014 11:29</td>\n",
       "      <td>37</td>\n",
       "      <td>Female</td>\n",
       "      <td>United States</td>\n",
       "      <td>NaN</td>\n",
       "      <td>No</td>\n",
       "      <td>Yes</td>\n",
       "      <td>Often</td>\n",
       "      <td>6-25</td>\n",
       "      <td>No</td>\n",
       "      <td>...</td>\n",
       "      <td>Yes</td>\n",
       "      <td>Somewhat easy</td>\n",
       "      <td>No</td>\n",
       "      <td>No</td>\n",
       "      <td>Some of them</td>\n",
       "      <td>Yes</td>\n",
       "      <td>No</td>\n",
       "      <td>Maybe</td>\n",
       "      <td>Yes</td>\n",
       "      <td>No</td>\n",
       "    </tr>\n",
       "    <tr>\n",
       "      <th>1</th>\n",
       "      <td>8/27/2014 11:29</td>\n",
       "      <td>44</td>\n",
       "      <td>Male</td>\n",
       "      <td>United States</td>\n",
       "      <td>NaN</td>\n",
       "      <td>No</td>\n",
       "      <td>No</td>\n",
       "      <td>Rarely</td>\n",
       "      <td>More than 1000</td>\n",
       "      <td>No</td>\n",
       "      <td>...</td>\n",
       "      <td>Don't know</td>\n",
       "      <td>Don't know</td>\n",
       "      <td>Maybe</td>\n",
       "      <td>No</td>\n",
       "      <td>No</td>\n",
       "      <td>No</td>\n",
       "      <td>No</td>\n",
       "      <td>No</td>\n",
       "      <td>Don't know</td>\n",
       "      <td>No</td>\n",
       "    </tr>\n",
       "    <tr>\n",
       "      <th>2</th>\n",
       "      <td>8/27/2014 11:29</td>\n",
       "      <td>32</td>\n",
       "      <td>Male</td>\n",
       "      <td>Canada</td>\n",
       "      <td>NaN</td>\n",
       "      <td>No</td>\n",
       "      <td>No</td>\n",
       "      <td>Rarely</td>\n",
       "      <td>6-25</td>\n",
       "      <td>No</td>\n",
       "      <td>...</td>\n",
       "      <td>Don't know</td>\n",
       "      <td>Somewhat difficult</td>\n",
       "      <td>No</td>\n",
       "      <td>No</td>\n",
       "      <td>Yes</td>\n",
       "      <td>Yes</td>\n",
       "      <td>Yes</td>\n",
       "      <td>Yes</td>\n",
       "      <td>No</td>\n",
       "      <td>No</td>\n",
       "    </tr>\n",
       "    <tr>\n",
       "      <th>3</th>\n",
       "      <td>8/27/2014 11:29</td>\n",
       "      <td>31</td>\n",
       "      <td>Male</td>\n",
       "      <td>United Kingdom</td>\n",
       "      <td>NaN</td>\n",
       "      <td>Yes</td>\n",
       "      <td>Yes</td>\n",
       "      <td>Often</td>\n",
       "      <td>26-100</td>\n",
       "      <td>No</td>\n",
       "      <td>...</td>\n",
       "      <td>No</td>\n",
       "      <td>Somewhat difficult</td>\n",
       "      <td>Yes</td>\n",
       "      <td>Yes</td>\n",
       "      <td>Some of them</td>\n",
       "      <td>No</td>\n",
       "      <td>Maybe</td>\n",
       "      <td>Maybe</td>\n",
       "      <td>No</td>\n",
       "      <td>Yes</td>\n",
       "    </tr>\n",
       "    <tr>\n",
       "      <th>4</th>\n",
       "      <td>8/27/2014 11:30</td>\n",
       "      <td>31</td>\n",
       "      <td>Male</td>\n",
       "      <td>United States</td>\n",
       "      <td>NaN</td>\n",
       "      <td>No</td>\n",
       "      <td>No</td>\n",
       "      <td>Never</td>\n",
       "      <td>100-500</td>\n",
       "      <td>Yes</td>\n",
       "      <td>...</td>\n",
       "      <td>Don't know</td>\n",
       "      <td>Don't know</td>\n",
       "      <td>No</td>\n",
       "      <td>No</td>\n",
       "      <td>Some of them</td>\n",
       "      <td>Yes</td>\n",
       "      <td>Yes</td>\n",
       "      <td>Yes</td>\n",
       "      <td>Don't know</td>\n",
       "      <td>No</td>\n",
       "    </tr>\n",
       "    <tr>\n",
       "      <th>5</th>\n",
       "      <td>8/27/2014 11:31</td>\n",
       "      <td>33</td>\n",
       "      <td>Male</td>\n",
       "      <td>United States</td>\n",
       "      <td>NaN</td>\n",
       "      <td>Yes</td>\n",
       "      <td>No</td>\n",
       "      <td>Sometimes</td>\n",
       "      <td>6-25</td>\n",
       "      <td>No</td>\n",
       "      <td>...</td>\n",
       "      <td>Don't know</td>\n",
       "      <td>Don't know</td>\n",
       "      <td>No</td>\n",
       "      <td>No</td>\n",
       "      <td>Yes</td>\n",
       "      <td>Yes</td>\n",
       "      <td>No</td>\n",
       "      <td>Maybe</td>\n",
       "      <td>Don't know</td>\n",
       "      <td>No</td>\n",
       "    </tr>\n",
       "    <tr>\n",
       "      <th>6</th>\n",
       "      <td>8/27/2014 11:31</td>\n",
       "      <td>35</td>\n",
       "      <td>Female</td>\n",
       "      <td>United States</td>\n",
       "      <td>NaN</td>\n",
       "      <td>Yes</td>\n",
       "      <td>Yes</td>\n",
       "      <td>Sometimes</td>\n",
       "      <td>1-5</td>\n",
       "      <td>Yes</td>\n",
       "      <td>...</td>\n",
       "      <td>No</td>\n",
       "      <td>Somewhat difficult</td>\n",
       "      <td>Maybe</td>\n",
       "      <td>Maybe</td>\n",
       "      <td>Some of them</td>\n",
       "      <td>No</td>\n",
       "      <td>No</td>\n",
       "      <td>No</td>\n",
       "      <td>Don't know</td>\n",
       "      <td>No</td>\n",
       "    </tr>\n",
       "    <tr>\n",
       "      <th>7</th>\n",
       "      <td>8/27/2014 11:32</td>\n",
       "      <td>39</td>\n",
       "      <td>Male</td>\n",
       "      <td>Canada</td>\n",
       "      <td>NaN</td>\n",
       "      <td>No</td>\n",
       "      <td>No</td>\n",
       "      <td>Never</td>\n",
       "      <td>1-5</td>\n",
       "      <td>Yes</td>\n",
       "      <td>...</td>\n",
       "      <td>Yes</td>\n",
       "      <td>Don't know</td>\n",
       "      <td>No</td>\n",
       "      <td>No</td>\n",
       "      <td>No</td>\n",
       "      <td>No</td>\n",
       "      <td>No</td>\n",
       "      <td>No</td>\n",
       "      <td>No</td>\n",
       "      <td>No</td>\n",
       "    </tr>\n",
       "    <tr>\n",
       "      <th>8</th>\n",
       "      <td>8/27/2014 11:32</td>\n",
       "      <td>42</td>\n",
       "      <td>Female</td>\n",
       "      <td>United States</td>\n",
       "      <td>NaN</td>\n",
       "      <td>Yes</td>\n",
       "      <td>Yes</td>\n",
       "      <td>Sometimes</td>\n",
       "      <td>100-500</td>\n",
       "      <td>No</td>\n",
       "      <td>...</td>\n",
       "      <td>No</td>\n",
       "      <td>Very difficult</td>\n",
       "      <td>Maybe</td>\n",
       "      <td>No</td>\n",
       "      <td>Yes</td>\n",
       "      <td>Yes</td>\n",
       "      <td>No</td>\n",
       "      <td>Maybe</td>\n",
       "      <td>No</td>\n",
       "      <td>No</td>\n",
       "    </tr>\n",
       "    <tr>\n",
       "      <th>9</th>\n",
       "      <td>8/27/2014 11:32</td>\n",
       "      <td>23</td>\n",
       "      <td>Male</td>\n",
       "      <td>Canada</td>\n",
       "      <td>NaN</td>\n",
       "      <td>No</td>\n",
       "      <td>No</td>\n",
       "      <td>Never</td>\n",
       "      <td>26-100</td>\n",
       "      <td>No</td>\n",
       "      <td>...</td>\n",
       "      <td>Don't know</td>\n",
       "      <td>Don't know</td>\n",
       "      <td>No</td>\n",
       "      <td>No</td>\n",
       "      <td>Yes</td>\n",
       "      <td>Yes</td>\n",
       "      <td>Maybe</td>\n",
       "      <td>Maybe</td>\n",
       "      <td>Yes</td>\n",
       "      <td>No</td>\n",
       "    </tr>\n",
       "    <tr>\n",
       "      <th>10</th>\n",
       "      <td>8/27/2014 11:32</td>\n",
       "      <td>31</td>\n",
       "      <td>Male</td>\n",
       "      <td>United States</td>\n",
       "      <td>NaN</td>\n",
       "      <td>No</td>\n",
       "      <td>Yes</td>\n",
       "      <td>Sometimes</td>\n",
       "      <td>6-25</td>\n",
       "      <td>Yes</td>\n",
       "      <td>...</td>\n",
       "      <td>Don't know</td>\n",
       "      <td>Don't know</td>\n",
       "      <td>No</td>\n",
       "      <td>No</td>\n",
       "      <td>Some of them</td>\n",
       "      <td>Yes</td>\n",
       "      <td>No</td>\n",
       "      <td>No</td>\n",
       "      <td>Don't know</td>\n",
       "      <td>No</td>\n",
       "    </tr>\n",
       "    <tr>\n",
       "      <th>11</th>\n",
       "      <td>8/27/2014 11:32</td>\n",
       "      <td>29</td>\n",
       "      <td>Male</td>\n",
       "      <td>Bulgaria</td>\n",
       "      <td>NaN</td>\n",
       "      <td>No</td>\n",
       "      <td>No</td>\n",
       "      <td>Never</td>\n",
       "      <td>100-500</td>\n",
       "      <td>Yes</td>\n",
       "      <td>...</td>\n",
       "      <td>Don't know</td>\n",
       "      <td>Don't know</td>\n",
       "      <td>No</td>\n",
       "      <td>No</td>\n",
       "      <td>Yes</td>\n",
       "      <td>Yes</td>\n",
       "      <td>Yes</td>\n",
       "      <td>Yes</td>\n",
       "      <td>Don't know</td>\n",
       "      <td>No</td>\n",
       "    </tr>\n",
       "    <tr>\n",
       "      <th>12</th>\n",
       "      <td>8/27/2014 11:33</td>\n",
       "      <td>42</td>\n",
       "      <td>Female</td>\n",
       "      <td>United States</td>\n",
       "      <td>NaN</td>\n",
       "      <td>Yes</td>\n",
       "      <td>Yes</td>\n",
       "      <td>Sometimes</td>\n",
       "      <td>26-100</td>\n",
       "      <td>No</td>\n",
       "      <td>...</td>\n",
       "      <td>Don't know</td>\n",
       "      <td>Somewhat difficult</td>\n",
       "      <td>Yes</td>\n",
       "      <td>Yes</td>\n",
       "      <td>Yes</td>\n",
       "      <td>Yes</td>\n",
       "      <td>Maybe</td>\n",
       "      <td>Maybe</td>\n",
       "      <td>No</td>\n",
       "      <td>Yes</td>\n",
       "    </tr>\n",
       "    <tr>\n",
       "      <th>13</th>\n",
       "      <td>8/27/2014 11:33</td>\n",
       "      <td>36</td>\n",
       "      <td>Male</td>\n",
       "      <td>United States</td>\n",
       "      <td>NaN</td>\n",
       "      <td>Yes</td>\n",
       "      <td>No</td>\n",
       "      <td>Never</td>\n",
       "      <td>500-1000</td>\n",
       "      <td>No</td>\n",
       "      <td>...</td>\n",
       "      <td>Don't know</td>\n",
       "      <td>Don't know</td>\n",
       "      <td>No</td>\n",
       "      <td>No</td>\n",
       "      <td>Yes</td>\n",
       "      <td>Yes</td>\n",
       "      <td>No</td>\n",
       "      <td>No</td>\n",
       "      <td>Don't know</td>\n",
       "      <td>No</td>\n",
       "    </tr>\n",
       "    <tr>\n",
       "      <th>14</th>\n",
       "      <td>8/27/2014 11:33</td>\n",
       "      <td>27</td>\n",
       "      <td>Male</td>\n",
       "      <td>Canada</td>\n",
       "      <td>NaN</td>\n",
       "      <td>No</td>\n",
       "      <td>No</td>\n",
       "      <td>Never</td>\n",
       "      <td>6-25</td>\n",
       "      <td>No</td>\n",
       "      <td>...</td>\n",
       "      <td>Don't know</td>\n",
       "      <td>Somewhat easy</td>\n",
       "      <td>No</td>\n",
       "      <td>No</td>\n",
       "      <td>Some of them</td>\n",
       "      <td>Some of them</td>\n",
       "      <td>Maybe</td>\n",
       "      <td>Yes</td>\n",
       "      <td>Yes</td>\n",
       "      <td>No</td>\n",
       "    </tr>\n",
       "    <tr>\n",
       "      <th>15</th>\n",
       "      <td>8/27/2014 11:34</td>\n",
       "      <td>29</td>\n",
       "      <td>Female</td>\n",
       "      <td>United States</td>\n",
       "      <td>NaN</td>\n",
       "      <td>Yes</td>\n",
       "      <td>Yes</td>\n",
       "      <td>Rarely</td>\n",
       "      <td>26-100</td>\n",
       "      <td>No</td>\n",
       "      <td>...</td>\n",
       "      <td>Don't know</td>\n",
       "      <td>Somewhat easy</td>\n",
       "      <td>No</td>\n",
       "      <td>No</td>\n",
       "      <td>Yes</td>\n",
       "      <td>Some of them</td>\n",
       "      <td>Maybe</td>\n",
       "      <td>Maybe</td>\n",
       "      <td>Don't know</td>\n",
       "      <td>No</td>\n",
       "    </tr>\n",
       "    <tr>\n",
       "      <th>16</th>\n",
       "      <td>8/27/2014 11:34</td>\n",
       "      <td>23</td>\n",
       "      <td>Male</td>\n",
       "      <td>United Kingdom</td>\n",
       "      <td>NaN</td>\n",
       "      <td>No</td>\n",
       "      <td>Yes</td>\n",
       "      <td>Sometimes</td>\n",
       "      <td>26-100</td>\n",
       "      <td>Yes</td>\n",
       "      <td>...</td>\n",
       "      <td>Don't know</td>\n",
       "      <td>Very easy</td>\n",
       "      <td>Maybe</td>\n",
       "      <td>No</td>\n",
       "      <td>Some of them</td>\n",
       "      <td>No</td>\n",
       "      <td>Maybe</td>\n",
       "      <td>Maybe</td>\n",
       "      <td>No</td>\n",
       "      <td>No</td>\n",
       "    </tr>\n",
       "    <tr>\n",
       "      <th>17</th>\n",
       "      <td>8/27/2014 11:34</td>\n",
       "      <td>32</td>\n",
       "      <td>Male</td>\n",
       "      <td>United States</td>\n",
       "      <td>NaN</td>\n",
       "      <td>No</td>\n",
       "      <td>Yes</td>\n",
       "      <td>Sometimes</td>\n",
       "      <td>6-25</td>\n",
       "      <td>No</td>\n",
       "      <td>...</td>\n",
       "      <td>Don't know</td>\n",
       "      <td>Don't know</td>\n",
       "      <td>Maybe</td>\n",
       "      <td>No</td>\n",
       "      <td>Some of them</td>\n",
       "      <td>Yes</td>\n",
       "      <td>No</td>\n",
       "      <td>No</td>\n",
       "      <td>No</td>\n",
       "      <td>No</td>\n",
       "    </tr>\n",
       "    <tr>\n",
       "      <th>19</th>\n",
       "      <td>8/27/2014 11:35</td>\n",
       "      <td>36</td>\n",
       "      <td>Male</td>\n",
       "      <td>France</td>\n",
       "      <td>Yes</td>\n",
       "      <td>Yes</td>\n",
       "      <td>No</td>\n",
       "      <td>NaN</td>\n",
       "      <td>6-25</td>\n",
       "      <td>Yes</td>\n",
       "      <td>...</td>\n",
       "      <td>Yes</td>\n",
       "      <td>Somewhat easy</td>\n",
       "      <td>No</td>\n",
       "      <td>No</td>\n",
       "      <td>Some of them</td>\n",
       "      <td>Some of them</td>\n",
       "      <td>Maybe</td>\n",
       "      <td>Maybe</td>\n",
       "      <td>Don't know</td>\n",
       "      <td>No</td>\n",
       "    </tr>\n",
       "    <tr>\n",
       "      <th>26</th>\n",
       "      <td>8/27/2014 11:37</td>\n",
       "      <td>33</td>\n",
       "      <td>Male</td>\n",
       "      <td>United States</td>\n",
       "      <td>No</td>\n",
       "      <td>No</td>\n",
       "      <td>No</td>\n",
       "      <td>NaN</td>\n",
       "      <td>1-5</td>\n",
       "      <td>No</td>\n",
       "      <td>...</td>\n",
       "      <td>Don't know</td>\n",
       "      <td>Don't know</td>\n",
       "      <td>Maybe</td>\n",
       "      <td>Maybe</td>\n",
       "      <td>Some of them</td>\n",
       "      <td>No</td>\n",
       "      <td>No</td>\n",
       "      <td>No</td>\n",
       "      <td>Don't know</td>\n",
       "      <td>No</td>\n",
       "    </tr>\n",
       "    <tr>\n",
       "      <th>37</th>\n",
       "      <td>8/27/2014 11:41</td>\n",
       "      <td>38</td>\n",
       "      <td>Male</td>\n",
       "      <td>Portugal</td>\n",
       "      <td>No</td>\n",
       "      <td>No</td>\n",
       "      <td>No</td>\n",
       "      <td>NaN</td>\n",
       "      <td>100-500</td>\n",
       "      <td>No</td>\n",
       "      <td>...</td>\n",
       "      <td>Don't know</td>\n",
       "      <td>Somewhat easy</td>\n",
       "      <td>Maybe</td>\n",
       "      <td>No</td>\n",
       "      <td>Some of them</td>\n",
       "      <td>Some of them</td>\n",
       "      <td>No</td>\n",
       "      <td>Maybe</td>\n",
       "      <td>No</td>\n",
       "      <td>No</td>\n",
       "    </tr>\n",
       "    <tr>\n",
       "      <th>38</th>\n",
       "      <td>8/27/2014 11:42</td>\n",
       "      <td>50</td>\n",
       "      <td>Male</td>\n",
       "      <td>United States</td>\n",
       "      <td>No</td>\n",
       "      <td>No</td>\n",
       "      <td>No</td>\n",
       "      <td>NaN</td>\n",
       "      <td>100-500</td>\n",
       "      <td>No</td>\n",
       "      <td>...</td>\n",
       "      <td>Don't know</td>\n",
       "      <td>Don't know</td>\n",
       "      <td>No</td>\n",
       "      <td>No</td>\n",
       "      <td>Some of them</td>\n",
       "      <td>Yes</td>\n",
       "      <td>No</td>\n",
       "      <td>Maybe</td>\n",
       "      <td>Don't know</td>\n",
       "      <td>No</td>\n",
       "    </tr>\n",
       "    <tr>\n",
       "      <th>41</th>\n",
       "      <td>8/27/2014 11:42</td>\n",
       "      <td>35</td>\n",
       "      <td>Male</td>\n",
       "      <td>United States</td>\n",
       "      <td>No</td>\n",
       "      <td>No</td>\n",
       "      <td>No</td>\n",
       "      <td>NaN</td>\n",
       "      <td>More than 1000</td>\n",
       "      <td>Yes</td>\n",
       "      <td>...</td>\n",
       "      <td>Don't know</td>\n",
       "      <td>Somewhat difficult</td>\n",
       "      <td>Yes</td>\n",
       "      <td>Yes</td>\n",
       "      <td>Some of them</td>\n",
       "      <td>No</td>\n",
       "      <td>No</td>\n",
       "      <td>Maybe</td>\n",
       "      <td>Don't know</td>\n",
       "      <td>No</td>\n",
       "    </tr>\n",
       "    <tr>\n",
       "      <th>46</th>\n",
       "      <td>8/27/2014 11:43</td>\n",
       "      <td>28</td>\n",
       "      <td>Male</td>\n",
       "      <td>United Kingdom</td>\n",
       "      <td>No</td>\n",
       "      <td>No</td>\n",
       "      <td>No</td>\n",
       "      <td>NaN</td>\n",
       "      <td>26-100</td>\n",
       "      <td>No</td>\n",
       "      <td>...</td>\n",
       "      <td>Don't know</td>\n",
       "      <td>Don't know</td>\n",
       "      <td>No</td>\n",
       "      <td>Maybe</td>\n",
       "      <td>Some of them</td>\n",
       "      <td>Yes</td>\n",
       "      <td>Maybe</td>\n",
       "      <td>Yes</td>\n",
       "      <td>Don't know</td>\n",
       "      <td>No</td>\n",
       "    </tr>\n",
       "    <tr>\n",
       "      <th>47</th>\n",
       "      <td>8/27/2014 11:43</td>\n",
       "      <td>34</td>\n",
       "      <td>Male</td>\n",
       "      <td>United States</td>\n",
       "      <td>No</td>\n",
       "      <td>No</td>\n",
       "      <td>No</td>\n",
       "      <td>NaN</td>\n",
       "      <td>6-25</td>\n",
       "      <td>No</td>\n",
       "      <td>...</td>\n",
       "      <td>Don't know</td>\n",
       "      <td>Don't know</td>\n",
       "      <td>No</td>\n",
       "      <td>No</td>\n",
       "      <td>Yes</td>\n",
       "      <td>Yes</td>\n",
       "      <td>Maybe</td>\n",
       "      <td>Yes</td>\n",
       "      <td>Don't know</td>\n",
       "      <td>No</td>\n",
       "    </tr>\n",
       "    <tr>\n",
       "      <th>51</th>\n",
       "      <td>8/27/2014 11:45</td>\n",
       "      <td>33</td>\n",
       "      <td>Male</td>\n",
       "      <td>United States</td>\n",
       "      <td>No</td>\n",
       "      <td>No</td>\n",
       "      <td>No</td>\n",
       "      <td>NaN</td>\n",
       "      <td>100-500</td>\n",
       "      <td>Yes</td>\n",
       "      <td>...</td>\n",
       "      <td>Don't know</td>\n",
       "      <td>Don't know</td>\n",
       "      <td>No</td>\n",
       "      <td>No</td>\n",
       "      <td>Some of them</td>\n",
       "      <td>Yes</td>\n",
       "      <td>Maybe</td>\n",
       "      <td>Maybe</td>\n",
       "      <td>Don't know</td>\n",
       "      <td>No</td>\n",
       "    </tr>\n",
       "    <tr>\n",
       "      <th>52</th>\n",
       "      <td>8/27/2014 11:45</td>\n",
       "      <td>31</td>\n",
       "      <td>Male</td>\n",
       "      <td>United States</td>\n",
       "      <td>No</td>\n",
       "      <td>No</td>\n",
       "      <td>No</td>\n",
       "      <td>NaN</td>\n",
       "      <td>100-500</td>\n",
       "      <td>Yes</td>\n",
       "      <td>...</td>\n",
       "      <td>Don't know</td>\n",
       "      <td>Don't know</td>\n",
       "      <td>Maybe</td>\n",
       "      <td>Maybe</td>\n",
       "      <td>Some of them</td>\n",
       "      <td>Some of them</td>\n",
       "      <td>Maybe</td>\n",
       "      <td>Maybe</td>\n",
       "      <td>Don't know</td>\n",
       "      <td>No</td>\n",
       "    </tr>\n",
       "    <tr>\n",
       "      <th>54</th>\n",
       "      <td>8/27/2014 11:46</td>\n",
       "      <td>28</td>\n",
       "      <td>Male</td>\n",
       "      <td>Switzerland</td>\n",
       "      <td>No</td>\n",
       "      <td>No</td>\n",
       "      <td>No</td>\n",
       "      <td>NaN</td>\n",
       "      <td>100-500</td>\n",
       "      <td>No</td>\n",
       "      <td>...</td>\n",
       "      <td>Don't know</td>\n",
       "      <td>Don't know</td>\n",
       "      <td>No</td>\n",
       "      <td>No</td>\n",
       "      <td>No</td>\n",
       "      <td>No</td>\n",
       "      <td>No</td>\n",
       "      <td>Maybe</td>\n",
       "      <td>Don't know</td>\n",
       "      <td>No</td>\n",
       "    </tr>\n",
       "    <tr>\n",
       "      <th>56</th>\n",
       "      <td>8/27/2014 11:46</td>\n",
       "      <td>32</td>\n",
       "      <td>Male</td>\n",
       "      <td>United States</td>\n",
       "      <td>No</td>\n",
       "      <td>Yes</td>\n",
       "      <td>No</td>\n",
       "      <td>NaN</td>\n",
       "      <td>6-25</td>\n",
       "      <td>Yes</td>\n",
       "      <td>...</td>\n",
       "      <td>Don't know</td>\n",
       "      <td>Somewhat easy</td>\n",
       "      <td>No</td>\n",
       "      <td>No</td>\n",
       "      <td>Yes</td>\n",
       "      <td>Yes</td>\n",
       "      <td>No</td>\n",
       "      <td>No</td>\n",
       "      <td>Yes</td>\n",
       "      <td>No</td>\n",
       "    </tr>\n",
       "    <tr>\n",
       "      <th>58</th>\n",
       "      <td>8/27/2014 11:47</td>\n",
       "      <td>26</td>\n",
       "      <td>Male</td>\n",
       "      <td>United States</td>\n",
       "      <td>No</td>\n",
       "      <td>No</td>\n",
       "      <td>No</td>\n",
       "      <td>NaN</td>\n",
       "      <td>26-100</td>\n",
       "      <td>No</td>\n",
       "      <td>...</td>\n",
       "      <td>Yes</td>\n",
       "      <td>Somewhat easy</td>\n",
       "      <td>No</td>\n",
       "      <td>No</td>\n",
       "      <td>Some of them</td>\n",
       "      <td>Yes</td>\n",
       "      <td>Maybe</td>\n",
       "      <td>Yes</td>\n",
       "      <td>Don't know</td>\n",
       "      <td>No</td>\n",
       "    </tr>\n",
       "    <tr>\n",
       "      <th>...</th>\n",
       "      <td>...</td>\n",
       "      <td>...</td>\n",
       "      <td>...</td>\n",
       "      <td>...</td>\n",
       "      <td>...</td>\n",
       "      <td>...</td>\n",
       "      <td>...</td>\n",
       "      <td>...</td>\n",
       "      <td>...</td>\n",
       "      <td>...</td>\n",
       "      <td>...</td>\n",
       "      <td>...</td>\n",
       "      <td>...</td>\n",
       "      <td>...</td>\n",
       "      <td>...</td>\n",
       "      <td>...</td>\n",
       "      <td>...</td>\n",
       "      <td>...</td>\n",
       "      <td>...</td>\n",
       "      <td>...</td>\n",
       "      <td>...</td>\n",
       "    </tr>\n",
       "    <tr>\n",
       "      <th>1039</th>\n",
       "      <td>8/29/2014 11:12</td>\n",
       "      <td>35</td>\n",
       "      <td>Male</td>\n",
       "      <td>United States</td>\n",
       "      <td>No</td>\n",
       "      <td>No</td>\n",
       "      <td>No</td>\n",
       "      <td>NaN</td>\n",
       "      <td>6-25</td>\n",
       "      <td>Yes</td>\n",
       "      <td>...</td>\n",
       "      <td>Don't know</td>\n",
       "      <td>Don't know</td>\n",
       "      <td>No</td>\n",
       "      <td>No</td>\n",
       "      <td>No</td>\n",
       "      <td>No</td>\n",
       "      <td>No</td>\n",
       "      <td>No</td>\n",
       "      <td>Don't know</td>\n",
       "      <td>No</td>\n",
       "    </tr>\n",
       "    <tr>\n",
       "      <th>1041</th>\n",
       "      <td>8/29/2014 11:20</td>\n",
       "      <td>33</td>\n",
       "      <td>Male</td>\n",
       "      <td>United States</td>\n",
       "      <td>No</td>\n",
       "      <td>No</td>\n",
       "      <td>No</td>\n",
       "      <td>NaN</td>\n",
       "      <td>6-25</td>\n",
       "      <td>Yes</td>\n",
       "      <td>...</td>\n",
       "      <td>Yes</td>\n",
       "      <td>Don't know</td>\n",
       "      <td>No</td>\n",
       "      <td>No</td>\n",
       "      <td>Some of them</td>\n",
       "      <td>Yes</td>\n",
       "      <td>No</td>\n",
       "      <td>No</td>\n",
       "      <td>Yes</td>\n",
       "      <td>No</td>\n",
       "    </tr>\n",
       "    <tr>\n",
       "      <th>1069</th>\n",
       "      <td>8/29/2014 12:48</td>\n",
       "      <td>34</td>\n",
       "      <td>Male</td>\n",
       "      <td>Greece</td>\n",
       "      <td>No</td>\n",
       "      <td>No</td>\n",
       "      <td>No</td>\n",
       "      <td>NaN</td>\n",
       "      <td>26-100</td>\n",
       "      <td>Yes</td>\n",
       "      <td>...</td>\n",
       "      <td>Don't know</td>\n",
       "      <td>Very difficult</td>\n",
       "      <td>Yes</td>\n",
       "      <td>Maybe</td>\n",
       "      <td>Some of them</td>\n",
       "      <td>No</td>\n",
       "      <td>No</td>\n",
       "      <td>Maybe</td>\n",
       "      <td>No</td>\n",
       "      <td>No</td>\n",
       "    </tr>\n",
       "    <tr>\n",
       "      <th>1085</th>\n",
       "      <td>8/29/2014 16:50</td>\n",
       "      <td>37</td>\n",
       "      <td>Male</td>\n",
       "      <td>Germany</td>\n",
       "      <td>No</td>\n",
       "      <td>No</td>\n",
       "      <td>No</td>\n",
       "      <td>NaN</td>\n",
       "      <td>6-25</td>\n",
       "      <td>No</td>\n",
       "      <td>...</td>\n",
       "      <td>Yes</td>\n",
       "      <td>Very easy</td>\n",
       "      <td>No</td>\n",
       "      <td>No</td>\n",
       "      <td>Yes</td>\n",
       "      <td>Yes</td>\n",
       "      <td>Maybe</td>\n",
       "      <td>Maybe</td>\n",
       "      <td>Yes</td>\n",
       "      <td>No</td>\n",
       "    </tr>\n",
       "    <tr>\n",
       "      <th>1098</th>\n",
       "      <td>8/29/2014 20:53</td>\n",
       "      <td>29</td>\n",
       "      <td>Male</td>\n",
       "      <td>United States</td>\n",
       "      <td>No</td>\n",
       "      <td>No</td>\n",
       "      <td>No</td>\n",
       "      <td>NaN</td>\n",
       "      <td>More than 1000</td>\n",
       "      <td>No</td>\n",
       "      <td>...</td>\n",
       "      <td>Yes</td>\n",
       "      <td>Somewhat easy</td>\n",
       "      <td>No</td>\n",
       "      <td>No</td>\n",
       "      <td>Some of them</td>\n",
       "      <td>Yes</td>\n",
       "      <td>No</td>\n",
       "      <td>Maybe</td>\n",
       "      <td>Yes</td>\n",
       "      <td>No</td>\n",
       "    </tr>\n",
       "    <tr>\n",
       "      <th>1100</th>\n",
       "      <td>8/29/2014 21:26</td>\n",
       "      <td>29</td>\n",
       "      <td>Male</td>\n",
       "      <td>United States</td>\n",
       "      <td>No</td>\n",
       "      <td>No</td>\n",
       "      <td>No</td>\n",
       "      <td>NaN</td>\n",
       "      <td>6-25</td>\n",
       "      <td>Yes</td>\n",
       "      <td>...</td>\n",
       "      <td>Don't know</td>\n",
       "      <td>Don't know</td>\n",
       "      <td>Maybe</td>\n",
       "      <td>No</td>\n",
       "      <td>Some of them</td>\n",
       "      <td>Yes</td>\n",
       "      <td>Maybe</td>\n",
       "      <td>Yes</td>\n",
       "      <td>Don't know</td>\n",
       "      <td>No</td>\n",
       "    </tr>\n",
       "    <tr>\n",
       "      <th>1112</th>\n",
       "      <td>8/30/2014 12:35</td>\n",
       "      <td>37</td>\n",
       "      <td>Male</td>\n",
       "      <td>Germany</td>\n",
       "      <td>No</td>\n",
       "      <td>No</td>\n",
       "      <td>No</td>\n",
       "      <td>NaN</td>\n",
       "      <td>6-25</td>\n",
       "      <td>Yes</td>\n",
       "      <td>...</td>\n",
       "      <td>Don't know</td>\n",
       "      <td>Don't know</td>\n",
       "      <td>Maybe</td>\n",
       "      <td>No</td>\n",
       "      <td>Some of them</td>\n",
       "      <td>No</td>\n",
       "      <td>Maybe</td>\n",
       "      <td>Yes</td>\n",
       "      <td>Don't know</td>\n",
       "      <td>No</td>\n",
       "    </tr>\n",
       "    <tr>\n",
       "      <th>1114</th>\n",
       "      <td>8/30/2014 13:48</td>\n",
       "      <td>40</td>\n",
       "      <td>Male</td>\n",
       "      <td>United States</td>\n",
       "      <td>No</td>\n",
       "      <td>No</td>\n",
       "      <td>No</td>\n",
       "      <td>NaN</td>\n",
       "      <td>More than 1000</td>\n",
       "      <td>No</td>\n",
       "      <td>...</td>\n",
       "      <td>Don't know</td>\n",
       "      <td>Somewhat easy</td>\n",
       "      <td>Maybe</td>\n",
       "      <td>No</td>\n",
       "      <td>Some of them</td>\n",
       "      <td>Some of them</td>\n",
       "      <td>No</td>\n",
       "      <td>Maybe</td>\n",
       "      <td>Don't know</td>\n",
       "      <td>No</td>\n",
       "    </tr>\n",
       "    <tr>\n",
       "      <th>1124</th>\n",
       "      <td>8/30/2014 20:19</td>\n",
       "      <td>35</td>\n",
       "      <td>Male</td>\n",
       "      <td>United States</td>\n",
       "      <td>No</td>\n",
       "      <td>No</td>\n",
       "      <td>No</td>\n",
       "      <td>NaN</td>\n",
       "      <td>6-25</td>\n",
       "      <td>No</td>\n",
       "      <td>...</td>\n",
       "      <td>Yes</td>\n",
       "      <td>Don't know</td>\n",
       "      <td>No</td>\n",
       "      <td>No</td>\n",
       "      <td>No</td>\n",
       "      <td>No</td>\n",
       "      <td>No</td>\n",
       "      <td>No</td>\n",
       "      <td>Yes</td>\n",
       "      <td>No</td>\n",
       "    </tr>\n",
       "    <tr>\n",
       "      <th>1129</th>\n",
       "      <td>8/31/2014 09:19</td>\n",
       "      <td>28</td>\n",
       "      <td>Male</td>\n",
       "      <td>United States</td>\n",
       "      <td>No</td>\n",
       "      <td>No</td>\n",
       "      <td>No</td>\n",
       "      <td>NaN</td>\n",
       "      <td>More than 1000</td>\n",
       "      <td>No</td>\n",
       "      <td>...</td>\n",
       "      <td>Yes</td>\n",
       "      <td>Somewhat easy</td>\n",
       "      <td>Maybe</td>\n",
       "      <td>No</td>\n",
       "      <td>No</td>\n",
       "      <td>No</td>\n",
       "      <td>No</td>\n",
       "      <td>Yes</td>\n",
       "      <td>No</td>\n",
       "      <td>No</td>\n",
       "    </tr>\n",
       "    <tr>\n",
       "      <th>1131</th>\n",
       "      <td>8/31/2014 15:23</td>\n",
       "      <td>32</td>\n",
       "      <td>Male</td>\n",
       "      <td>United Kingdom</td>\n",
       "      <td>No</td>\n",
       "      <td>No</td>\n",
       "      <td>No</td>\n",
       "      <td>NaN</td>\n",
       "      <td>26-100</td>\n",
       "      <td>No</td>\n",
       "      <td>...</td>\n",
       "      <td>Don't know</td>\n",
       "      <td>Don't know</td>\n",
       "      <td>Maybe</td>\n",
       "      <td>No</td>\n",
       "      <td>No</td>\n",
       "      <td>No</td>\n",
       "      <td>No</td>\n",
       "      <td>No</td>\n",
       "      <td>Don't know</td>\n",
       "      <td>Yes</td>\n",
       "    </tr>\n",
       "    <tr>\n",
       "      <th>1137</th>\n",
       "      <td>9/1/2014 06:53</td>\n",
       "      <td>41</td>\n",
       "      <td>Male</td>\n",
       "      <td>United Kingdom</td>\n",
       "      <td>No</td>\n",
       "      <td>Yes</td>\n",
       "      <td>No</td>\n",
       "      <td>NaN</td>\n",
       "      <td>6-25</td>\n",
       "      <td>No</td>\n",
       "      <td>...</td>\n",
       "      <td>Don't know</td>\n",
       "      <td>Somewhat difficult</td>\n",
       "      <td>Maybe</td>\n",
       "      <td>Maybe</td>\n",
       "      <td>Some of them</td>\n",
       "      <td>Some of them</td>\n",
       "      <td>Maybe</td>\n",
       "      <td>Maybe</td>\n",
       "      <td>Don't know</td>\n",
       "      <td>No</td>\n",
       "    </tr>\n",
       "    <tr>\n",
       "      <th>1143</th>\n",
       "      <td>9/1/2014 10:40</td>\n",
       "      <td>27</td>\n",
       "      <td>Female</td>\n",
       "      <td>United Kingdom</td>\n",
       "      <td>No</td>\n",
       "      <td>Yes</td>\n",
       "      <td>No</td>\n",
       "      <td>NaN</td>\n",
       "      <td>More than 1000</td>\n",
       "      <td>No</td>\n",
       "      <td>...</td>\n",
       "      <td>Yes</td>\n",
       "      <td>Don't know</td>\n",
       "      <td>Maybe</td>\n",
       "      <td>No</td>\n",
       "      <td>No</td>\n",
       "      <td>No</td>\n",
       "      <td>No</td>\n",
       "      <td>Yes</td>\n",
       "      <td>Yes</td>\n",
       "      <td>No</td>\n",
       "    </tr>\n",
       "    <tr>\n",
       "      <th>1162</th>\n",
       "      <td>9/4/2014 08:35</td>\n",
       "      <td>31</td>\n",
       "      <td>Male</td>\n",
       "      <td>India</td>\n",
       "      <td>No</td>\n",
       "      <td>No</td>\n",
       "      <td>No</td>\n",
       "      <td>NaN</td>\n",
       "      <td>26-100</td>\n",
       "      <td>No</td>\n",
       "      <td>...</td>\n",
       "      <td>Don't know</td>\n",
       "      <td>Don't know</td>\n",
       "      <td>Yes</td>\n",
       "      <td>Yes</td>\n",
       "      <td>No</td>\n",
       "      <td>No</td>\n",
       "      <td>No</td>\n",
       "      <td>No</td>\n",
       "      <td>Don't know</td>\n",
       "      <td>No</td>\n",
       "    </tr>\n",
       "    <tr>\n",
       "      <th>1170</th>\n",
       "      <td>9/9/2014 13:49</td>\n",
       "      <td>29</td>\n",
       "      <td>Male</td>\n",
       "      <td>United States</td>\n",
       "      <td>No</td>\n",
       "      <td>No</td>\n",
       "      <td>No</td>\n",
       "      <td>NaN</td>\n",
       "      <td>More than 1000</td>\n",
       "      <td>No</td>\n",
       "      <td>...</td>\n",
       "      <td>Don't know</td>\n",
       "      <td>Don't know</td>\n",
       "      <td>Maybe</td>\n",
       "      <td>No</td>\n",
       "      <td>Some of them</td>\n",
       "      <td>Yes</td>\n",
       "      <td>Maybe</td>\n",
       "      <td>Yes</td>\n",
       "      <td>No</td>\n",
       "      <td>No</td>\n",
       "    </tr>\n",
       "    <tr>\n",
       "      <th>1171</th>\n",
       "      <td>9/11/2014 17:00</td>\n",
       "      <td>30</td>\n",
       "      <td>Male</td>\n",
       "      <td>United States</td>\n",
       "      <td>No</td>\n",
       "      <td>No</td>\n",
       "      <td>No</td>\n",
       "      <td>NaN</td>\n",
       "      <td>More than 1000</td>\n",
       "      <td>No</td>\n",
       "      <td>...</td>\n",
       "      <td>Don't know</td>\n",
       "      <td>Don't know</td>\n",
       "      <td>Yes</td>\n",
       "      <td>Maybe</td>\n",
       "      <td>No</td>\n",
       "      <td>No</td>\n",
       "      <td>No</td>\n",
       "      <td>No</td>\n",
       "      <td>Don't know</td>\n",
       "      <td>No</td>\n",
       "    </tr>\n",
       "    <tr>\n",
       "      <th>1175</th>\n",
       "      <td>9/14/2014 20:50</td>\n",
       "      <td>38</td>\n",
       "      <td>Male</td>\n",
       "      <td>United States</td>\n",
       "      <td>No</td>\n",
       "      <td>Yes</td>\n",
       "      <td>No</td>\n",
       "      <td>NaN</td>\n",
       "      <td>6-25</td>\n",
       "      <td>No</td>\n",
       "      <td>...</td>\n",
       "      <td>Don't know</td>\n",
       "      <td>Somewhat difficult</td>\n",
       "      <td>No</td>\n",
       "      <td>No</td>\n",
       "      <td>Some of them</td>\n",
       "      <td>Yes</td>\n",
       "      <td>No</td>\n",
       "      <td>No</td>\n",
       "      <td>Don't know</td>\n",
       "      <td>Yes</td>\n",
       "    </tr>\n",
       "    <tr>\n",
       "      <th>1188</th>\n",
       "      <td>12/1/2014 09:58</td>\n",
       "      <td>31</td>\n",
       "      <td>Female</td>\n",
       "      <td>Belgium</td>\n",
       "      <td>No</td>\n",
       "      <td>No</td>\n",
       "      <td>No</td>\n",
       "      <td>NaN</td>\n",
       "      <td>26-100</td>\n",
       "      <td>No</td>\n",
       "      <td>...</td>\n",
       "      <td>Yes</td>\n",
       "      <td>Very easy</td>\n",
       "      <td>Maybe</td>\n",
       "      <td>No</td>\n",
       "      <td>Some of them</td>\n",
       "      <td>Some of them</td>\n",
       "      <td>No</td>\n",
       "      <td>No</td>\n",
       "      <td>Don't know</td>\n",
       "      <td>No</td>\n",
       "    </tr>\n",
       "    <tr>\n",
       "      <th>1194</th>\n",
       "      <td>2/21/2015 04:19</td>\n",
       "      <td>27</td>\n",
       "      <td>Male</td>\n",
       "      <td>Germany</td>\n",
       "      <td>No</td>\n",
       "      <td>No</td>\n",
       "      <td>No</td>\n",
       "      <td>NaN</td>\n",
       "      <td>26-100</td>\n",
       "      <td>No</td>\n",
       "      <td>...</td>\n",
       "      <td>Don't know</td>\n",
       "      <td>Don't know</td>\n",
       "      <td>No</td>\n",
       "      <td>No</td>\n",
       "      <td>Some of them</td>\n",
       "      <td>Yes</td>\n",
       "      <td>Yes</td>\n",
       "      <td>Yes</td>\n",
       "      <td>Don't know</td>\n",
       "      <td>No</td>\n",
       "    </tr>\n",
       "    <tr>\n",
       "      <th>1199</th>\n",
       "      <td>2/21/2015 04:51</td>\n",
       "      <td>25</td>\n",
       "      <td>Male</td>\n",
       "      <td>Ireland</td>\n",
       "      <td>No</td>\n",
       "      <td>No</td>\n",
       "      <td>No</td>\n",
       "      <td>NaN</td>\n",
       "      <td>100-500</td>\n",
       "      <td>No</td>\n",
       "      <td>...</td>\n",
       "      <td>Don't know</td>\n",
       "      <td>Don't know</td>\n",
       "      <td>Maybe</td>\n",
       "      <td>No</td>\n",
       "      <td>Some of them</td>\n",
       "      <td>Yes</td>\n",
       "      <td>No</td>\n",
       "      <td>No</td>\n",
       "      <td>Don't know</td>\n",
       "      <td>No</td>\n",
       "    </tr>\n",
       "    <tr>\n",
       "      <th>1202</th>\n",
       "      <td>2/21/2015 05:34</td>\n",
       "      <td>31</td>\n",
       "      <td>Male</td>\n",
       "      <td>Brazil</td>\n",
       "      <td>Yes</td>\n",
       "      <td>No</td>\n",
       "      <td>Yes</td>\n",
       "      <td>NaN</td>\n",
       "      <td>1-5</td>\n",
       "      <td>No</td>\n",
       "      <td>...</td>\n",
       "      <td>No</td>\n",
       "      <td>Don't know</td>\n",
       "      <td>No</td>\n",
       "      <td>No</td>\n",
       "      <td>Yes</td>\n",
       "      <td>Yes</td>\n",
       "      <td>No</td>\n",
       "      <td>Maybe</td>\n",
       "      <td>Don't know</td>\n",
       "      <td>No</td>\n",
       "    </tr>\n",
       "    <tr>\n",
       "      <th>1203</th>\n",
       "      <td>2/21/2015 05:55</td>\n",
       "      <td>24</td>\n",
       "      <td>Male</td>\n",
       "      <td>United Kingdom</td>\n",
       "      <td>No</td>\n",
       "      <td>No</td>\n",
       "      <td>No</td>\n",
       "      <td>NaN</td>\n",
       "      <td>100-500</td>\n",
       "      <td>No</td>\n",
       "      <td>...</td>\n",
       "      <td>Don't know</td>\n",
       "      <td>Somewhat easy</td>\n",
       "      <td>Maybe</td>\n",
       "      <td>Maybe</td>\n",
       "      <td>Some of them</td>\n",
       "      <td>Yes</td>\n",
       "      <td>No</td>\n",
       "      <td>Maybe</td>\n",
       "      <td>Don't know</td>\n",
       "      <td>No</td>\n",
       "    </tr>\n",
       "    <tr>\n",
       "      <th>1210</th>\n",
       "      <td>2/21/2015 09:10</td>\n",
       "      <td>24</td>\n",
       "      <td>Male</td>\n",
       "      <td>Ireland</td>\n",
       "      <td>No</td>\n",
       "      <td>Yes</td>\n",
       "      <td>No</td>\n",
       "      <td>NaN</td>\n",
       "      <td>1-5</td>\n",
       "      <td>No</td>\n",
       "      <td>...</td>\n",
       "      <td>Don't know</td>\n",
       "      <td>Don't know</td>\n",
       "      <td>Maybe</td>\n",
       "      <td>Maybe</td>\n",
       "      <td>No</td>\n",
       "      <td>No</td>\n",
       "      <td>No</td>\n",
       "      <td>No</td>\n",
       "      <td>Don't know</td>\n",
       "      <td>No</td>\n",
       "    </tr>\n",
       "    <tr>\n",
       "      <th>1215</th>\n",
       "      <td>2/21/2015 09:29</td>\n",
       "      <td>28</td>\n",
       "      <td>Male</td>\n",
       "      <td>Netherlands</td>\n",
       "      <td>No</td>\n",
       "      <td>No</td>\n",
       "      <td>No</td>\n",
       "      <td>NaN</td>\n",
       "      <td>6-25</td>\n",
       "      <td>No</td>\n",
       "      <td>...</td>\n",
       "      <td>Don't know</td>\n",
       "      <td>Somewhat easy</td>\n",
       "      <td>Maybe</td>\n",
       "      <td>Maybe</td>\n",
       "      <td>Some of them</td>\n",
       "      <td>Some of them</td>\n",
       "      <td>No</td>\n",
       "      <td>No</td>\n",
       "      <td>Don't know</td>\n",
       "      <td>No</td>\n",
       "    </tr>\n",
       "    <tr>\n",
       "      <th>1218</th>\n",
       "      <td>2/21/2015 09:33</td>\n",
       "      <td>28</td>\n",
       "      <td>Male</td>\n",
       "      <td>Netherlands</td>\n",
       "      <td>No</td>\n",
       "      <td>No</td>\n",
       "      <td>No</td>\n",
       "      <td>NaN</td>\n",
       "      <td>6-25</td>\n",
       "      <td>No</td>\n",
       "      <td>...</td>\n",
       "      <td>Don't know</td>\n",
       "      <td>Somewhat easy</td>\n",
       "      <td>Maybe</td>\n",
       "      <td>Maybe</td>\n",
       "      <td>Some of them</td>\n",
       "      <td>Some of them</td>\n",
       "      <td>No</td>\n",
       "      <td>No</td>\n",
       "      <td>Don't know</td>\n",
       "      <td>No</td>\n",
       "    </tr>\n",
       "    <tr>\n",
       "      <th>1226</th>\n",
       "      <td>2/21/2015 17:19</td>\n",
       "      <td>39</td>\n",
       "      <td>Male</td>\n",
       "      <td>Netherlands</td>\n",
       "      <td>No</td>\n",
       "      <td>No</td>\n",
       "      <td>No</td>\n",
       "      <td>NaN</td>\n",
       "      <td>More than 1000</td>\n",
       "      <td>No</td>\n",
       "      <td>...</td>\n",
       "      <td>Don't know</td>\n",
       "      <td>Somewhat easy</td>\n",
       "      <td>Maybe</td>\n",
       "      <td>Maybe</td>\n",
       "      <td>No</td>\n",
       "      <td>Some of them</td>\n",
       "      <td>No</td>\n",
       "      <td>No</td>\n",
       "      <td>Yes</td>\n",
       "      <td>No</td>\n",
       "    </tr>\n",
       "    <tr>\n",
       "      <th>1229</th>\n",
       "      <td>2/22/2015 02:40</td>\n",
       "      <td>39</td>\n",
       "      <td>Male</td>\n",
       "      <td>Greece</td>\n",
       "      <td>No</td>\n",
       "      <td>No</td>\n",
       "      <td>No</td>\n",
       "      <td>NaN</td>\n",
       "      <td>6-25</td>\n",
       "      <td>Yes</td>\n",
       "      <td>...</td>\n",
       "      <td>Yes</td>\n",
       "      <td>Don't know</td>\n",
       "      <td>Yes</td>\n",
       "      <td>No</td>\n",
       "      <td>No</td>\n",
       "      <td>No</td>\n",
       "      <td>No</td>\n",
       "      <td>No</td>\n",
       "      <td>Don't know</td>\n",
       "      <td>No</td>\n",
       "    </tr>\n",
       "    <tr>\n",
       "      <th>1244</th>\n",
       "      <td>5/5/2015 15:16</td>\n",
       "      <td>32</td>\n",
       "      <td>Female</td>\n",
       "      <td>United Kingdom</td>\n",
       "      <td>No</td>\n",
       "      <td>No</td>\n",
       "      <td>No</td>\n",
       "      <td>NaN</td>\n",
       "      <td>More than 1000</td>\n",
       "      <td>No</td>\n",
       "      <td>...</td>\n",
       "      <td>Don't know</td>\n",
       "      <td>Don't know</td>\n",
       "      <td>Maybe</td>\n",
       "      <td>No</td>\n",
       "      <td>Some of them</td>\n",
       "      <td>Yes</td>\n",
       "      <td>No</td>\n",
       "      <td>Yes</td>\n",
       "      <td>No</td>\n",
       "      <td>No</td>\n",
       "    </tr>\n",
       "    <tr>\n",
       "      <th>1254</th>\n",
       "      <td>9/12/2015 11:17</td>\n",
       "      <td>26</td>\n",
       "      <td>Male</td>\n",
       "      <td>United Kingdom</td>\n",
       "      <td>No</td>\n",
       "      <td>No</td>\n",
       "      <td>Yes</td>\n",
       "      <td>NaN</td>\n",
       "      <td>26-100</td>\n",
       "      <td>No</td>\n",
       "      <td>...</td>\n",
       "      <td>Don't know</td>\n",
       "      <td>Somewhat easy</td>\n",
       "      <td>No</td>\n",
       "      <td>No</td>\n",
       "      <td>Some of them</td>\n",
       "      <td>Some of them</td>\n",
       "      <td>No</td>\n",
       "      <td>No</td>\n",
       "      <td>Don't know</td>\n",
       "      <td>No</td>\n",
       "    </tr>\n",
       "    <tr>\n",
       "      <th>1257</th>\n",
       "      <td>11/30/2015 21:25</td>\n",
       "      <td>46</td>\n",
       "      <td>Female</td>\n",
       "      <td>United States</td>\n",
       "      <td>No</td>\n",
       "      <td>No</td>\n",
       "      <td>No</td>\n",
       "      <td>NaN</td>\n",
       "      <td>100-500</td>\n",
       "      <td>Yes</td>\n",
       "      <td>...</td>\n",
       "      <td>Don't know</td>\n",
       "      <td>Don't know</td>\n",
       "      <td>Yes</td>\n",
       "      <td>No</td>\n",
       "      <td>No</td>\n",
       "      <td>No</td>\n",
       "      <td>No</td>\n",
       "      <td>No</td>\n",
       "      <td>No</td>\n",
       "      <td>No</td>\n",
       "    </tr>\n",
       "  </tbody>\n",
       "</table>\n",
       "<p>281 rows × 25 columns</p>\n",
       "</div>"
      ],
      "text/plain": [
       "             Timestamp  Age  Gender         Country self_employed  \\\n",
       "0      8/27/2014 11:29   37  Female   United States           NaN   \n",
       "1      8/27/2014 11:29   44    Male   United States           NaN   \n",
       "2      8/27/2014 11:29   32    Male          Canada           NaN   \n",
       "3      8/27/2014 11:29   31    Male  United Kingdom           NaN   \n",
       "4      8/27/2014 11:30   31    Male   United States           NaN   \n",
       "5      8/27/2014 11:31   33    Male   United States           NaN   \n",
       "6      8/27/2014 11:31   35  Female   United States           NaN   \n",
       "7      8/27/2014 11:32   39    Male          Canada           NaN   \n",
       "8      8/27/2014 11:32   42  Female   United States           NaN   \n",
       "9      8/27/2014 11:32   23    Male          Canada           NaN   \n",
       "10     8/27/2014 11:32   31    Male   United States           NaN   \n",
       "11     8/27/2014 11:32   29    Male        Bulgaria           NaN   \n",
       "12     8/27/2014 11:33   42  Female   United States           NaN   \n",
       "13     8/27/2014 11:33   36    Male   United States           NaN   \n",
       "14     8/27/2014 11:33   27    Male          Canada           NaN   \n",
       "15     8/27/2014 11:34   29  Female   United States           NaN   \n",
       "16     8/27/2014 11:34   23    Male  United Kingdom           NaN   \n",
       "17     8/27/2014 11:34   32    Male   United States           NaN   \n",
       "19     8/27/2014 11:35   36    Male          France           Yes   \n",
       "26     8/27/2014 11:37   33    Male   United States            No   \n",
       "37     8/27/2014 11:41   38    Male        Portugal            No   \n",
       "38     8/27/2014 11:42   50    Male   United States            No   \n",
       "41     8/27/2014 11:42   35    Male   United States            No   \n",
       "46     8/27/2014 11:43   28    Male  United Kingdom            No   \n",
       "47     8/27/2014 11:43   34    Male   United States            No   \n",
       "51     8/27/2014 11:45   33    Male   United States            No   \n",
       "52     8/27/2014 11:45   31    Male   United States            No   \n",
       "54     8/27/2014 11:46   28    Male     Switzerland            No   \n",
       "56     8/27/2014 11:46   32    Male   United States            No   \n",
       "58     8/27/2014 11:47   26    Male   United States            No   \n",
       "...                ...  ...     ...             ...           ...   \n",
       "1039   8/29/2014 11:12   35    Male   United States            No   \n",
       "1041   8/29/2014 11:20   33    Male   United States            No   \n",
       "1069   8/29/2014 12:48   34    Male          Greece            No   \n",
       "1085   8/29/2014 16:50   37    Male         Germany            No   \n",
       "1098   8/29/2014 20:53   29    Male   United States            No   \n",
       "1100   8/29/2014 21:26   29    Male   United States            No   \n",
       "1112   8/30/2014 12:35   37    Male         Germany            No   \n",
       "1114   8/30/2014 13:48   40    Male   United States            No   \n",
       "1124   8/30/2014 20:19   35    Male   United States            No   \n",
       "1129   8/31/2014 09:19   28    Male   United States            No   \n",
       "1131   8/31/2014 15:23   32    Male  United Kingdom            No   \n",
       "1137    9/1/2014 06:53   41    Male  United Kingdom            No   \n",
       "1143    9/1/2014 10:40   27  Female  United Kingdom            No   \n",
       "1162    9/4/2014 08:35   31    Male           India            No   \n",
       "1170    9/9/2014 13:49   29    Male   United States            No   \n",
       "1171   9/11/2014 17:00   30    Male   United States            No   \n",
       "1175   9/14/2014 20:50   38    Male   United States            No   \n",
       "1188   12/1/2014 09:58   31  Female         Belgium            No   \n",
       "1194   2/21/2015 04:19   27    Male         Germany            No   \n",
       "1199   2/21/2015 04:51   25    Male         Ireland            No   \n",
       "1202   2/21/2015 05:34   31    Male          Brazil           Yes   \n",
       "1203   2/21/2015 05:55   24    Male  United Kingdom            No   \n",
       "1210   2/21/2015 09:10   24    Male         Ireland            No   \n",
       "1215   2/21/2015 09:29   28    Male     Netherlands            No   \n",
       "1218   2/21/2015 09:33   28    Male     Netherlands            No   \n",
       "1226   2/21/2015 17:19   39    Male     Netherlands            No   \n",
       "1229   2/22/2015 02:40   39    Male          Greece            No   \n",
       "1244    5/5/2015 15:16   32  Female  United Kingdom            No   \n",
       "1254   9/12/2015 11:17   26    Male  United Kingdom            No   \n",
       "1257  11/30/2015 21:25   46  Female   United States            No   \n",
       "\n",
       "     family_history treatment work_interfere    no_employees remote_work  \\\n",
       "0                No       Yes          Often            6-25          No   \n",
       "1                No        No         Rarely  More than 1000          No   \n",
       "2                No        No         Rarely            6-25          No   \n",
       "3               Yes       Yes          Often          26-100          No   \n",
       "4                No        No          Never         100-500         Yes   \n",
       "5               Yes        No      Sometimes            6-25          No   \n",
       "6               Yes       Yes      Sometimes             1-5         Yes   \n",
       "7                No        No          Never             1-5         Yes   \n",
       "8               Yes       Yes      Sometimes         100-500          No   \n",
       "9                No        No          Never          26-100          No   \n",
       "10               No       Yes      Sometimes            6-25         Yes   \n",
       "11               No        No          Never         100-500         Yes   \n",
       "12              Yes       Yes      Sometimes          26-100          No   \n",
       "13              Yes        No          Never        500-1000          No   \n",
       "14               No        No          Never            6-25          No   \n",
       "15              Yes       Yes         Rarely          26-100          No   \n",
       "16               No       Yes      Sometimes          26-100         Yes   \n",
       "17               No       Yes      Sometimes            6-25          No   \n",
       "19              Yes        No            NaN            6-25         Yes   \n",
       "26               No        No            NaN             1-5          No   \n",
       "37               No        No            NaN         100-500          No   \n",
       "38               No        No            NaN         100-500          No   \n",
       "41               No        No            NaN  More than 1000         Yes   \n",
       "46               No        No            NaN          26-100          No   \n",
       "47               No        No            NaN            6-25          No   \n",
       "51               No        No            NaN         100-500         Yes   \n",
       "52               No        No            NaN         100-500         Yes   \n",
       "54               No        No            NaN         100-500          No   \n",
       "56              Yes        No            NaN            6-25         Yes   \n",
       "58               No        No            NaN          26-100          No   \n",
       "...             ...       ...            ...             ...         ...   \n",
       "1039             No        No            NaN            6-25         Yes   \n",
       "1041             No        No            NaN            6-25         Yes   \n",
       "1069             No        No            NaN          26-100         Yes   \n",
       "1085             No        No            NaN            6-25          No   \n",
       "1098             No        No            NaN  More than 1000          No   \n",
       "1100             No        No            NaN            6-25         Yes   \n",
       "1112             No        No            NaN            6-25         Yes   \n",
       "1114             No        No            NaN  More than 1000          No   \n",
       "1124             No        No            NaN            6-25          No   \n",
       "1129             No        No            NaN  More than 1000          No   \n",
       "1131             No        No            NaN          26-100          No   \n",
       "1137            Yes        No            NaN            6-25          No   \n",
       "1143            Yes        No            NaN  More than 1000          No   \n",
       "1162             No        No            NaN          26-100          No   \n",
       "1170             No        No            NaN  More than 1000          No   \n",
       "1171             No        No            NaN  More than 1000          No   \n",
       "1175            Yes        No            NaN            6-25          No   \n",
       "1188             No        No            NaN          26-100          No   \n",
       "1194             No        No            NaN          26-100          No   \n",
       "1199             No        No            NaN         100-500          No   \n",
       "1202             No       Yes            NaN             1-5          No   \n",
       "1203             No        No            NaN         100-500          No   \n",
       "1210            Yes        No            NaN             1-5          No   \n",
       "1215             No        No            NaN            6-25          No   \n",
       "1218             No        No            NaN            6-25          No   \n",
       "1226             No        No            NaN  More than 1000          No   \n",
       "1229             No        No            NaN            6-25         Yes   \n",
       "1244             No        No            NaN  More than 1000          No   \n",
       "1254             No       Yes            NaN          26-100          No   \n",
       "1257             No        No            NaN         100-500         Yes   \n",
       "\n",
       "           ...         anonymity               leave  \\\n",
       "0          ...               Yes       Somewhat easy   \n",
       "1          ...        Don't know          Don't know   \n",
       "2          ...        Don't know  Somewhat difficult   \n",
       "3          ...                No  Somewhat difficult   \n",
       "4          ...        Don't know          Don't know   \n",
       "5          ...        Don't know          Don't know   \n",
       "6          ...                No  Somewhat difficult   \n",
       "7          ...               Yes          Don't know   \n",
       "8          ...                No      Very difficult   \n",
       "9          ...        Don't know          Don't know   \n",
       "10         ...        Don't know          Don't know   \n",
       "11         ...        Don't know          Don't know   \n",
       "12         ...        Don't know  Somewhat difficult   \n",
       "13         ...        Don't know          Don't know   \n",
       "14         ...        Don't know       Somewhat easy   \n",
       "15         ...        Don't know       Somewhat easy   \n",
       "16         ...        Don't know           Very easy   \n",
       "17         ...        Don't know          Don't know   \n",
       "19         ...               Yes       Somewhat easy   \n",
       "26         ...        Don't know          Don't know   \n",
       "37         ...        Don't know       Somewhat easy   \n",
       "38         ...        Don't know          Don't know   \n",
       "41         ...        Don't know  Somewhat difficult   \n",
       "46         ...        Don't know          Don't know   \n",
       "47         ...        Don't know          Don't know   \n",
       "51         ...        Don't know          Don't know   \n",
       "52         ...        Don't know          Don't know   \n",
       "54         ...        Don't know          Don't know   \n",
       "56         ...        Don't know       Somewhat easy   \n",
       "58         ...               Yes       Somewhat easy   \n",
       "...        ...               ...                 ...   \n",
       "1039       ...        Don't know          Don't know   \n",
       "1041       ...               Yes          Don't know   \n",
       "1069       ...        Don't know      Very difficult   \n",
       "1085       ...               Yes           Very easy   \n",
       "1098       ...               Yes       Somewhat easy   \n",
       "1100       ...        Don't know          Don't know   \n",
       "1112       ...        Don't know          Don't know   \n",
       "1114       ...        Don't know       Somewhat easy   \n",
       "1124       ...               Yes          Don't know   \n",
       "1129       ...               Yes       Somewhat easy   \n",
       "1131       ...        Don't know          Don't know   \n",
       "1137       ...        Don't know  Somewhat difficult   \n",
       "1143       ...               Yes          Don't know   \n",
       "1162       ...        Don't know          Don't know   \n",
       "1170       ...        Don't know          Don't know   \n",
       "1171       ...        Don't know          Don't know   \n",
       "1175       ...        Don't know  Somewhat difficult   \n",
       "1188       ...               Yes           Very easy   \n",
       "1194       ...        Don't know          Don't know   \n",
       "1199       ...        Don't know          Don't know   \n",
       "1202       ...                No          Don't know   \n",
       "1203       ...        Don't know       Somewhat easy   \n",
       "1210       ...        Don't know          Don't know   \n",
       "1215       ...        Don't know       Somewhat easy   \n",
       "1218       ...        Don't know       Somewhat easy   \n",
       "1226       ...        Don't know       Somewhat easy   \n",
       "1229       ...               Yes          Don't know   \n",
       "1244       ...        Don't know          Don't know   \n",
       "1254       ...        Don't know       Somewhat easy   \n",
       "1257       ...        Don't know          Don't know   \n",
       "\n",
       "     mental_health_consequence phys_health_consequence     coworkers  \\\n",
       "0                           No                      No  Some of them   \n",
       "1                        Maybe                      No            No   \n",
       "2                           No                      No           Yes   \n",
       "3                          Yes                     Yes  Some of them   \n",
       "4                           No                      No  Some of them   \n",
       "5                           No                      No           Yes   \n",
       "6                        Maybe                   Maybe  Some of them   \n",
       "7                           No                      No            No   \n",
       "8                        Maybe                      No           Yes   \n",
       "9                           No                      No           Yes   \n",
       "10                          No                      No  Some of them   \n",
       "11                          No                      No           Yes   \n",
       "12                         Yes                     Yes           Yes   \n",
       "13                          No                      No           Yes   \n",
       "14                          No                      No  Some of them   \n",
       "15                          No                      No           Yes   \n",
       "16                       Maybe                      No  Some of them   \n",
       "17                       Maybe                      No  Some of them   \n",
       "19                          No                      No  Some of them   \n",
       "26                       Maybe                   Maybe  Some of them   \n",
       "37                       Maybe                      No  Some of them   \n",
       "38                          No                      No  Some of them   \n",
       "41                         Yes                     Yes  Some of them   \n",
       "46                          No                   Maybe  Some of them   \n",
       "47                          No                      No           Yes   \n",
       "51                          No                      No  Some of them   \n",
       "52                       Maybe                   Maybe  Some of them   \n",
       "54                          No                      No            No   \n",
       "56                          No                      No           Yes   \n",
       "58                          No                      No  Some of them   \n",
       "...                        ...                     ...           ...   \n",
       "1039                        No                      No            No   \n",
       "1041                        No                      No  Some of them   \n",
       "1069                       Yes                   Maybe  Some of them   \n",
       "1085                        No                      No           Yes   \n",
       "1098                        No                      No  Some of them   \n",
       "1100                     Maybe                      No  Some of them   \n",
       "1112                     Maybe                      No  Some of them   \n",
       "1114                     Maybe                      No  Some of them   \n",
       "1124                        No                      No            No   \n",
       "1129                     Maybe                      No            No   \n",
       "1131                     Maybe                      No            No   \n",
       "1137                     Maybe                   Maybe  Some of them   \n",
       "1143                     Maybe                      No            No   \n",
       "1162                       Yes                     Yes            No   \n",
       "1170                     Maybe                      No  Some of them   \n",
       "1171                       Yes                   Maybe            No   \n",
       "1175                        No                      No  Some of them   \n",
       "1188                     Maybe                      No  Some of them   \n",
       "1194                        No                      No  Some of them   \n",
       "1199                     Maybe                      No  Some of them   \n",
       "1202                        No                      No           Yes   \n",
       "1203                     Maybe                   Maybe  Some of them   \n",
       "1210                     Maybe                   Maybe            No   \n",
       "1215                     Maybe                   Maybe  Some of them   \n",
       "1218                     Maybe                   Maybe  Some of them   \n",
       "1226                     Maybe                   Maybe            No   \n",
       "1229                       Yes                      No            No   \n",
       "1244                     Maybe                      No  Some of them   \n",
       "1254                        No                      No  Some of them   \n",
       "1257                       Yes                      No            No   \n",
       "\n",
       "        supervisor mental_health_interview phys_health_interview  \\\n",
       "0              Yes                      No                 Maybe   \n",
       "1               No                      No                    No   \n",
       "2              Yes                     Yes                   Yes   \n",
       "3               No                   Maybe                 Maybe   \n",
       "4              Yes                     Yes                   Yes   \n",
       "5              Yes                      No                 Maybe   \n",
       "6               No                      No                    No   \n",
       "7               No                      No                    No   \n",
       "8              Yes                      No                 Maybe   \n",
       "9              Yes                   Maybe                 Maybe   \n",
       "10             Yes                      No                    No   \n",
       "11             Yes                     Yes                   Yes   \n",
       "12             Yes                   Maybe                 Maybe   \n",
       "13             Yes                      No                    No   \n",
       "14    Some of them                   Maybe                   Yes   \n",
       "15    Some of them                   Maybe                 Maybe   \n",
       "16              No                   Maybe                 Maybe   \n",
       "17             Yes                      No                    No   \n",
       "19    Some of them                   Maybe                 Maybe   \n",
       "26              No                      No                    No   \n",
       "37    Some of them                      No                 Maybe   \n",
       "38             Yes                      No                 Maybe   \n",
       "41              No                      No                 Maybe   \n",
       "46             Yes                   Maybe                   Yes   \n",
       "47             Yes                   Maybe                   Yes   \n",
       "51             Yes                   Maybe                 Maybe   \n",
       "52    Some of them                   Maybe                 Maybe   \n",
       "54              No                      No                 Maybe   \n",
       "56             Yes                      No                    No   \n",
       "58             Yes                   Maybe                   Yes   \n",
       "...            ...                     ...                   ...   \n",
       "1039            No                      No                    No   \n",
       "1041           Yes                      No                    No   \n",
       "1069            No                      No                 Maybe   \n",
       "1085           Yes                   Maybe                 Maybe   \n",
       "1098           Yes                      No                 Maybe   \n",
       "1100           Yes                   Maybe                   Yes   \n",
       "1112            No                   Maybe                   Yes   \n",
       "1114  Some of them                      No                 Maybe   \n",
       "1124            No                      No                    No   \n",
       "1129            No                      No                   Yes   \n",
       "1131            No                      No                    No   \n",
       "1137  Some of them                   Maybe                 Maybe   \n",
       "1143            No                      No                   Yes   \n",
       "1162            No                      No                    No   \n",
       "1170           Yes                   Maybe                   Yes   \n",
       "1171            No                      No                    No   \n",
       "1175           Yes                      No                    No   \n",
       "1188  Some of them                      No                    No   \n",
       "1194           Yes                     Yes                   Yes   \n",
       "1199           Yes                      No                    No   \n",
       "1202           Yes                      No                 Maybe   \n",
       "1203           Yes                      No                 Maybe   \n",
       "1210            No                      No                    No   \n",
       "1215  Some of them                      No                    No   \n",
       "1218  Some of them                      No                    No   \n",
       "1226  Some of them                      No                    No   \n",
       "1229            No                      No                    No   \n",
       "1244           Yes                      No                   Yes   \n",
       "1254  Some of them                      No                    No   \n",
       "1257            No                      No                    No   \n",
       "\n",
       "     mental_vs_physical obs_consequence  \n",
       "0                   Yes              No  \n",
       "1            Don't know              No  \n",
       "2                    No              No  \n",
       "3                    No             Yes  \n",
       "4            Don't know              No  \n",
       "5            Don't know              No  \n",
       "6            Don't know              No  \n",
       "7                    No              No  \n",
       "8                    No              No  \n",
       "9                   Yes              No  \n",
       "10           Don't know              No  \n",
       "11           Don't know              No  \n",
       "12                   No             Yes  \n",
       "13           Don't know              No  \n",
       "14                  Yes              No  \n",
       "15           Don't know              No  \n",
       "16                   No              No  \n",
       "17                   No              No  \n",
       "19           Don't know              No  \n",
       "26           Don't know              No  \n",
       "37                   No              No  \n",
       "38           Don't know              No  \n",
       "41           Don't know              No  \n",
       "46           Don't know              No  \n",
       "47           Don't know              No  \n",
       "51           Don't know              No  \n",
       "52           Don't know              No  \n",
       "54           Don't know              No  \n",
       "56                  Yes              No  \n",
       "58           Don't know              No  \n",
       "...                 ...             ...  \n",
       "1039         Don't know              No  \n",
       "1041                Yes              No  \n",
       "1069                 No              No  \n",
       "1085                Yes              No  \n",
       "1098                Yes              No  \n",
       "1100         Don't know              No  \n",
       "1112         Don't know              No  \n",
       "1114         Don't know              No  \n",
       "1124                Yes              No  \n",
       "1129                 No              No  \n",
       "1131         Don't know             Yes  \n",
       "1137         Don't know              No  \n",
       "1143                Yes              No  \n",
       "1162         Don't know              No  \n",
       "1170                 No              No  \n",
       "1171         Don't know              No  \n",
       "1175         Don't know             Yes  \n",
       "1188         Don't know              No  \n",
       "1194         Don't know              No  \n",
       "1199         Don't know              No  \n",
       "1202         Don't know              No  \n",
       "1203         Don't know              No  \n",
       "1210         Don't know              No  \n",
       "1215         Don't know              No  \n",
       "1218         Don't know              No  \n",
       "1226                Yes              No  \n",
       "1229         Don't know              No  \n",
       "1244                 No              No  \n",
       "1254         Don't know              No  \n",
       "1257                 No              No  \n",
       "\n",
       "[281 rows x 25 columns]"
      ]
     },
     "execution_count": 264,
     "metadata": {},
     "output_type": "execute_result"
    }
   ],
   "source": [
    "df_nan_cols = df.drop(['state', 'comments'], axis=1)\n",
    "df_nan_cols[df_nan_cols.isnull().any(axis=1)]"
   ]
  },
  {
   "cell_type": "markdown",
   "metadata": {},
   "source": [
    "281 rows seems like a lot. How many in each column?"
   ]
  },
  {
   "cell_type": "code",
   "execution_count": 265,
   "metadata": {
    "scrolled": true
   },
   "outputs": [
    {
     "data": {
      "text/plain": [
       "Timestamp                      0\n",
       "Age                            0\n",
       "Gender                         0\n",
       "Country                        0\n",
       "self_employed                 18\n",
       "family_history                 0\n",
       "treatment                      0\n",
       "work_interfere               263\n",
       "no_employees                   0\n",
       "remote_work                    0\n",
       "tech_company                   0\n",
       "benefits                       0\n",
       "care_options                   0\n",
       "wellness_program               0\n",
       "seek_help                      0\n",
       "anonymity                      0\n",
       "leave                          0\n",
       "mental_health_consequence      0\n",
       "phys_health_consequence        0\n",
       "coworkers                      0\n",
       "supervisor                     0\n",
       "mental_health_interview        0\n",
       "phys_health_interview          0\n",
       "mental_vs_physical             0\n",
       "obs_consequence                0\n",
       "dtype: int64"
      ]
     },
     "execution_count": 265,
     "metadata": {},
     "output_type": "execute_result"
    }
   ],
   "source": [
    "df_nan_cols.isnull().sum()"
   ]
  },
  {
   "cell_type": "markdown",
   "metadata": {},
   "source": [
    "263 are in work_interfere, let's just drop that one."
   ]
  },
  {
   "cell_type": "code",
   "execution_count": 266,
   "metadata": {},
   "outputs": [
    {
     "data": {
      "text/plain": [
       "1252"
      ]
     },
     "execution_count": 266,
     "metadata": {},
     "output_type": "execute_result"
    }
   ],
   "source": [
    "df = df.drop('work_interfere', axis = 1)\n",
    "len(df)"
   ]
  },
  {
   "cell_type": "markdown",
   "metadata": {},
   "source": [
    "What do the 18 NA self_employed respondents look like? "
   ]
  },
  {
   "cell_type": "code",
   "execution_count": 267,
   "metadata": {},
   "outputs": [
    {
     "data": {
      "text/html": [
       "<div>\n",
       "<style>\n",
       "    .dataframe thead tr:only-child th {\n",
       "        text-align: right;\n",
       "    }\n",
       "\n",
       "    .dataframe thead th {\n",
       "        text-align: left;\n",
       "    }\n",
       "\n",
       "    .dataframe tbody tr th {\n",
       "        vertical-align: top;\n",
       "    }\n",
       "</style>\n",
       "<table border=\"1\" class=\"dataframe\">\n",
       "  <thead>\n",
       "    <tr style=\"text-align: right;\">\n",
       "      <th></th>\n",
       "      <th>Timestamp</th>\n",
       "      <th>Age</th>\n",
       "      <th>Gender</th>\n",
       "      <th>Country</th>\n",
       "      <th>state</th>\n",
       "      <th>self_employed</th>\n",
       "      <th>family_history</th>\n",
       "      <th>treatment</th>\n",
       "      <th>no_employees</th>\n",
       "      <th>remote_work</th>\n",
       "      <th>...</th>\n",
       "      <th>leave</th>\n",
       "      <th>mental_health_consequence</th>\n",
       "      <th>phys_health_consequence</th>\n",
       "      <th>coworkers</th>\n",
       "      <th>supervisor</th>\n",
       "      <th>mental_health_interview</th>\n",
       "      <th>phys_health_interview</th>\n",
       "      <th>mental_vs_physical</th>\n",
       "      <th>obs_consequence</th>\n",
       "      <th>comments</th>\n",
       "    </tr>\n",
       "  </thead>\n",
       "  <tbody>\n",
       "    <tr>\n",
       "      <th>0</th>\n",
       "      <td>8/27/2014 11:29</td>\n",
       "      <td>37</td>\n",
       "      <td>Female</td>\n",
       "      <td>United States</td>\n",
       "      <td>IL</td>\n",
       "      <td>NaN</td>\n",
       "      <td>No</td>\n",
       "      <td>Yes</td>\n",
       "      <td>6-25</td>\n",
       "      <td>No</td>\n",
       "      <td>...</td>\n",
       "      <td>Somewhat easy</td>\n",
       "      <td>No</td>\n",
       "      <td>No</td>\n",
       "      <td>Some of them</td>\n",
       "      <td>Yes</td>\n",
       "      <td>No</td>\n",
       "      <td>Maybe</td>\n",
       "      <td>Yes</td>\n",
       "      <td>No</td>\n",
       "      <td>NaN</td>\n",
       "    </tr>\n",
       "    <tr>\n",
       "      <th>1</th>\n",
       "      <td>8/27/2014 11:29</td>\n",
       "      <td>44</td>\n",
       "      <td>Male</td>\n",
       "      <td>United States</td>\n",
       "      <td>IN</td>\n",
       "      <td>NaN</td>\n",
       "      <td>No</td>\n",
       "      <td>No</td>\n",
       "      <td>More than 1000</td>\n",
       "      <td>No</td>\n",
       "      <td>...</td>\n",
       "      <td>Don't know</td>\n",
       "      <td>Maybe</td>\n",
       "      <td>No</td>\n",
       "      <td>No</td>\n",
       "      <td>No</td>\n",
       "      <td>No</td>\n",
       "      <td>No</td>\n",
       "      <td>Don't know</td>\n",
       "      <td>No</td>\n",
       "      <td>NaN</td>\n",
       "    </tr>\n",
       "    <tr>\n",
       "      <th>2</th>\n",
       "      <td>8/27/2014 11:29</td>\n",
       "      <td>32</td>\n",
       "      <td>Male</td>\n",
       "      <td>Canada</td>\n",
       "      <td>NaN</td>\n",
       "      <td>NaN</td>\n",
       "      <td>No</td>\n",
       "      <td>No</td>\n",
       "      <td>6-25</td>\n",
       "      <td>No</td>\n",
       "      <td>...</td>\n",
       "      <td>Somewhat difficult</td>\n",
       "      <td>No</td>\n",
       "      <td>No</td>\n",
       "      <td>Yes</td>\n",
       "      <td>Yes</td>\n",
       "      <td>Yes</td>\n",
       "      <td>Yes</td>\n",
       "      <td>No</td>\n",
       "      <td>No</td>\n",
       "      <td>NaN</td>\n",
       "    </tr>\n",
       "    <tr>\n",
       "      <th>3</th>\n",
       "      <td>8/27/2014 11:29</td>\n",
       "      <td>31</td>\n",
       "      <td>Male</td>\n",
       "      <td>United Kingdom</td>\n",
       "      <td>NaN</td>\n",
       "      <td>NaN</td>\n",
       "      <td>Yes</td>\n",
       "      <td>Yes</td>\n",
       "      <td>26-100</td>\n",
       "      <td>No</td>\n",
       "      <td>...</td>\n",
       "      <td>Somewhat difficult</td>\n",
       "      <td>Yes</td>\n",
       "      <td>Yes</td>\n",
       "      <td>Some of them</td>\n",
       "      <td>No</td>\n",
       "      <td>Maybe</td>\n",
       "      <td>Maybe</td>\n",
       "      <td>No</td>\n",
       "      <td>Yes</td>\n",
       "      <td>NaN</td>\n",
       "    </tr>\n",
       "    <tr>\n",
       "      <th>4</th>\n",
       "      <td>8/27/2014 11:30</td>\n",
       "      <td>31</td>\n",
       "      <td>Male</td>\n",
       "      <td>United States</td>\n",
       "      <td>TX</td>\n",
       "      <td>NaN</td>\n",
       "      <td>No</td>\n",
       "      <td>No</td>\n",
       "      <td>100-500</td>\n",
       "      <td>Yes</td>\n",
       "      <td>...</td>\n",
       "      <td>Don't know</td>\n",
       "      <td>No</td>\n",
       "      <td>No</td>\n",
       "      <td>Some of them</td>\n",
       "      <td>Yes</td>\n",
       "      <td>Yes</td>\n",
       "      <td>Yes</td>\n",
       "      <td>Don't know</td>\n",
       "      <td>No</td>\n",
       "      <td>NaN</td>\n",
       "    </tr>\n",
       "    <tr>\n",
       "      <th>5</th>\n",
       "      <td>8/27/2014 11:31</td>\n",
       "      <td>33</td>\n",
       "      <td>Male</td>\n",
       "      <td>United States</td>\n",
       "      <td>TN</td>\n",
       "      <td>NaN</td>\n",
       "      <td>Yes</td>\n",
       "      <td>No</td>\n",
       "      <td>6-25</td>\n",
       "      <td>No</td>\n",
       "      <td>...</td>\n",
       "      <td>Don't know</td>\n",
       "      <td>No</td>\n",
       "      <td>No</td>\n",
       "      <td>Yes</td>\n",
       "      <td>Yes</td>\n",
       "      <td>No</td>\n",
       "      <td>Maybe</td>\n",
       "      <td>Don't know</td>\n",
       "      <td>No</td>\n",
       "      <td>NaN</td>\n",
       "    </tr>\n",
       "    <tr>\n",
       "      <th>6</th>\n",
       "      <td>8/27/2014 11:31</td>\n",
       "      <td>35</td>\n",
       "      <td>Female</td>\n",
       "      <td>United States</td>\n",
       "      <td>MI</td>\n",
       "      <td>NaN</td>\n",
       "      <td>Yes</td>\n",
       "      <td>Yes</td>\n",
       "      <td>1-5</td>\n",
       "      <td>Yes</td>\n",
       "      <td>...</td>\n",
       "      <td>Somewhat difficult</td>\n",
       "      <td>Maybe</td>\n",
       "      <td>Maybe</td>\n",
       "      <td>Some of them</td>\n",
       "      <td>No</td>\n",
       "      <td>No</td>\n",
       "      <td>No</td>\n",
       "      <td>Don't know</td>\n",
       "      <td>No</td>\n",
       "      <td>NaN</td>\n",
       "    </tr>\n",
       "    <tr>\n",
       "      <th>7</th>\n",
       "      <td>8/27/2014 11:32</td>\n",
       "      <td>39</td>\n",
       "      <td>Male</td>\n",
       "      <td>Canada</td>\n",
       "      <td>NaN</td>\n",
       "      <td>NaN</td>\n",
       "      <td>No</td>\n",
       "      <td>No</td>\n",
       "      <td>1-5</td>\n",
       "      <td>Yes</td>\n",
       "      <td>...</td>\n",
       "      <td>Don't know</td>\n",
       "      <td>No</td>\n",
       "      <td>No</td>\n",
       "      <td>No</td>\n",
       "      <td>No</td>\n",
       "      <td>No</td>\n",
       "      <td>No</td>\n",
       "      <td>No</td>\n",
       "      <td>No</td>\n",
       "      <td>NaN</td>\n",
       "    </tr>\n",
       "    <tr>\n",
       "      <th>8</th>\n",
       "      <td>8/27/2014 11:32</td>\n",
       "      <td>42</td>\n",
       "      <td>Female</td>\n",
       "      <td>United States</td>\n",
       "      <td>IL</td>\n",
       "      <td>NaN</td>\n",
       "      <td>Yes</td>\n",
       "      <td>Yes</td>\n",
       "      <td>100-500</td>\n",
       "      <td>No</td>\n",
       "      <td>...</td>\n",
       "      <td>Very difficult</td>\n",
       "      <td>Maybe</td>\n",
       "      <td>No</td>\n",
       "      <td>Yes</td>\n",
       "      <td>Yes</td>\n",
       "      <td>No</td>\n",
       "      <td>Maybe</td>\n",
       "      <td>No</td>\n",
       "      <td>No</td>\n",
       "      <td>NaN</td>\n",
       "    </tr>\n",
       "    <tr>\n",
       "      <th>9</th>\n",
       "      <td>8/27/2014 11:32</td>\n",
       "      <td>23</td>\n",
       "      <td>Male</td>\n",
       "      <td>Canada</td>\n",
       "      <td>NaN</td>\n",
       "      <td>NaN</td>\n",
       "      <td>No</td>\n",
       "      <td>No</td>\n",
       "      <td>26-100</td>\n",
       "      <td>No</td>\n",
       "      <td>...</td>\n",
       "      <td>Don't know</td>\n",
       "      <td>No</td>\n",
       "      <td>No</td>\n",
       "      <td>Yes</td>\n",
       "      <td>Yes</td>\n",
       "      <td>Maybe</td>\n",
       "      <td>Maybe</td>\n",
       "      <td>Yes</td>\n",
       "      <td>No</td>\n",
       "      <td>NaN</td>\n",
       "    </tr>\n",
       "    <tr>\n",
       "      <th>10</th>\n",
       "      <td>8/27/2014 11:32</td>\n",
       "      <td>31</td>\n",
       "      <td>Male</td>\n",
       "      <td>United States</td>\n",
       "      <td>OH</td>\n",
       "      <td>NaN</td>\n",
       "      <td>No</td>\n",
       "      <td>Yes</td>\n",
       "      <td>6-25</td>\n",
       "      <td>Yes</td>\n",
       "      <td>...</td>\n",
       "      <td>Don't know</td>\n",
       "      <td>No</td>\n",
       "      <td>No</td>\n",
       "      <td>Some of them</td>\n",
       "      <td>Yes</td>\n",
       "      <td>No</td>\n",
       "      <td>No</td>\n",
       "      <td>Don't know</td>\n",
       "      <td>No</td>\n",
       "      <td>NaN</td>\n",
       "    </tr>\n",
       "    <tr>\n",
       "      <th>11</th>\n",
       "      <td>8/27/2014 11:32</td>\n",
       "      <td>29</td>\n",
       "      <td>Male</td>\n",
       "      <td>Bulgaria</td>\n",
       "      <td>NaN</td>\n",
       "      <td>NaN</td>\n",
       "      <td>No</td>\n",
       "      <td>No</td>\n",
       "      <td>100-500</td>\n",
       "      <td>Yes</td>\n",
       "      <td>...</td>\n",
       "      <td>Don't know</td>\n",
       "      <td>No</td>\n",
       "      <td>No</td>\n",
       "      <td>Yes</td>\n",
       "      <td>Yes</td>\n",
       "      <td>Yes</td>\n",
       "      <td>Yes</td>\n",
       "      <td>Don't know</td>\n",
       "      <td>No</td>\n",
       "      <td>NaN</td>\n",
       "    </tr>\n",
       "    <tr>\n",
       "      <th>12</th>\n",
       "      <td>8/27/2014 11:33</td>\n",
       "      <td>42</td>\n",
       "      <td>Female</td>\n",
       "      <td>United States</td>\n",
       "      <td>CA</td>\n",
       "      <td>NaN</td>\n",
       "      <td>Yes</td>\n",
       "      <td>Yes</td>\n",
       "      <td>26-100</td>\n",
       "      <td>No</td>\n",
       "      <td>...</td>\n",
       "      <td>Somewhat difficult</td>\n",
       "      <td>Yes</td>\n",
       "      <td>Yes</td>\n",
       "      <td>Yes</td>\n",
       "      <td>Yes</td>\n",
       "      <td>Maybe</td>\n",
       "      <td>Maybe</td>\n",
       "      <td>No</td>\n",
       "      <td>Yes</td>\n",
       "      <td>NaN</td>\n",
       "    </tr>\n",
       "    <tr>\n",
       "      <th>13</th>\n",
       "      <td>8/27/2014 11:33</td>\n",
       "      <td>36</td>\n",
       "      <td>Male</td>\n",
       "      <td>United States</td>\n",
       "      <td>CT</td>\n",
       "      <td>NaN</td>\n",
       "      <td>Yes</td>\n",
       "      <td>No</td>\n",
       "      <td>500-1000</td>\n",
       "      <td>No</td>\n",
       "      <td>...</td>\n",
       "      <td>Don't know</td>\n",
       "      <td>No</td>\n",
       "      <td>No</td>\n",
       "      <td>Yes</td>\n",
       "      <td>Yes</td>\n",
       "      <td>No</td>\n",
       "      <td>No</td>\n",
       "      <td>Don't know</td>\n",
       "      <td>No</td>\n",
       "      <td>I'm not on my company's health insurance which...</td>\n",
       "    </tr>\n",
       "    <tr>\n",
       "      <th>14</th>\n",
       "      <td>8/27/2014 11:33</td>\n",
       "      <td>27</td>\n",
       "      <td>Male</td>\n",
       "      <td>Canada</td>\n",
       "      <td>NaN</td>\n",
       "      <td>NaN</td>\n",
       "      <td>No</td>\n",
       "      <td>No</td>\n",
       "      <td>6-25</td>\n",
       "      <td>No</td>\n",
       "      <td>...</td>\n",
       "      <td>Somewhat easy</td>\n",
       "      <td>No</td>\n",
       "      <td>No</td>\n",
       "      <td>Some of them</td>\n",
       "      <td>Some of them</td>\n",
       "      <td>Maybe</td>\n",
       "      <td>Yes</td>\n",
       "      <td>Yes</td>\n",
       "      <td>No</td>\n",
       "      <td>NaN</td>\n",
       "    </tr>\n",
       "    <tr>\n",
       "      <th>15</th>\n",
       "      <td>8/27/2014 11:34</td>\n",
       "      <td>29</td>\n",
       "      <td>Female</td>\n",
       "      <td>United States</td>\n",
       "      <td>IL</td>\n",
       "      <td>NaN</td>\n",
       "      <td>Yes</td>\n",
       "      <td>Yes</td>\n",
       "      <td>26-100</td>\n",
       "      <td>No</td>\n",
       "      <td>...</td>\n",
       "      <td>Somewhat easy</td>\n",
       "      <td>No</td>\n",
       "      <td>No</td>\n",
       "      <td>Yes</td>\n",
       "      <td>Some of them</td>\n",
       "      <td>Maybe</td>\n",
       "      <td>Maybe</td>\n",
       "      <td>Don't know</td>\n",
       "      <td>No</td>\n",
       "      <td>I have chronic low-level neurological issues t...</td>\n",
       "    </tr>\n",
       "    <tr>\n",
       "      <th>16</th>\n",
       "      <td>8/27/2014 11:34</td>\n",
       "      <td>23</td>\n",
       "      <td>Male</td>\n",
       "      <td>United Kingdom</td>\n",
       "      <td>NaN</td>\n",
       "      <td>NaN</td>\n",
       "      <td>No</td>\n",
       "      <td>Yes</td>\n",
       "      <td>26-100</td>\n",
       "      <td>Yes</td>\n",
       "      <td>...</td>\n",
       "      <td>Very easy</td>\n",
       "      <td>Maybe</td>\n",
       "      <td>No</td>\n",
       "      <td>Some of them</td>\n",
       "      <td>No</td>\n",
       "      <td>Maybe</td>\n",
       "      <td>Maybe</td>\n",
       "      <td>No</td>\n",
       "      <td>No</td>\n",
       "      <td>My company does provide healthcare but not to ...</td>\n",
       "    </tr>\n",
       "    <tr>\n",
       "      <th>17</th>\n",
       "      <td>8/27/2014 11:34</td>\n",
       "      <td>32</td>\n",
       "      <td>Male</td>\n",
       "      <td>United States</td>\n",
       "      <td>TN</td>\n",
       "      <td>NaN</td>\n",
       "      <td>No</td>\n",
       "      <td>Yes</td>\n",
       "      <td>6-25</td>\n",
       "      <td>No</td>\n",
       "      <td>...</td>\n",
       "      <td>Don't know</td>\n",
       "      <td>Maybe</td>\n",
       "      <td>No</td>\n",
       "      <td>Some of them</td>\n",
       "      <td>Yes</td>\n",
       "      <td>No</td>\n",
       "      <td>No</td>\n",
       "      <td>No</td>\n",
       "      <td>No</td>\n",
       "      <td>NaN</td>\n",
       "    </tr>\n",
       "  </tbody>\n",
       "</table>\n",
       "<p>18 rows × 26 columns</p>\n",
       "</div>"
      ],
      "text/plain": [
       "          Timestamp  Age  Gender         Country state self_employed  \\\n",
       "0   8/27/2014 11:29   37  Female   United States    IL           NaN   \n",
       "1   8/27/2014 11:29   44    Male   United States    IN           NaN   \n",
       "2   8/27/2014 11:29   32    Male          Canada   NaN           NaN   \n",
       "3   8/27/2014 11:29   31    Male  United Kingdom   NaN           NaN   \n",
       "4   8/27/2014 11:30   31    Male   United States    TX           NaN   \n",
       "5   8/27/2014 11:31   33    Male   United States    TN           NaN   \n",
       "6   8/27/2014 11:31   35  Female   United States    MI           NaN   \n",
       "7   8/27/2014 11:32   39    Male          Canada   NaN           NaN   \n",
       "8   8/27/2014 11:32   42  Female   United States    IL           NaN   \n",
       "9   8/27/2014 11:32   23    Male          Canada   NaN           NaN   \n",
       "10  8/27/2014 11:32   31    Male   United States    OH           NaN   \n",
       "11  8/27/2014 11:32   29    Male        Bulgaria   NaN           NaN   \n",
       "12  8/27/2014 11:33   42  Female   United States    CA           NaN   \n",
       "13  8/27/2014 11:33   36    Male   United States    CT           NaN   \n",
       "14  8/27/2014 11:33   27    Male          Canada   NaN           NaN   \n",
       "15  8/27/2014 11:34   29  Female   United States    IL           NaN   \n",
       "16  8/27/2014 11:34   23    Male  United Kingdom   NaN           NaN   \n",
       "17  8/27/2014 11:34   32    Male   United States    TN           NaN   \n",
       "\n",
       "   family_history treatment    no_employees remote_work  \\\n",
       "0              No       Yes            6-25          No   \n",
       "1              No        No  More than 1000          No   \n",
       "2              No        No            6-25          No   \n",
       "3             Yes       Yes          26-100          No   \n",
       "4              No        No         100-500         Yes   \n",
       "5             Yes        No            6-25          No   \n",
       "6             Yes       Yes             1-5         Yes   \n",
       "7              No        No             1-5         Yes   \n",
       "8             Yes       Yes         100-500          No   \n",
       "9              No        No          26-100          No   \n",
       "10             No       Yes            6-25         Yes   \n",
       "11             No        No         100-500         Yes   \n",
       "12            Yes       Yes          26-100          No   \n",
       "13            Yes        No        500-1000          No   \n",
       "14             No        No            6-25          No   \n",
       "15            Yes       Yes          26-100          No   \n",
       "16             No       Yes          26-100         Yes   \n",
       "17             No       Yes            6-25          No   \n",
       "\n",
       "                          ...                                       leave  \\\n",
       "0                         ...                               Somewhat easy   \n",
       "1                         ...                                  Don't know   \n",
       "2                         ...                          Somewhat difficult   \n",
       "3                         ...                          Somewhat difficult   \n",
       "4                         ...                                  Don't know   \n",
       "5                         ...                                  Don't know   \n",
       "6                         ...                          Somewhat difficult   \n",
       "7                         ...                                  Don't know   \n",
       "8                         ...                              Very difficult   \n",
       "9                         ...                                  Don't know   \n",
       "10                        ...                                  Don't know   \n",
       "11                        ...                                  Don't know   \n",
       "12                        ...                          Somewhat difficult   \n",
       "13                        ...                                  Don't know   \n",
       "14                        ...                               Somewhat easy   \n",
       "15                        ...                               Somewhat easy   \n",
       "16                        ...                                   Very easy   \n",
       "17                        ...                                  Don't know   \n",
       "\n",
       "   mental_health_consequence phys_health_consequence     coworkers  \\\n",
       "0                         No                      No  Some of them   \n",
       "1                      Maybe                      No            No   \n",
       "2                         No                      No           Yes   \n",
       "3                        Yes                     Yes  Some of them   \n",
       "4                         No                      No  Some of them   \n",
       "5                         No                      No           Yes   \n",
       "6                      Maybe                   Maybe  Some of them   \n",
       "7                         No                      No            No   \n",
       "8                      Maybe                      No           Yes   \n",
       "9                         No                      No           Yes   \n",
       "10                        No                      No  Some of them   \n",
       "11                        No                      No           Yes   \n",
       "12                       Yes                     Yes           Yes   \n",
       "13                        No                      No           Yes   \n",
       "14                        No                      No  Some of them   \n",
       "15                        No                      No           Yes   \n",
       "16                     Maybe                      No  Some of them   \n",
       "17                     Maybe                      No  Some of them   \n",
       "\n",
       "      supervisor mental_health_interview phys_health_interview  \\\n",
       "0            Yes                      No                 Maybe   \n",
       "1             No                      No                    No   \n",
       "2            Yes                     Yes                   Yes   \n",
       "3             No                   Maybe                 Maybe   \n",
       "4            Yes                     Yes                   Yes   \n",
       "5            Yes                      No                 Maybe   \n",
       "6             No                      No                    No   \n",
       "7             No                      No                    No   \n",
       "8            Yes                      No                 Maybe   \n",
       "9            Yes                   Maybe                 Maybe   \n",
       "10           Yes                      No                    No   \n",
       "11           Yes                     Yes                   Yes   \n",
       "12           Yes                   Maybe                 Maybe   \n",
       "13           Yes                      No                    No   \n",
       "14  Some of them                   Maybe                   Yes   \n",
       "15  Some of them                   Maybe                 Maybe   \n",
       "16            No                   Maybe                 Maybe   \n",
       "17           Yes                      No                    No   \n",
       "\n",
       "   mental_vs_physical obs_consequence  \\\n",
       "0                 Yes              No   \n",
       "1          Don't know              No   \n",
       "2                  No              No   \n",
       "3                  No             Yes   \n",
       "4          Don't know              No   \n",
       "5          Don't know              No   \n",
       "6          Don't know              No   \n",
       "7                  No              No   \n",
       "8                  No              No   \n",
       "9                 Yes              No   \n",
       "10         Don't know              No   \n",
       "11         Don't know              No   \n",
       "12                 No             Yes   \n",
       "13         Don't know              No   \n",
       "14                Yes              No   \n",
       "15         Don't know              No   \n",
       "16                 No              No   \n",
       "17                 No              No   \n",
       "\n",
       "                                             comments  \n",
       "0                                                 NaN  \n",
       "1                                                 NaN  \n",
       "2                                                 NaN  \n",
       "3                                                 NaN  \n",
       "4                                                 NaN  \n",
       "5                                                 NaN  \n",
       "6                                                 NaN  \n",
       "7                                                 NaN  \n",
       "8                                                 NaN  \n",
       "9                                                 NaN  \n",
       "10                                                NaN  \n",
       "11                                                NaN  \n",
       "12                                                NaN  \n",
       "13  I'm not on my company's health insurance which...  \n",
       "14                                                NaN  \n",
       "15  I have chronic low-level neurological issues t...  \n",
       "16  My company does provide healthcare but not to ...  \n",
       "17                                                NaN  \n",
       "\n",
       "[18 rows x 26 columns]"
      ]
     },
     "execution_count": 267,
     "metadata": {},
     "output_type": "execute_result"
    }
   ],
   "source": [
    "df[df['self_employed'].isnull()]"
   ]
  },
  {
   "cell_type": "markdown",
   "metadata": {},
   "source": [
    "Looks like valid data for the rest of the fields. *sigh* Let's drop them for now for convenience but these may be good candidates for data imputation also.\n",
    "\n",
    "Interesting that these seem to be the first 18 records of the data...perhaps there was a collection issue or self employed was introduced as a field after the survey began. "
   ]
  },
  {
   "cell_type": "code",
   "execution_count": 268,
   "metadata": {
    "collapsed": true
   },
   "outputs": [],
   "source": [
    "df = df[~df['self_employed'].isnull()]"
   ]
  },
  {
   "cell_type": "code",
   "execution_count": 269,
   "metadata": {},
   "outputs": [
    {
     "data": {
      "text/plain": [
       "1234"
      ]
     },
     "execution_count": 269,
     "metadata": {},
     "output_type": "execute_result"
    }
   ],
   "source": [
    "len(df)"
   ]
  },
  {
   "cell_type": "markdown",
   "metadata": {},
   "source": [
    "## Graphical EDA"
   ]
  },
  {
   "cell_type": "markdown",
   "metadata": {},
   "source": [
    "Let's look at some of our demographic data to learn more about the distributions in our respondents."
   ]
  },
  {
   "cell_type": "code",
   "execution_count": 270,
   "metadata": {
    "collapsed": true
   },
   "outputs": [],
   "source": [
    "plot_data = {}\n",
    "\n",
    "for feature in list(df):\n",
    "    if feature not in ['Timestamp', 'comments']:\n",
    "        #plot_details = []\n",
    "        plot_data[feature] = [[go.Bar(\n",
    "            x=df.groupby(feature).size().index,\n",
    "            y=df.groupby(feature).size()\n",
    "    )], go.Layout(title=\"%s Distribution\" % feature, xaxis={'title': feature}, yaxis={'title':'frequency'})]\n",
    "        plot_data[feature].append(go.Figure(data=plot_data[feature][0], layout = plot_data[feature][1]))\n",
    "            \n"
   ]
  },
  {
   "cell_type": "code",
   "execution_count": 271,
   "metadata": {},
   "outputs": [
    {
     "data": {
      "application/vnd.plotly.v1+json": {
       "data": [
        {
         "type": "bar",
         "x": [
          "No",
          "Yes"
         ],
         "y": [
          611,
          623
         ]
        }
       ],
       "layout": {
        "title": "treatment Distribution",
        "xaxis": {
         "title": "treatment"
        },
        "yaxis": {
         "title": "frequency"
        }
       }
      },
      "text/html": [
       "<div id=\"8cf5ebaf-1934-401a-a02d-8d2f43823822\" style=\"height: 525px; width: 100%;\" class=\"plotly-graph-div\"></div><script type=\"text/javascript\">require([\"plotly\"], function(Plotly) { window.PLOTLYENV=window.PLOTLYENV || {};window.PLOTLYENV.BASE_URL=\"https://plot.ly\";Plotly.newPlot(\"8cf5ebaf-1934-401a-a02d-8d2f43823822\", [{\"type\": \"bar\", \"x\": [\"No\", \"Yes\"], \"y\": [611, 623]}], {\"title\": \"treatment Distribution\", \"xaxis\": {\"title\": \"treatment\"}, \"yaxis\": {\"title\": \"frequency\"}}, {\"showLink\": true, \"linkText\": \"Export to plot.ly\"})});</script>"
      ],
      "text/vnd.plotly.v1+html": [
       "<div id=\"8cf5ebaf-1934-401a-a02d-8d2f43823822\" style=\"height: 525px; width: 100%;\" class=\"plotly-graph-div\"></div><script type=\"text/javascript\">require([\"plotly\"], function(Plotly) { window.PLOTLYENV=window.PLOTLYENV || {};window.PLOTLYENV.BASE_URL=\"https://plot.ly\";Plotly.newPlot(\"8cf5ebaf-1934-401a-a02d-8d2f43823822\", [{\"type\": \"bar\", \"x\": [\"No\", \"Yes\"], \"y\": [611, 623]}], {\"title\": \"treatment Distribution\", \"xaxis\": {\"title\": \"treatment\"}, \"yaxis\": {\"title\": \"frequency\"}}, {\"showLink\": true, \"linkText\": \"Export to plot.ly\"})});</script>"
      ]
     },
     "metadata": {},
     "output_type": "display_data"
    }
   ],
   "source": [
    "iplot(plot_data['treatment'][2])"
   ]
  },
  {
   "cell_type": "markdown",
   "metadata": {},
   "source": [
    "Data for our dependent variable, whether individuals sought treatment is balanced. "
   ]
  },
  {
   "cell_type": "code",
   "execution_count": 272,
   "metadata": {},
   "outputs": [
    {
     "data": {
      "application/vnd.plotly.v1+json": {
       "data": [
        {
         "type": "bar",
         "x": [
          18,
          19,
          20,
          21,
          22,
          23,
          24,
          25,
          26,
          27,
          28,
          29,
          30,
          31,
          32,
          33,
          34,
          35,
          36,
          37,
          38,
          39,
          40,
          41,
          42,
          43,
          44,
          45,
          46,
          47,
          48,
          49,
          50,
          51,
          53,
          54,
          55,
          56,
          57,
          58,
          60,
          61,
          62,
          65,
          72
         ],
         "y": [
          7,
          9,
          6,
          16,
          21,
          49,
          46,
          61,
          75,
          70,
          68,
          84,
          63,
          64,
          80,
          69,
          65,
          54,
          36,
          42,
          39,
          32,
          33,
          21,
          18,
          28,
          10,
          12,
          12,
          2,
          6,
          4,
          6,
          5,
          1,
          3,
          3,
          4,
          3,
          1,
          2,
          1,
          1,
          1,
          1
         ]
        }
       ],
       "layout": {
        "title": "Age Distribution",
        "xaxis": {
         "title": "Age"
        },
        "yaxis": {
         "title": "frequency"
        }
       }
      },
      "text/html": [
       "<div id=\"6945c374-a3f3-488a-89f9-5627e86766ee\" style=\"height: 525px; width: 100%;\" class=\"plotly-graph-div\"></div><script type=\"text/javascript\">require([\"plotly\"], function(Plotly) { window.PLOTLYENV=window.PLOTLYENV || {};window.PLOTLYENV.BASE_URL=\"https://plot.ly\";Plotly.newPlot(\"6945c374-a3f3-488a-89f9-5627e86766ee\", [{\"type\": \"bar\", \"x\": [18, 19, 20, 21, 22, 23, 24, 25, 26, 27, 28, 29, 30, 31, 32, 33, 34, 35, 36, 37, 38, 39, 40, 41, 42, 43, 44, 45, 46, 47, 48, 49, 50, 51, 53, 54, 55, 56, 57, 58, 60, 61, 62, 65, 72], \"y\": [7, 9, 6, 16, 21, 49, 46, 61, 75, 70, 68, 84, 63, 64, 80, 69, 65, 54, 36, 42, 39, 32, 33, 21, 18, 28, 10, 12, 12, 2, 6, 4, 6, 5, 1, 3, 3, 4, 3, 1, 2, 1, 1, 1, 1]}], {\"title\": \"Age Distribution\", \"xaxis\": {\"title\": \"Age\"}, \"yaxis\": {\"title\": \"frequency\"}}, {\"showLink\": true, \"linkText\": \"Export to plot.ly\"})});</script>"
      ],
      "text/vnd.plotly.v1+html": [
       "<div id=\"6945c374-a3f3-488a-89f9-5627e86766ee\" style=\"height: 525px; width: 100%;\" class=\"plotly-graph-div\"></div><script type=\"text/javascript\">require([\"plotly\"], function(Plotly) { window.PLOTLYENV=window.PLOTLYENV || {};window.PLOTLYENV.BASE_URL=\"https://plot.ly\";Plotly.newPlot(\"6945c374-a3f3-488a-89f9-5627e86766ee\", [{\"type\": \"bar\", \"x\": [18, 19, 20, 21, 22, 23, 24, 25, 26, 27, 28, 29, 30, 31, 32, 33, 34, 35, 36, 37, 38, 39, 40, 41, 42, 43, 44, 45, 46, 47, 48, 49, 50, 51, 53, 54, 55, 56, 57, 58, 60, 61, 62, 65, 72], \"y\": [7, 9, 6, 16, 21, 49, 46, 61, 75, 70, 68, 84, 63, 64, 80, 69, 65, 54, 36, 42, 39, 32, 33, 21, 18, 28, 10, 12, 12, 2, 6, 4, 6, 5, 1, 3, 3, 4, 3, 1, 2, 1, 1, 1, 1]}], {\"title\": \"Age Distribution\", \"xaxis\": {\"title\": \"Age\"}, \"yaxis\": {\"title\": \"frequency\"}}, {\"showLink\": true, \"linkText\": \"Export to plot.ly\"})});</script>"
      ]
     },
     "metadata": {},
     "output_type": "display_data"
    }
   ],
   "source": [
    "iplot(plot_data['Age'][2])"
   ]
  },
  {
   "cell_type": "markdown",
   "metadata": {},
   "source": [
    "Age distribution of respondents is centered around 30, starting at 18 with a long tail out to 72. This is consistent with expectations from the technology industry."
   ]
  },
  {
   "cell_type": "code",
   "execution_count": 273,
   "metadata": {},
   "outputs": [
    {
     "data": {
      "application/vnd.plotly.v1+json": {
       "data": [
        {
         "type": "bar",
         "x": [
          "Female",
          "Male",
          "Non-Binary"
         ],
         "y": [
          242,
          973,
          19
         ]
        }
       ],
       "layout": {
        "title": "Gender Distribution",
        "xaxis": {
         "title": "Gender"
        },
        "yaxis": {
         "title": "frequency"
        }
       }
      },
      "text/html": [
       "<div id=\"54778aba-e3f6-4b6a-be36-36918a1ef17f\" style=\"height: 525px; width: 100%;\" class=\"plotly-graph-div\"></div><script type=\"text/javascript\">require([\"plotly\"], function(Plotly) { window.PLOTLYENV=window.PLOTLYENV || {};window.PLOTLYENV.BASE_URL=\"https://plot.ly\";Plotly.newPlot(\"54778aba-e3f6-4b6a-be36-36918a1ef17f\", [{\"type\": \"bar\", \"x\": [\"Female\", \"Male\", \"Non-Binary\"], \"y\": [242, 973, 19]}], {\"title\": \"Gender Distribution\", \"xaxis\": {\"title\": \"Gender\"}, \"yaxis\": {\"title\": \"frequency\"}}, {\"showLink\": true, \"linkText\": \"Export to plot.ly\"})});</script>"
      ],
      "text/vnd.plotly.v1+html": [
       "<div id=\"54778aba-e3f6-4b6a-be36-36918a1ef17f\" style=\"height: 525px; width: 100%;\" class=\"plotly-graph-div\"></div><script type=\"text/javascript\">require([\"plotly\"], function(Plotly) { window.PLOTLYENV=window.PLOTLYENV || {};window.PLOTLYENV.BASE_URL=\"https://plot.ly\";Plotly.newPlot(\"54778aba-e3f6-4b6a-be36-36918a1ef17f\", [{\"type\": \"bar\", \"x\": [\"Female\", \"Male\", \"Non-Binary\"], \"y\": [242, 973, 19]}], {\"title\": \"Gender Distribution\", \"xaxis\": {\"title\": \"Gender\"}, \"yaxis\": {\"title\": \"frequency\"}}, {\"showLink\": true, \"linkText\": \"Export to plot.ly\"})});</script>"
      ]
     },
     "metadata": {},
     "output_type": "display_data"
    }
   ],
   "source": [
    "iplot(plot_data['Gender'][2])"
   ]
  },
  {
   "cell_type": "markdown",
   "metadata": {},
   "source": [
    "Responders are mostly male, unsurprising given the survey is of employees in technology."
   ]
  },
  {
   "cell_type": "code",
   "execution_count": 274,
   "metadata": {
    "scrolled": true
   },
   "outputs": [
    {
     "data": {
      "application/vnd.plotly.v1+json": {
       "data": [
        {
         "type": "bar",
         "x": [
          "No",
          "Yes"
         ],
         "y": [
          752,
          482
         ]
        }
       ],
       "layout": {
        "title": "family_history Distribution",
        "xaxis": {
         "title": "family_history"
        },
        "yaxis": {
         "title": "frequency"
        }
       }
      },
      "text/html": [
       "<div id=\"d1a75b36-5169-4dbb-ab2b-2ee0b7dcbe26\" style=\"height: 525px; width: 100%;\" class=\"plotly-graph-div\"></div><script type=\"text/javascript\">require([\"plotly\"], function(Plotly) { window.PLOTLYENV=window.PLOTLYENV || {};window.PLOTLYENV.BASE_URL=\"https://plot.ly\";Plotly.newPlot(\"d1a75b36-5169-4dbb-ab2b-2ee0b7dcbe26\", [{\"type\": \"bar\", \"x\": [\"No\", \"Yes\"], \"y\": [752, 482]}], {\"title\": \"family_history Distribution\", \"xaxis\": {\"title\": \"family_history\"}, \"yaxis\": {\"title\": \"frequency\"}}, {\"showLink\": true, \"linkText\": \"Export to plot.ly\"})});</script>"
      ],
      "text/vnd.plotly.v1+html": [
       "<div id=\"d1a75b36-5169-4dbb-ab2b-2ee0b7dcbe26\" style=\"height: 525px; width: 100%;\" class=\"plotly-graph-div\"></div><script type=\"text/javascript\">require([\"plotly\"], function(Plotly) { window.PLOTLYENV=window.PLOTLYENV || {};window.PLOTLYENV.BASE_URL=\"https://plot.ly\";Plotly.newPlot(\"d1a75b36-5169-4dbb-ab2b-2ee0b7dcbe26\", [{\"type\": \"bar\", \"x\": [\"No\", \"Yes\"], \"y\": [752, 482]}], {\"title\": \"family_history Distribution\", \"xaxis\": {\"title\": \"family_history\"}, \"yaxis\": {\"title\": \"frequency\"}}, {\"showLink\": true, \"linkText\": \"Export to plot.ly\"})});</script>"
      ]
     },
     "metadata": {},
     "output_type": "display_data"
    }
   ],
   "source": [
    "iplot(plot_data['family_history'][2])"
   ]
  },
  {
   "cell_type": "markdown",
   "metadata": {},
   "source": [
    "60% of the respondents have a family history of mental health problems which we anticipate to be a strong predictor of seeking mental health treatment."
   ]
  },
  {
   "cell_type": "code",
   "execution_count": 275,
   "metadata": {},
   "outputs": [
    {
     "data": {
      "application/vnd.plotly.v1+json": {
       "data": [
        {
         "type": "bar",
         "x": [
          "No",
          "Yes"
         ],
         "y": [
          1092,
          142
         ]
        }
       ],
       "layout": {
        "title": "self_employed Distribution",
        "xaxis": {
         "title": "self_employed"
        },
        "yaxis": {
         "title": "frequency"
        }
       }
      },
      "text/html": [
       "<div id=\"639e5746-c94e-4afe-a075-4cd665b117c0\" style=\"height: 525px; width: 100%;\" class=\"plotly-graph-div\"></div><script type=\"text/javascript\">require([\"plotly\"], function(Plotly) { window.PLOTLYENV=window.PLOTLYENV || {};window.PLOTLYENV.BASE_URL=\"https://plot.ly\";Plotly.newPlot(\"639e5746-c94e-4afe-a075-4cd665b117c0\", [{\"type\": \"bar\", \"x\": [\"No\", \"Yes\"], \"y\": [1092, 142]}], {\"title\": \"self_employed Distribution\", \"xaxis\": {\"title\": \"self_employed\"}, \"yaxis\": {\"title\": \"frequency\"}}, {\"showLink\": true, \"linkText\": \"Export to plot.ly\"})});</script>"
      ],
      "text/vnd.plotly.v1+html": [
       "<div id=\"639e5746-c94e-4afe-a075-4cd665b117c0\" style=\"height: 525px; width: 100%;\" class=\"plotly-graph-div\"></div><script type=\"text/javascript\">require([\"plotly\"], function(Plotly) { window.PLOTLYENV=window.PLOTLYENV || {};window.PLOTLYENV.BASE_URL=\"https://plot.ly\";Plotly.newPlot(\"639e5746-c94e-4afe-a075-4cd665b117c0\", [{\"type\": \"bar\", \"x\": [\"No\", \"Yes\"], \"y\": [1092, 142]}], {\"title\": \"self_employed Distribution\", \"xaxis\": {\"title\": \"self_employed\"}, \"yaxis\": {\"title\": \"frequency\"}}, {\"showLink\": true, \"linkText\": \"Export to plot.ly\"})});</script>"
      ]
     },
     "metadata": {},
     "output_type": "display_data"
    }
   ],
   "source": [
    "iplot(plot_data['self_employed'][2])"
   ]
  },
  {
   "cell_type": "markdown",
   "metadata": {},
   "source": [
    "Most respondents are not self employed."
   ]
  },
  {
   "cell_type": "code",
   "execution_count": 276,
   "metadata": {},
   "outputs": [
    {
     "data": {
      "application/vnd.plotly.v1+json": {
       "data": [
        {
         "type": "bar",
         "x": [
          "1-5",
          "100-500",
          "26-100",
          "500-1000",
          "6-25",
          "More than 1000"
         ],
         "y": [
          156,
          172,
          283,
          59,
          283,
          281
         ]
        }
       ],
       "layout": {
        "title": "no_employees Distribution",
        "xaxis": {
         "title": "no_employees"
        },
        "yaxis": {
         "title": "frequency"
        }
       }
      },
      "text/html": [
       "<div id=\"06f3821b-97da-455e-a336-267430175024\" style=\"height: 525px; width: 100%;\" class=\"plotly-graph-div\"></div><script type=\"text/javascript\">require([\"plotly\"], function(Plotly) { window.PLOTLYENV=window.PLOTLYENV || {};window.PLOTLYENV.BASE_URL=\"https://plot.ly\";Plotly.newPlot(\"06f3821b-97da-455e-a336-267430175024\", [{\"type\": \"bar\", \"x\": [\"1-5\", \"100-500\", \"26-100\", \"500-1000\", \"6-25\", \"More than 1000\"], \"y\": [156, 172, 283, 59, 283, 281]}], {\"title\": \"no_employees Distribution\", \"xaxis\": {\"title\": \"no_employees\"}, \"yaxis\": {\"title\": \"frequency\"}}, {\"showLink\": true, \"linkText\": \"Export to plot.ly\"})});</script>"
      ],
      "text/vnd.plotly.v1+html": [
       "<div id=\"06f3821b-97da-455e-a336-267430175024\" style=\"height: 525px; width: 100%;\" class=\"plotly-graph-div\"></div><script type=\"text/javascript\">require([\"plotly\"], function(Plotly) { window.PLOTLYENV=window.PLOTLYENV || {};window.PLOTLYENV.BASE_URL=\"https://plot.ly\";Plotly.newPlot(\"06f3821b-97da-455e-a336-267430175024\", [{\"type\": \"bar\", \"x\": [\"1-5\", \"100-500\", \"26-100\", \"500-1000\", \"6-25\", \"More than 1000\"], \"y\": [156, 172, 283, 59, 283, 281]}], {\"title\": \"no_employees Distribution\", \"xaxis\": {\"title\": \"no_employees\"}, \"yaxis\": {\"title\": \"frequency\"}}, {\"showLink\": true, \"linkText\": \"Export to plot.ly\"})});</script>"
      ]
     },
     "metadata": {},
     "output_type": "display_data"
    }
   ],
   "source": [
    "iplot(plot_data['no_employees'][2])"
   ]
  },
  {
   "cell_type": "markdown",
   "metadata": {},
   "source": [
    "We see a reasonable distribution of company sizes. Interestingly there are not a lot of midsized companies. "
   ]
  },
  {
   "cell_type": "code",
   "execution_count": 277,
   "metadata": {},
   "outputs": [
    {
     "data": {
      "application/vnd.plotly.v1+json": {
       "data": [
        {
         "colorbar": {
          "title": "Count of Responders"
         },
         "locationmode": "USA-states",
         "locations": [
          "AL",
          "AZ",
          "CA",
          "CO",
          "CT",
          "DC",
          "FL",
          "GA",
          "IA",
          "ID",
          "IL",
          "IN",
          "KS",
          "KY",
          "LA",
          "MA",
          "MD",
          "ME",
          "MI",
          "MN",
          "MO",
          "MS",
          "NC",
          "NE",
          "NH",
          "NJ",
          "NM",
          "NV",
          "NY",
          "OH",
          "OK",
          "OR",
          "PA",
          "RI",
          "SC",
          "SD",
          "TN",
          "TX",
          "UT",
          "VA",
          "VT",
          "WA",
          "WI",
          "WV",
          "WY"
         ],
         "reversescale": false,
         "type": "choropleth",
         "z": [
          7,
          7,
          137,
          9,
          3,
          4,
          15,
          12,
          4,
          1,
          25,
          26,
          3,
          5,
          1,
          20,
          8,
          1,
          21,
          21,
          12,
          1,
          14,
          2,
          3,
          6,
          2,
          3,
          57,
          26,
          6,
          29,
          29,
          1,
          5,
          3,
          43,
          43,
          11,
          14,
          3,
          70,
          12,
          1,
          2
         ]
        }
       ],
       "layout": {
        "geo": {
         "projection": {
          "type": "Mercator"
         },
         "scope": "usa",
         "showframe": false
        },
        "title": "Respondent Density by State"
       }
      },
      "text/html": [
       "<div id=\"c12ca3ff-c9e5-4ea8-b3fc-ff533d0f5a35\" style=\"height: 525px; width: 100%;\" class=\"plotly-graph-div\"></div><script type=\"text/javascript\">require([\"plotly\"], function(Plotly) { window.PLOTLYENV=window.PLOTLYENV || {};window.PLOTLYENV.BASE_URL=\"https://plot.ly\";Plotly.newPlot(\"c12ca3ff-c9e5-4ea8-b3fc-ff533d0f5a35\", [{\"type\": \"choropleth\", \"locations\": [\"AL\", \"AZ\", \"CA\", \"CO\", \"CT\", \"DC\", \"FL\", \"GA\", \"IA\", \"ID\", \"IL\", \"IN\", \"KS\", \"KY\", \"LA\", \"MA\", \"MD\", \"ME\", \"MI\", \"MN\", \"MO\", \"MS\", \"NC\", \"NE\", \"NH\", \"NJ\", \"NM\", \"NV\", \"NY\", \"OH\", \"OK\", \"OR\", \"PA\", \"RI\", \"SC\", \"SD\", \"TN\", \"TX\", \"UT\", \"VA\", \"VT\", \"WA\", \"WI\", \"WV\", \"WY\"], \"z\": [7, 7, 137, 9, 3, 4, 15, 12, 4, 1, 25, 26, 3, 5, 1, 20, 8, 1, 21, 21, 12, 1, 14, 2, 3, 6, 2, 3, 57, 26, 6, 29, 29, 1, 5, 3, 43, 43, 11, 14, 3, 70, 12, 1, 2], \"locationmode\": \"USA-states\", \"reversescale\": false, \"colorbar\": {\"title\": \"Count of Responders\"}}], {\"title\": \"Respondent Density by State\", \"geo\": {\"scope\": \"usa\", \"showframe\": false, \"projection\": {\"type\": \"Mercator\"}}}, {\"showLink\": true, \"linkText\": \"Export to plot.ly\"})});</script>"
      ],
      "text/vnd.plotly.v1+html": [
       "<div id=\"c12ca3ff-c9e5-4ea8-b3fc-ff533d0f5a35\" style=\"height: 525px; width: 100%;\" class=\"plotly-graph-div\"></div><script type=\"text/javascript\">require([\"plotly\"], function(Plotly) { window.PLOTLYENV=window.PLOTLYENV || {};window.PLOTLYENV.BASE_URL=\"https://plot.ly\";Plotly.newPlot(\"c12ca3ff-c9e5-4ea8-b3fc-ff533d0f5a35\", [{\"type\": \"choropleth\", \"locations\": [\"AL\", \"AZ\", \"CA\", \"CO\", \"CT\", \"DC\", \"FL\", \"GA\", \"IA\", \"ID\", \"IL\", \"IN\", \"KS\", \"KY\", \"LA\", \"MA\", \"MD\", \"ME\", \"MI\", \"MN\", \"MO\", \"MS\", \"NC\", \"NE\", \"NH\", \"NJ\", \"NM\", \"NV\", \"NY\", \"OH\", \"OK\", \"OR\", \"PA\", \"RI\", \"SC\", \"SD\", \"TN\", \"TX\", \"UT\", \"VA\", \"VT\", \"WA\", \"WI\", \"WV\", \"WY\"], \"z\": [7, 7, 137, 9, 3, 4, 15, 12, 4, 1, 25, 26, 3, 5, 1, 20, 8, 1, 21, 21, 12, 1, 14, 2, 3, 6, 2, 3, 57, 26, 6, 29, 29, 1, 5, 3, 43, 43, 11, 14, 3, 70, 12, 1, 2], \"locationmode\": \"USA-states\", \"reversescale\": false, \"colorbar\": {\"title\": \"Count of Responders\"}}], {\"title\": \"Respondent Density by State\", \"geo\": {\"scope\": \"usa\", \"showframe\": false, \"projection\": {\"type\": \"Mercator\"}}}, {\"showLink\": true, \"linkText\": \"Export to plot.ly\"})});</script>"
      ]
     },
     "metadata": {},
     "output_type": "display_data"
    }
   ],
   "source": [
    "state_count = pd.DataFrame({'State': df.groupby(['state']).size().index,\n",
    "                            'Count': df.groupby(['state']).size()})\n",
    "test = [ dict(\n",
    "            type = 'choropleth',\n",
    "            locations = state_count['State'],\n",
    "            z = state_count['Count'],\n",
    "            locationmode = 'USA-states',\n",
    "            reversescale = False,\n",
    "            colorbar = dict(title = 'Count of Responders')\n",
    ")]\n",
    "\n",
    "layout = dict(\n",
    "            title='Respondent Density by State',\n",
    "            geo = dict(\n",
    "                scope='usa',\n",
    "                showframe=False,\n",
    "                projection={'type':'Mercator'}\n",
    "))\n",
    "\n",
    "choromap = go.Figure(data = test,layout = layout)\n",
    "iplot(choromap,validate=False)"
   ]
  },
  {
   "cell_type": "markdown",
   "metadata": {},
   "source": [
    "In the United States, most of our responders are in California (137), Washington (70), New York (54), and Texas and Tennessee (43). Tennessee was a little surprising but apparently they have a flourishing tech scene particularly in health and digital entertainment. The more you know."
   ]
  },
  {
   "cell_type": "markdown",
   "metadata": {},
   "source": [
    "## Prepare data for analysis"
   ]
  },
  {
   "cell_type": "markdown",
   "metadata": {},
   "source": [
    "Create dummies for categorical dependent variables."
   ]
  },
  {
   "cell_type": "code",
   "execution_count": 278,
   "metadata": {},
   "outputs": [
    {
     "data": {
      "text/plain": [
       "Country\n",
       "Australia                  21\n",
       "Austria                     3\n",
       "Belgium                     6\n",
       "Bosnia and Herzegovina      1\n",
       "Brazil                      6\n",
       "Bulgaria                    3\n",
       "Canada                     68\n",
       "China                       1\n",
       "Colombia                    2\n",
       "Costa Rica                  1\n",
       "Croatia                     2\n",
       "Czech Republic              1\n",
       "Denmark                     2\n",
       "Finland                     3\n",
       "France                     13\n",
       "Georgia                     1\n",
       "Germany                    45\n",
       "Greece                      2\n",
       "Hungary                     1\n",
       "India                      10\n",
       "Ireland                    27\n",
       "Israel                      5\n",
       "Italy                       7\n",
       "Japan                       1\n",
       "Latvia                      1\n",
       "Mexico                      3\n",
       "Moldova                     1\n",
       "Netherlands                27\n",
       "New Zealand                 8\n",
       "Nigeria                     1\n",
       "Norway                      1\n",
       "Philippines                 1\n",
       "Poland                      7\n",
       "Portugal                    2\n",
       "Romania                     1\n",
       "Russia                      3\n",
       "Singapore                   4\n",
       "Slovenia                    1\n",
       "South Africa                6\n",
       "Spain                       1\n",
       "Sweden                      7\n",
       "Switzerland                 7\n",
       "Thailand                    1\n",
       "United Kingdom            182\n",
       "United States             736\n",
       "Uruguay                     1\n",
       "dtype: int64"
      ]
     },
     "execution_count": 278,
     "metadata": {},
     "output_type": "execute_result"
    }
   ],
   "source": [
    "df.groupby(['Country']).size()"
   ]
  },
  {
   "cell_type": "markdown",
   "metadata": {},
   "source": [
    "Most of the respondents are in the US so let's bucket country into US and outside it."
   ]
  },
  {
   "cell_type": "code",
   "execution_count": 279,
   "metadata": {
    "collapsed": true
   },
   "outputs": [],
   "source": [
    "df['USA'] = df['Country'].apply(lambda x: 1 if x == 'United States' else 0)"
   ]
  },
  {
   "cell_type": "markdown",
   "metadata": {},
   "source": [
    "Let's create a variable for if people comment to see if whether or not someone decides to leave survey comments has any predictive power."
   ]
  },
  {
   "cell_type": "code",
   "execution_count": 280,
   "metadata": {
    "collapsed": true
   },
   "outputs": [],
   "source": [
    "df['commenter'] = df['comments'].apply(lambda x: 1 if x == np.nan else 0)"
   ]
  },
  {
   "cell_type": "code",
   "execution_count": 281,
   "metadata": {
    "collapsed": true
   },
   "outputs": [],
   "source": [
    "# below causes memory issues...\n",
    "# for col in list(df):\n",
    "#     if col not in ['Timestamp', 'Age', 'Country', 'state', 'treatment', 'comments']:\n",
    "#         df = df.append(pd.get_dummies(df[[col]], drop_first=True))\n",
    "\n",
    "dummy_cols = [col for col in list(df) if col not in ['Timestamp', 'Age', 'Country', 'state', 'comments', 'USA']]\n",
    "\n",
    "df_dummies = pd.get_dummies(df[dummy_cols], drop_first=True)\n",
    "\n",
    "#df_dummies = df_dummies.append(df[['Age', 'treatment', 'USA']]) # appending as NaN - why? \n",
    "\n",
    "model_df = pd.concat([df_dummies, df[['Age', 'USA']]], axis = 1)"
   ]
  },
  {
   "cell_type": "code",
   "execution_count": 282,
   "metadata": {},
   "outputs": [
    {
     "data": {
      "text/html": [
       "<div>\n",
       "<style>\n",
       "    .dataframe thead tr:only-child th {\n",
       "        text-align: right;\n",
       "    }\n",
       "\n",
       "    .dataframe thead th {\n",
       "        text-align: left;\n",
       "    }\n",
       "\n",
       "    .dataframe tbody tr th {\n",
       "        vertical-align: top;\n",
       "    }\n",
       "</style>\n",
       "<table border=\"1\" class=\"dataframe\">\n",
       "  <thead>\n",
       "    <tr style=\"text-align: right;\">\n",
       "      <th></th>\n",
       "      <th>commenter</th>\n",
       "      <th>Gender_Male</th>\n",
       "      <th>Gender_Non-Binary</th>\n",
       "      <th>self_employed_Yes</th>\n",
       "      <th>family_history_Yes</th>\n",
       "      <th>treatment_Yes</th>\n",
       "      <th>no_employees_100-500</th>\n",
       "      <th>no_employees_26-100</th>\n",
       "      <th>no_employees_500-1000</th>\n",
       "      <th>no_employees_6-25</th>\n",
       "      <th>...</th>\n",
       "      <th>supervisor_Yes</th>\n",
       "      <th>mental_health_interview_No</th>\n",
       "      <th>mental_health_interview_Yes</th>\n",
       "      <th>phys_health_interview_No</th>\n",
       "      <th>phys_health_interview_Yes</th>\n",
       "      <th>mental_vs_physical_No</th>\n",
       "      <th>mental_vs_physical_Yes</th>\n",
       "      <th>obs_consequence_Yes</th>\n",
       "      <th>Age</th>\n",
       "      <th>USA</th>\n",
       "    </tr>\n",
       "  </thead>\n",
       "  <tbody>\n",
       "    <tr>\n",
       "      <th>18</th>\n",
       "      <td>0</td>\n",
       "      <td>1</td>\n",
       "      <td>0</td>\n",
       "      <td>1</td>\n",
       "      <td>1</td>\n",
       "      <td>0</td>\n",
       "      <td>0</td>\n",
       "      <td>0</td>\n",
       "      <td>0</td>\n",
       "      <td>0</td>\n",
       "      <td>...</td>\n",
       "      <td>1</td>\n",
       "      <td>1</td>\n",
       "      <td>0</td>\n",
       "      <td>0</td>\n",
       "      <td>1</td>\n",
       "      <td>0</td>\n",
       "      <td>1</td>\n",
       "      <td>1</td>\n",
       "      <td>46</td>\n",
       "      <td>1</td>\n",
       "    </tr>\n",
       "    <tr>\n",
       "      <th>19</th>\n",
       "      <td>0</td>\n",
       "      <td>1</td>\n",
       "      <td>0</td>\n",
       "      <td>1</td>\n",
       "      <td>1</td>\n",
       "      <td>0</td>\n",
       "      <td>0</td>\n",
       "      <td>0</td>\n",
       "      <td>0</td>\n",
       "      <td>1</td>\n",
       "      <td>...</td>\n",
       "      <td>0</td>\n",
       "      <td>0</td>\n",
       "      <td>0</td>\n",
       "      <td>0</td>\n",
       "      <td>0</td>\n",
       "      <td>0</td>\n",
       "      <td>0</td>\n",
       "      <td>0</td>\n",
       "      <td>36</td>\n",
       "      <td>0</td>\n",
       "    </tr>\n",
       "    <tr>\n",
       "      <th>20</th>\n",
       "      <td>0</td>\n",
       "      <td>1</td>\n",
       "      <td>0</td>\n",
       "      <td>0</td>\n",
       "      <td>1</td>\n",
       "      <td>1</td>\n",
       "      <td>1</td>\n",
       "      <td>0</td>\n",
       "      <td>0</td>\n",
       "      <td>0</td>\n",
       "      <td>...</td>\n",
       "      <td>0</td>\n",
       "      <td>1</td>\n",
       "      <td>0</td>\n",
       "      <td>1</td>\n",
       "      <td>0</td>\n",
       "      <td>1</td>\n",
       "      <td>0</td>\n",
       "      <td>0</td>\n",
       "      <td>29</td>\n",
       "      <td>1</td>\n",
       "    </tr>\n",
       "    <tr>\n",
       "      <th>21</th>\n",
       "      <td>0</td>\n",
       "      <td>1</td>\n",
       "      <td>0</td>\n",
       "      <td>1</td>\n",
       "      <td>0</td>\n",
       "      <td>0</td>\n",
       "      <td>0</td>\n",
       "      <td>0</td>\n",
       "      <td>0</td>\n",
       "      <td>0</td>\n",
       "      <td>...</td>\n",
       "      <td>0</td>\n",
       "      <td>1</td>\n",
       "      <td>0</td>\n",
       "      <td>0</td>\n",
       "      <td>0</td>\n",
       "      <td>0</td>\n",
       "      <td>1</td>\n",
       "      <td>0</td>\n",
       "      <td>31</td>\n",
       "      <td>1</td>\n",
       "    </tr>\n",
       "    <tr>\n",
       "      <th>22</th>\n",
       "      <td>0</td>\n",
       "      <td>1</td>\n",
       "      <td>0</td>\n",
       "      <td>0</td>\n",
       "      <td>0</td>\n",
       "      <td>1</td>\n",
       "      <td>0</td>\n",
       "      <td>1</td>\n",
       "      <td>0</td>\n",
       "      <td>0</td>\n",
       "      <td>...</td>\n",
       "      <td>1</td>\n",
       "      <td>1</td>\n",
       "      <td>0</td>\n",
       "      <td>0</td>\n",
       "      <td>0</td>\n",
       "      <td>1</td>\n",
       "      <td>0</td>\n",
       "      <td>0</td>\n",
       "      <td>46</td>\n",
       "      <td>1</td>\n",
       "    </tr>\n",
       "  </tbody>\n",
       "</table>\n",
       "<p>5 rows × 44 columns</p>\n",
       "</div>"
      ],
      "text/plain": [
       "    commenter  Gender_Male  Gender_Non-Binary  self_employed_Yes  \\\n",
       "18          0            1                  0                  1   \n",
       "19          0            1                  0                  1   \n",
       "20          0            1                  0                  0   \n",
       "21          0            1                  0                  1   \n",
       "22          0            1                  0                  0   \n",
       "\n",
       "    family_history_Yes  treatment_Yes  no_employees_100-500  \\\n",
       "18                   1              0                     0   \n",
       "19                   1              0                     0   \n",
       "20                   1              1                     1   \n",
       "21                   0              0                     0   \n",
       "22                   0              1                     0   \n",
       "\n",
       "    no_employees_26-100  no_employees_500-1000  no_employees_6-25 ...   \\\n",
       "18                    0                      0                  0 ...    \n",
       "19                    0                      0                  1 ...    \n",
       "20                    0                      0                  0 ...    \n",
       "21                    0                      0                  0 ...    \n",
       "22                    1                      0                  0 ...    \n",
       "\n",
       "    supervisor_Yes  mental_health_interview_No  mental_health_interview_Yes  \\\n",
       "18               1                           1                            0   \n",
       "19               0                           0                            0   \n",
       "20               0                           1                            0   \n",
       "21               0                           1                            0   \n",
       "22               1                           1                            0   \n",
       "\n",
       "    phys_health_interview_No  phys_health_interview_Yes  \\\n",
       "18                         0                          1   \n",
       "19                         0                          0   \n",
       "20                         1                          0   \n",
       "21                         0                          0   \n",
       "22                         0                          0   \n",
       "\n",
       "    mental_vs_physical_No  mental_vs_physical_Yes  obs_consequence_Yes  Age  \\\n",
       "18                      0                       1                    1   46   \n",
       "19                      0                       0                    0   36   \n",
       "20                      1                       0                    0   29   \n",
       "21                      0                       1                    0   31   \n",
       "22                      1                       0                    0   46   \n",
       "\n",
       "    USA  \n",
       "18    1  \n",
       "19    0  \n",
       "20    1  \n",
       "21    1  \n",
       "22    1  \n",
       "\n",
       "[5 rows x 44 columns]"
      ]
     },
     "execution_count": 282,
     "metadata": {},
     "output_type": "execute_result"
    }
   ],
   "source": [
    "model_df.head() "
   ]
  },
  {
   "cell_type": "code",
   "execution_count": 283,
   "metadata": {
    "collapsed": true
   },
   "outputs": [],
   "source": [
    "df_x = model_df.drop(['treatment_Yes'], axis = 1)\n",
    "df_y = model_df['treatment_Yes']"
   ]
  },
  {
   "cell_type": "markdown",
   "metadata": {},
   "source": [
    "Check for strong collinearity between our variables."
   ]
  },
  {
   "cell_type": "code",
   "execution_count": 284,
   "metadata": {},
   "outputs": [
    {
     "data": {
      "text/plain": [
       "commenter                        False\n",
       "Gender_Male                      False\n",
       "Gender_Non-Binary                False\n",
       "self_employed_Yes                False\n",
       "family_history_Yes               False\n",
       "no_employees_100-500             False\n",
       "no_employees_26-100              False\n",
       "no_employees_500-1000            False\n",
       "no_employees_6-25                False\n",
       "no_employees_More than 1000      False\n",
       "remote_work_Yes                  False\n",
       "tech_company_Yes                 False\n",
       "benefits_No                      False\n",
       "benefits_Yes                     False\n",
       "care_options_Not sure            False\n",
       "care_options_Yes                 False\n",
       "wellness_program_No              False\n",
       "wellness_program_Yes             False\n",
       "seek_help_No                     False\n",
       "seek_help_Yes                    False\n",
       "anonymity_No                     False\n",
       "anonymity_Yes                    False\n",
       "leave_Somewhat difficult         False\n",
       "leave_Somewhat easy              False\n",
       "leave_Very difficult             False\n",
       "leave_Very easy                  False\n",
       "mental_health_consequence_No     False\n",
       "mental_health_consequence_Yes    False\n",
       "phys_health_consequence_No       False\n",
       "phys_health_consequence_Yes      False\n",
       "coworkers_Some of them           False\n",
       "coworkers_Yes                    False\n",
       "supervisor_Some of them          False\n",
       "supervisor_Yes                   False\n",
       "mental_health_interview_No       False\n",
       "mental_health_interview_Yes      False\n",
       "phys_health_interview_No         False\n",
       "phys_health_interview_Yes        False\n",
       "mental_vs_physical_No            False\n",
       "mental_vs_physical_Yes           False\n",
       "obs_consequence_Yes              False\n",
       "Age                              False\n",
       "USA                              False\n",
       "dtype: bool"
      ]
     },
     "execution_count": 284,
     "metadata": {},
     "output_type": "execute_result"
    }
   ],
   "source": [
    "df_x_corr = df_x.corr()\n",
    "\n",
    "(((df_x_corr > 0.75) & (df_x_corr < 1)).any() | (df_x_corr < -0.75).any())"
   ]
  },
  {
   "cell_type": "markdown",
   "metadata": {},
   "source": [
    "Create training and test data sets. "
   ]
  },
  {
   "cell_type": "code",
   "execution_count": 285,
   "metadata": {
    "collapsed": true
   },
   "outputs": [],
   "source": [
    "df_train_x, df_test_x, df_train_y, df_test_y = train_test_split(df_x, df_y, train_size = 0.7, random_state = 2)"
   ]
  },
  {
   "cell_type": "markdown",
   "metadata": {},
   "source": [
    "### Construct Classifers\n",
    "\n",
    "All of the models selected are well suited for classification problems. We will run simple classifiers as well as some classifiers with tuned parameters to see which best handle our data."
   ]
  },
  {
   "cell_type": "code",
   "execution_count": 286,
   "metadata": {
    "collapsed": true
   },
   "outputs": [],
   "source": [
    "classifier_names = ['Logit', 'DecisionTree', 'GradientBoosting', 'RandomForest', 'MLP', 'LogitRegularized', 'DecisionTreePruned']\n",
    "\n",
    "# Simple Classifiers\n",
    "logit = LogisticRegression(C=1e5)\n",
    "dt = tree.DecisionTreeClassifier(criterion=\"gini\", min_samples_split=10)\n",
    "gbt = GradientBoostingClassifier(learning_rate=0.2, n_estimators=1000, max_depth=3)\n",
    "rf = RandomForestClassifier(max_depth = 3, random_state = 0)\n",
    "mlp = MLPClassifier(solver='lbfgs', alpha = 1e-5, hidden_layer_sizes=(42,42,42), random_state = 1)\n",
    "\n",
    "# Regularized Classifiers\n",
    "tuned_parameters = {'C': list(np.power(10.0, np.arange(-10, 10)))}\n",
    "parameters = {'max_depth':list(range(3,20))}\n",
    "\n",
    "logit_reg = GridSearchCV(LogisticRegression(), tuned_parameters, cv=3, scoring=\"roc_auc\")\n",
    "dt_pruned = GridSearchCV(tree.DecisionTreeClassifier(), parameters, n_jobs=4) \n",
    "\n",
    "classifier_obj = [logit, dt, gbt, rf, mlp, logit_reg, dt_pruned]\n",
    "\n",
    "models_dict = dict(zip(classifier_names, classifier_obj))"
   ]
  },
  {
   "cell_type": "markdown",
   "metadata": {},
   "source": [
    "### Let's create functions to store evaluation metrics."
   ]
  },
  {
   "cell_type": "code",
   "execution_count": 287,
   "metadata": {
    "collapsed": true
   },
   "outputs": [],
   "source": [
    "def add_results(results, clf, classifier_name):\n",
    "    results[classifier_name] = {'Accuracy': accuracy_score(df_test_y, clf.predict(df_test_x)),\n",
    "                        'Test Error Rate': np.mean(clf.predict(df_test_x) != df_test_y),\n",
    "                        'Training Error Rate': np.mean(clf.predict(df_train_x) != df_train_y),\n",
    "                        'ConfMat': pd.crosstab(index=df_test_y, columns=clf.predict(df_test_x), rownames=['True'], colnames=['Predicted'])\n",
    "                        }\n",
    "    return results\n",
    "\n",
    "\n",
    "def plot_roc_curve(clf, classifier_name):\n",
    "    fpr, tpr, threshoolds = roc_curve(df_test_y, clf.predict(df_test_x))\n",
    "\n",
    "    fpr_rand = tpr_rand = np.linspace(0, 1, 10)\n",
    "    plt.plot(fpr, tpr) \n",
    "    plt.plot(fpr_rand, tpr_rand, linestyle='--') \n",
    "    plt.title('ROC Curve for %s' % classifier_name)\n",
    "    plt.show()\n",
    "    "
   ]
  },
  {
   "cell_type": "markdown",
   "metadata": {},
   "source": [
    "Let's calculate our evaluation metrics for the classifiers we defined"
   ]
  },
  {
   "cell_type": "code",
   "execution_count": 288,
   "metadata": {
    "collapsed": true
   },
   "outputs": [],
   "source": [
    "model_results = {}\n",
    "\n",
    "for k, v in models_dict.items():\n",
    "    v.fit(df_train_x, df_train_y)\n",
    "    add_results(model_results, v, k)\n",
    "    "
   ]
  },
  {
   "cell_type": "markdown",
   "metadata": {},
   "source": [
    "### Model evaluation"
   ]
  },
  {
   "cell_type": "code",
   "execution_count": 289,
   "metadata": {
    "scrolled": true
   },
   "outputs": [
    {
     "data": {
      "text/plain": [
       "[('LogitRegularized', 0.71967654986522911),\n",
       " ('DecisionTreePruned', 0.71159029649595684),\n",
       " ('MLP', 0.70350404312668469),\n",
       " ('Logit', 0.70350404312668469),\n",
       " ('RandomForest', 0.6846361185983828),\n",
       " ('GradientBoosting', 0.68194070080862534),\n",
       " ('DecisionTree', 0.60646900269541781)]"
      ]
     },
     "execution_count": 289,
     "metadata": {},
     "output_type": "execute_result"
    }
   ],
   "source": [
    "model_accuracies = {x:model_results[x]['Accuracy'] for x in [k for k,v in model_results.items()]}\n",
    "sorted(model_accuracies.items(), key = lambda x:x[1])[::-1]"
   ]
  },
  {
   "cell_type": "markdown",
   "metadata": {},
   "source": [
    "Disappointingly, none of our model accuracies are especially strong. We definitely see some improvement over random guessing which could be used to build stronger models in the future. The best based on holdout accuracy is the regularized logit, folowed by the pruned decision tree and multi-layer perceptron.\n",
    "\n",
    "Let's look into the models that did best."
   ]
  },
  {
   "cell_type": "code",
   "execution_count": 290,
   "metadata": {
    "collapsed": true
   },
   "outputs": [],
   "source": [
    "def describe_results(classifier_name, classifier_metric):\n",
    "    print(\"%s %s is:\" % (classifier_name, classifier_metric), model_results[classifier_name][classifier_metric])"
   ]
  },
  {
   "cell_type": "markdown",
   "metadata": {},
   "source": [
    "## Regularized Logit\n",
    "\n",
    "_Accuracy_"
   ]
  },
  {
   "cell_type": "code",
   "execution_count": 291,
   "metadata": {},
   "outputs": [
    {
     "name": "stdout",
     "output_type": "stream",
     "text": [
      "LogitRegularized Accuracy is: 0.719676549865\n"
     ]
    }
   ],
   "source": [
    "describe_results('LogitRegularized', 'Accuracy')"
   ]
  },
  {
   "cell_type": "markdown",
   "metadata": {},
   "source": [
    "Our regularized logistic regression with tuned cost parameters had the highest accuracy of classifying survey respondents most likely to seek treatment at approximately 72%. While this is not a strong accuracy, it could be used as a baseline for future interventions or follow ups since it is much better than random guessing. Additionally, it could be the starting point of a stronger model through ensembling or additional data. Regularizing the logistic regression also had a positive impact on predictive power as it improved on the accuracy of the simple logistic regression by about 2 percentage points.\n",
    "\n",
    "_Confusion Matrix_"
   ]
  },
  {
   "cell_type": "code",
   "execution_count": 292,
   "metadata": {},
   "outputs": [
    {
     "name": "stdout",
     "output_type": "stream",
     "text": [
      "LogitRegularized ConfMat is: Predicted    0    1\n",
      "True               \n",
      "0          135   55\n",
      "1           49  132\n"
     ]
    }
   ],
   "source": [
    "describe_results('LogitRegularized', 'ConfMat')"
   ]
  },
  {
   "cell_type": "markdown",
   "metadata": {},
   "source": [
    "The confusion matrix shows that both the classification and misclassification rates were about the same, we correctly classified true positives at the same rate that we correctly classified true negatives. This is also true for our misclassification rate. Though our overall model accuracy isn't as high as we would like, this does indicate some model stability as we don't appear to be biased towards a particular class.\n",
    "\n",
    "_Training and Test Error Rates_"
   ]
  },
  {
   "cell_type": "code",
   "execution_count": 293,
   "metadata": {},
   "outputs": [
    {
     "name": "stdout",
     "output_type": "stream",
     "text": [
      "LogitRegularized Training Error Rate is: 0.264194669757\n"
     ]
    }
   ],
   "source": [
    "describe_results('LogitRegularized', 'Training Error Rate')"
   ]
  },
  {
   "cell_type": "code",
   "execution_count": 294,
   "metadata": {
    "scrolled": true
   },
   "outputs": [
    {
     "name": "stdout",
     "output_type": "stream",
     "text": [
      "LogitRegularized Test Error Rate is: 0.280323450135\n"
     ]
    }
   ],
   "source": [
    "describe_results('LogitRegularized', 'Test Error Rate')"
   ]
  },
  {
   "cell_type": "markdown",
   "metadata": {},
   "source": [
    "Training and test error rates are consistent with what we see for overall accuracy. There is some degradation between training and test but not so much that we should be overly concerned about our model being overfit on training data.\n",
    "\n",
    "_ROC Curve_"
   ]
  },
  {
   "cell_type": "code",
   "execution_count": 295,
   "metadata": {
    "scrolled": true
   },
   "outputs": [
    {
     "data": {
      "image/png": "[encoded data removed]",
      "text/plain": [
       "<matplotlib.figure.Figure at 0x1a9463122b0>"
      ]
     },
     "metadata": {},
     "output_type": "display_data"
    }
   ],
   "source": [
    "plot_roc_curve(logit_reg, 'LogitRegularized')"
   ]
  },
  {
   "cell_type": "markdown",
   "metadata": {},
   "source": [
    "As we can see from the ROC curve, the regularized logit (blue) does much better on ROC than random (orange line). \n",
    "\n",
    "_Feature Importance_"
   ]
  },
  {
   "cell_type": "code",
   "execution_count": 296,
   "metadata": {
    "collapsed": true
   },
   "outputs": [],
   "source": [
    "logit_reg_importance = dict(zip(list(df_x), logit_reg.best_estimator_.coef_.reshape(43)))"
   ]
  },
  {
   "cell_type": "code",
   "execution_count": 297,
   "metadata": {
    "collapsed": true
   },
   "outputs": [],
   "source": [
    "logit_reg_imp_sort = sorted(logit_reg_importance.items(), key=lambda x: abs(x[1]))[::-1][:10]"
   ]
  },
  {
   "cell_type": "code",
   "execution_count": 298,
   "metadata": {
    "scrolled": true
   },
   "outputs": [
    {
     "data": {
      "image/png": "[encoded data removed]",
      "text/plain": [
       "<matplotlib.figure.Figure at 0x1a94d506588>"
      ]
     },
     "metadata": {},
     "output_type": "display_data"
    }
   ],
   "source": [
    "logit_reg_top_feats = list(zip(*logit_reg_imp_sort))[0]\n",
    "logit_reg_top_vals = list(zip(*logit_reg_imp_sort))[1]\n",
    "\n",
    "y_pos = range(10)\n",
    "plt.barh(y_pos, logit_reg_top_vals, align='center') \n",
    "plt.yticks(y_pos, logit_reg_top_feats) \n",
    "plt.title('Regularized Logit Important Features')\n",
    "plt.show()"
   ]
  },
  {
   "cell_type": "markdown",
   "metadata": {},
   "source": [
    "Our most important features determined by logistic regression include a family history of mental health, the availability of care options and being male had a negative impact. "
   ]
  },
  {
   "cell_type": "markdown",
   "metadata": {},
   "source": [
    "## Pruned Decision Tree\n",
    "\n",
    "_Accuracy_"
   ]
  },
  {
   "cell_type": "code",
   "execution_count": 299,
   "metadata": {
    "scrolled": true
   },
   "outputs": [
    {
     "name": "stdout",
     "output_type": "stream",
     "text": [
      "DecisionTreePruned Accuracy is: 0.711590296496\n"
     ]
    }
   ],
   "source": [
    "describe_results('DecisionTreePruned', 'Accuracy')"
   ]
  },
  {
   "cell_type": "markdown",
   "metadata": {},
   "source": [
    "The pruned decision tree performed competitively with the regularized logistic regression at 71% accuracy. Again, not spectacular results but more effective than random guessing.\n",
    "\n",
    "_Confusion Matrix_"
   ]
  },
  {
   "cell_type": "code",
   "execution_count": 300,
   "metadata": {},
   "outputs": [
    {
     "name": "stdout",
     "output_type": "stream",
     "text": [
      "DecisionTreePruned ConfMat is: Predicted    0    1\n",
      "True               \n",
      "0          120   70\n",
      "1           37  144\n"
     ]
    }
   ],
   "source": [
    "describe_results('DecisionTreePruned', 'ConfMat')"
   ]
  },
  {
   "cell_type": "markdown",
   "metadata": {},
   "source": [
    "Interestingly with the pruned decision tree, there appears to be an imbalance in our classification rate. As indicated by the higher number of true positive and lower number of false positive, this model appeared stronger at predicting positives accurately relative to predicting negatives. We may be able to tweak this model to account for that, penalizing false negatives more severely. Given this factor though it is another reason to defer to the regularized logit results. \n",
    "\n",
    "_Training and Test Error Rates_"
   ]
  },
  {
   "cell_type": "code",
   "execution_count": 301,
   "metadata": {},
   "outputs": [
    {
     "name": "stdout",
     "output_type": "stream",
     "text": [
      "DecisionTreePruned Training Error Rate is: 0.298957126304\n"
     ]
    }
   ],
   "source": [
    "describe_results('DecisionTreePruned', 'Training Error Rate')"
   ]
  },
  {
   "cell_type": "code",
   "execution_count": 302,
   "metadata": {
    "scrolled": false
   },
   "outputs": [
    {
     "name": "stdout",
     "output_type": "stream",
     "text": [
      "DecisionTreePruned Test Error Rate is: 0.288409703504\n"
     ]
    }
   ],
   "source": [
    "describe_results('DecisionTreePruned', 'Test Error Rate')"
   ]
  },
  {
   "cell_type": "markdown",
   "metadata": {},
   "source": [
    "Our test error rate, while similar to training is actually a little better. This is an unusual result but given how close they are it is not a huge concern.\n",
    "\n",
    "_ROC Curve_"
   ]
  },
  {
   "cell_type": "code",
   "execution_count": 303,
   "metadata": {
    "scrolled": false
   },
   "outputs": [
    {
     "data": {
      "image/png": "[encoded data removed]",
      "text/plain": [
       "<matplotlib.figure.Figure at 0x1a9485ef5f8>"
      ]
     },
     "metadata": {},
     "output_type": "display_data"
    }
   ],
   "source": [
    "plot_roc_curve(dt_pruned, 'DecisionTreePruned')"
   ]
  },
  {
   "cell_type": "markdown",
   "metadata": {},
   "source": [
    "The ROC curve also looks good and clearly indicates a better performance than random guessing.\n",
    "\n",
    "_Feature Importances_"
   ]
  },
  {
   "cell_type": "code",
   "execution_count": 304,
   "metadata": {
    "scrolled": true
   },
   "outputs": [
    {
     "data": {
      "image/png": "[encoded data removed]",
      "text/plain": [
       "<matplotlib.figure.Figure at 0x1a94d5e9e10>"
      ]
     },
     "metadata": {},
     "output_type": "display_data"
    }
   ],
   "source": [
    "dt_imp_features = dt_pruned.best_estimator_.feature_importances_\n",
    "sorted_indices = np.argsort(dt_imp_features)[::-1]\n",
    "\n",
    "y_pos = range(5)\n",
    "plt.barh(y_pos, dt_imp_features[sorted_indices][:5], align='center') \n",
    "plt.yticks(y_pos, df_train_x.columns[sorted_indices][:5]) \n",
    "plt.title('DecisionTreePruned Important Features')\n",
    "plt.show()"
   ]
  },
  {
   "cell_type": "markdown",
   "metadata": {},
   "source": [
    "Like the regularized logit, family history of mental illness and availability of care options, and gender_male were the top three features. This gives us a bit more confidence in the relevance of these features."
   ]
  },
  {
   "cell_type": "markdown",
   "metadata": {},
   "source": [
    "## Multi-layer Perceptron\n",
    "\n",
    "_Accuracy_"
   ]
  },
  {
   "cell_type": "code",
   "execution_count": 305,
   "metadata": {},
   "outputs": [
    {
     "name": "stdout",
     "output_type": "stream",
     "text": [
      "MLP Accuracy is: 0.703504043127\n"
     ]
    }
   ],
   "source": [
    "describe_results('MLP', 'Accuracy')"
   ]
  },
  {
   "cell_type": "markdown",
   "metadata": {},
   "source": [
    "Slightly lower accuracy than our previous two models. Given the difficulty in interpreting neural networks, since this model does not perform significantly better than any of the others we would prefer to use one of the others for additional analysis.\n",
    "\n",
    "_Confusion Matrix_"
   ]
  },
  {
   "cell_type": "code",
   "execution_count": 306,
   "metadata": {
    "scrolled": true
   },
   "outputs": [
    {
     "name": "stdout",
     "output_type": "stream",
     "text": [
      "MLP ConfMat is: Predicted    0    1\n",
      "True               \n",
      "0          129   61\n",
      "1           49  132\n"
     ]
    }
   ],
   "source": [
    "describe_results('MLP', 'ConfMat')"
   ]
  },
  {
   "cell_type": "markdown",
   "metadata": {},
   "source": [
    "The confusin matrix for our neural network seems fairly balanced.\n",
    "\n",
    "_Training and Test Error Rates_"
   ]
  },
  {
   "cell_type": "code",
   "execution_count": 307,
   "metadata": {},
   "outputs": [
    {
     "name": "stdout",
     "output_type": "stream",
     "text": [
      "MLP Training Error Rate is: 0.257242178447\n"
     ]
    }
   ],
   "source": [
    "describe_results('MLP', 'Training Error Rate')"
   ]
  },
  {
   "cell_type": "code",
   "execution_count": 308,
   "metadata": {
    "scrolled": true
   },
   "outputs": [
    {
     "name": "stdout",
     "output_type": "stream",
     "text": [
      "MLP Test Error Rate is: 0.296495956873\n"
     ]
    }
   ],
   "source": [
    "describe_results('MLP', 'Test Error Rate')"
   ]
  },
  {
   "cell_type": "markdown",
   "metadata": {},
   "source": [
    "Of our top models, the training error rate is actually best on the neural network but it is noticeably weaker when predicting the test data, particularly compared to the other models. This is an indicator that our neural network might be a bit overfit.\n",
    "\n",
    "_ROC Curve_"
   ]
  },
  {
   "cell_type": "code",
   "execution_count": 309,
   "metadata": {
    "scrolled": true
   },
   "outputs": [
    {
     "data": {
      "image/png": "[encoded data removed]",
      "text/plain": [
       "<matplotlib.figure.Figure at 0x1a94d657d68>"
      ]
     },
     "metadata": {},
     "output_type": "display_data"
    }
   ],
   "source": [
    "plot_roc_curve(mlp, 'MLP')"
   ]
  },
  {
   "cell_type": "markdown",
   "metadata": {},
   "source": [
    "We can see the ROC curve is a little worse than our previous two as well. \n",
    "\n",
    "_Feature Importances_ \n",
    "\n",
    "One of the weakness of neural networks is the lack of interpretability so it is difficult to say which are strong contributors to our classifier."
   ]
  },
  {
   "cell_type": "markdown",
   "metadata": {},
   "source": [
    "## Model Conclusions\n",
    "\n",
    "At 71.9% accuracy on holdout data, the regularized logit performs best with the added advantage of being a simpler model to explain and interpret. The only model that truly did poorly was the decision tree at 58% accuracy, but we were able to see considerable improvement on that by pruning the tree using crossvalidation to find the optimal length. While the 71.9% accuracy of our best model isn't an incredible result, it gives us a foundation on which to build and improve, potentially leveraging data from a more recent version of the survey - https://www.kaggle.com/osmi/mental-health-in-tech-2016\n",
    "\n",
    "\n",
    "## What about the comments? Can we learn anything from those? "
   ]
  },
  {
   "cell_type": "code",
   "execution_count": 310,
   "metadata": {
    "collapsed": true
   },
   "outputs": [],
   "source": [
    "comments = list(df['comments'][~df['comments'].isnull()])"
   ]
  },
  {
   "cell_type": "code",
   "execution_count": 311,
   "metadata": {},
   "outputs": [
    {
     "name": "stderr",
     "output_type": "stream",
     "text": [
      "C:\\Users\\cmill\\Anaconda3\\lib\\site-packages\\PIL\\Image.py:888: UserWarning:\n",
      "\n",
      "Palette images with Transparency   expressed in bytes should be converted to RGBA images\n",
      "\n"
     ]
    }
   ],
   "source": [
    "with open(\"brain.png\", \"rb\") as imagefile:\n",
    "    image_data = imagefile.read()\n",
    "    eap_64 = base64.b64encode(image_data)\n",
    "\n",
    "img_file = open(\"brain.png\", \"wb\")\n",
    "img_file.write(codecs.decode(eap_64, 'base64'))\n",
    "img_file.close()\n",
    "\n",
    "img = imageio.imread(\"brain.png\")\n",
    "hcmask = img"
   ]
  },
  {
   "cell_type": "code",
   "execution_count": 312,
   "metadata": {
    "scrolled": false
   },
   "outputs": [
    {
     "data": {
      "text/plain": [
       "(-0.5, 511.5, 511.5, -0.5)"
      ]
     },
     "execution_count": 312,
     "metadata": {},
     "output_type": "execute_result"
    },
    {
     "data": {
      "image/png": "[encoded data removed]",
      "text/plain": [
       "<matplotlib.figure.Figure at 0x1a94d7945f8>"
      ]
     },
     "metadata": {},
     "output_type": "display_data"
    }
   ],
   "source": [
    "plt.figure(figsize=(16,13))\n",
    "wc = WordCloud(background_color=\"black\", max_words=10000, \n",
    "               mask=hcmask, stopwords=STOPWORDS, max_font_size= 40)\n",
    "wc.generate(\" \".join(comments))\n",
    "plt.title(\"OMSI Comments\", fontsize=20)\n",
    "# plt.imshow(wc.recolor( colormap= 'Pastel1_r' , random_state=17), alpha=0.98)\n",
    "plt.imshow(wc.recolor( colormap= 'Pastel2' , random_state=17), alpha=0.98)\n",
    "plt.axis('off')"
   ]
  },
  {
   "cell_type": "markdown",
   "metadata": {},
   "source": [
    "Some obvious terms jump out from our (brain shaped) word cloud excluding stop words. 'Mental health', 'health', 'issue', 'employer', 'insurance', 'depression'. Let's see what we can determine after cleaning the comments and reviewing them quantitatively. "
   ]
  },
  {
   "cell_type": "markdown",
   "metadata": {},
   "source": [
    "## Natural Language Processing\n",
    "\n",
    "### Tokenize each comment."
   ]
  },
  {
   "cell_type": "code",
   "execution_count": 313,
   "metadata": {
    "collapsed": true
   },
   "outputs": [],
   "source": [
    "list_comments = []\n",
    "for comment in comments: \n",
    "    list_comments.append(nltk.word_tokenize(comment))"
   ]
  },
  {
   "cell_type": "code",
   "execution_count": 314,
   "metadata": {},
   "outputs": [
    {
     "data": {
      "text/plain": [
       "['Relatively', 'new', 'job', '.', 'Ask', 'again', 'later']"
      ]
     },
     "execution_count": 314,
     "metadata": {},
     "output_type": "execute_result"
    }
   ],
   "source": [
    "list_comments[0]"
   ]
  },
  {
   "cell_type": "markdown",
   "metadata": {},
   "source": [
    "### Remove stop words"
   ]
  },
  {
   "cell_type": "code",
   "execution_count": 315,
   "metadata": {
    "collapsed": true
   },
   "outputs": [],
   "source": [
    "stopwords = nltk.corpus.stopwords.words('english')"
   ]
  },
  {
   "cell_type": "code",
   "execution_count": 316,
   "metadata": {
    "collapsed": true
   },
   "outputs": [],
   "source": [
    "list_comments_cleaned = []\n",
    "\n",
    "for comment in list_comments:\n",
    "    list_comments_cleaned.append([word for word in comment if word.lower() not in stopwords])"
   ]
  },
  {
   "cell_type": "code",
   "execution_count": 317,
   "metadata": {},
   "outputs": [
    {
     "data": {
      "text/plain": [
       "['Relatively', 'new', 'job', '.', 'Ask', 'later']"
      ]
     },
     "execution_count": 317,
     "metadata": {},
     "output_type": "execute_result"
    }
   ],
   "source": [
    "list_comments_cleaned[0]"
   ]
  },
  {
   "cell_type": "markdown",
   "metadata": {},
   "source": [
    "See that the stop word 'again' was removed from the first record."
   ]
  },
  {
   "cell_type": "markdown",
   "metadata": {},
   "source": [
    "### Stemming & Lemmatization\n",
    "\n",
    "Simplify words to their roots "
   ]
  },
  {
   "cell_type": "code",
   "execution_count": 318,
   "metadata": {},
   "outputs": [],
   "source": [
    "lemm = nltk.stem.WordNetLemmatizer()\n",
    "\n",
    "#lemm.lemmatize(first_text_list_cleaned[0])\n",
    "\n",
    "comments_lemm = []\n",
    "\n",
    "for comment in list_comments_cleaned:\n",
    "    comments_lemm.append([lemm.lemmatize(word) for word in comment])"
   ]
  },
  {
   "cell_type": "code",
   "execution_count": 319,
   "metadata": {},
   "outputs": [
    {
     "data": {
      "text/plain": [
       "False"
      ]
     },
     "execution_count": 319,
     "metadata": {},
     "output_type": "execute_result"
    }
   ],
   "source": [
    "list_comments_cleaned == comments_lemm"
   ]
  },
  {
   "cell_type": "markdown",
   "metadata": {},
   "source": [
    "Our lemmatized array is different from the non lemmatized one, lets find an example of what changed."
   ]
  },
  {
   "cell_type": "code",
   "execution_count": 320,
   "metadata": {},
   "outputs": [
    {
     "data": {
      "text/plain": [
       "111"
      ]
     },
     "execution_count": 320,
     "metadata": {},
     "output_type": "execute_result"
    }
   ],
   "source": [
    "len([x for x in comments_lemm if x not in list_comments_cleaned])"
   ]
  },
  {
   "cell_type": "markdown",
   "metadata": {},
   "source": [
    "111 of our 158 comments were changed by the lemmatizer."
   ]
  },
  {
   "cell_type": "code",
   "execution_count": 321,
   "metadata": {},
   "outputs": [
    {
     "data": {
      "text/plain": [
       "['Sometimes',\n",
       " 'think',\n",
       " 'using',\n",
       " 'drugs',\n",
       " 'mental',\n",
       " 'health',\n",
       " 'issues',\n",
       " '.',\n",
       " 'use',\n",
       " 'drugs',\n",
       " 'feel',\n",
       " 'better']"
      ]
     },
     "execution_count": 321,
     "metadata": {},
     "output_type": "execute_result"
    }
   ],
   "source": [
    "list_comments_cleaned[1]"
   ]
  },
  {
   "cell_type": "code",
   "execution_count": 322,
   "metadata": {
    "scrolled": true
   },
   "outputs": [
    {
     "data": {
      "text/plain": [
       "['Sometimes',\n",
       " 'think',\n",
       " 'using',\n",
       " 'drug',\n",
       " 'mental',\n",
       " 'health',\n",
       " 'issue',\n",
       " '.',\n",
       " 'use',\n",
       " 'drug',\n",
       " 'feel',\n",
       " 'better']"
      ]
     },
     "execution_count": 322,
     "metadata": {},
     "output_type": "execute_result"
    }
   ],
   "source": [
    "comments_lemm[1]"
   ]
  },
  {
   "cell_type": "markdown",
   "metadata": {},
   "source": [
    "In the above example, plural words like 'drugs' and 'issues' were converted to their singular form. This will allow us to treat words with similar roots the same in our analysis.\n",
    "\n",
    "Now that we have our words simplified, what words are most comment in our data set? We explored this qualitatively before preprocessing with the word cloud, now let's explore quantitatively."
   ]
  },
  {
   "cell_type": "code",
   "execution_count": 323,
   "metadata": {},
   "outputs": [],
   "source": [
    "vectorizer = CountVectorizer(min_df=0)"
   ]
  },
  {
   "cell_type": "code",
   "execution_count": 324,
   "metadata": {
    "collapsed": true
   },
   "outputs": [],
   "source": [
    "flat_list = [item for sublist in comments_lemm for item in sublist]"
   ]
  },
  {
   "cell_type": "code",
   "execution_count": 325,
   "metadata": {},
   "outputs": [],
   "source": [
    "comments_transform = vectorizer.fit_transform(flat_list)"
   ]
  },
  {
   "cell_type": "code",
   "execution_count": 326,
   "metadata": {
    "scrolled": false
   },
   "outputs": [],
   "source": [
    "vocab = vectorizer.get_feature_names()\n",
    "comment_word_counts = comments_transform.sum(axis=0).A1\n",
    "freq_distr = Counter(dict(zip(vocab, comment_word_counts)))\n",
    "freq_distr_sorted = dict(sorted(freq_distr.items(), key=lambda x: x[1])[::-1][:50])\n",
    "\n",
    "freq_distr_sorted_inv = dict(sorted(freq_distr.items(), key=lambda x: x[1])[:50])"
   ]
  },
  {
   "cell_type": "code",
   "execution_count": 327,
   "metadata": {},
   "outputs": [
    {
     "data": {
      "application/vnd.plotly.v1+json": {
       "data": [
        {
         "type": "bar",
         "x": [
          "health",
          "mental",
          "employer",
          "issue",
          "work",
          "would",
          "company",
          "people",
          "know",
          "ve",
          "question",
          "depression",
          "get",
          "time",
          "job",
          "feel",
          "self",
          "insurance",
          "employed",
          "help",
          "problem",
          "family",
          "small",
          "leave",
          "coworkers",
          "year",
          "even",
          "benefit",
          "anxiety",
          "negative",
          "month",
          "could",
          "answer",
          "thing",
          "tech",
          "take",
          "option",
          "one",
          "never",
          "might",
          "workplace",
          "something",
          "seen",
          "physical",
          "need",
          "may",
          "many",
          "manager",
          "make",
          "also"
         ],
         "y": [
          111,
          100,
          54,
          50,
          49,
          38,
          33,
          30,
          27,
          22,
          21,
          21,
          20,
          19,
          18,
          18,
          17,
          17,
          17,
          16,
          15,
          15,
          14,
          14,
          14,
          13,
          13,
          13,
          13,
          12,
          12,
          12,
          12,
          11,
          11,
          11,
          11,
          11,
          11,
          11,
          10,
          10,
          10,
          10,
          10,
          10,
          10,
          10,
          10,
          10
         ]
        }
       ],
       "layout": {
        "title": "Comment Word Frequency Top Words",
        "xaxis": {
         "title": "words"
        },
        "yaxis": {
         "title": "frequency"
        }
       }
      },
      "text/html": [
       "<div id=\"12e37c1d-0608-45ca-9e22-c821b9845398\" style=\"height: 525px; width: 100%;\" class=\"plotly-graph-div\"></div><script type=\"text/javascript\">require([\"plotly\"], function(Plotly) { window.PLOTLYENV=window.PLOTLYENV || {};window.PLOTLYENV.BASE_URL=\"https://plot.ly\";Plotly.newPlot(\"12e37c1d-0608-45ca-9e22-c821b9845398\", [{\"type\": \"bar\", \"x\": [\"health\", \"mental\", \"employer\", \"issue\", \"work\", \"would\", \"company\", \"people\", \"know\", \"ve\", \"question\", \"depression\", \"get\", \"time\", \"job\", \"feel\", \"self\", \"insurance\", \"employed\", \"help\", \"problem\", \"family\", \"small\", \"leave\", \"coworkers\", \"year\", \"even\", \"benefit\", \"anxiety\", \"negative\", \"month\", \"could\", \"answer\", \"thing\", \"tech\", \"take\", \"option\", \"one\", \"never\", \"might\", \"workplace\", \"something\", \"seen\", \"physical\", \"need\", \"may\", \"many\", \"manager\", \"make\", \"also\"], \"y\": [111, 100, 54, 50, 49, 38, 33, 30, 27, 22, 21, 21, 20, 19, 18, 18, 17, 17, 17, 16, 15, 15, 14, 14, 14, 13, 13, 13, 13, 12, 12, 12, 12, 11, 11, 11, 11, 11, 11, 11, 10, 10, 10, 10, 10, 10, 10, 10, 10, 10]}], {\"title\": \"Comment Word Frequency Top Words\", \"xaxis\": {\"title\": \"words\"}, \"yaxis\": {\"title\": \"frequency\"}}, {\"showLink\": true, \"linkText\": \"Export to plot.ly\"})});</script>"
      ],
      "text/vnd.plotly.v1+html": [
       "<div id=\"12e37c1d-0608-45ca-9e22-c821b9845398\" style=\"height: 525px; width: 100%;\" class=\"plotly-graph-div\"></div><script type=\"text/javascript\">require([\"plotly\"], function(Plotly) { window.PLOTLYENV=window.PLOTLYENV || {};window.PLOTLYENV.BASE_URL=\"https://plot.ly\";Plotly.newPlot(\"12e37c1d-0608-45ca-9e22-c821b9845398\", [{\"type\": \"bar\", \"x\": [\"health\", \"mental\", \"employer\", \"issue\", \"work\", \"would\", \"company\", \"people\", \"know\", \"ve\", \"question\", \"depression\", \"get\", \"time\", \"job\", \"feel\", \"self\", \"insurance\", \"employed\", \"help\", \"problem\", \"family\", \"small\", \"leave\", \"coworkers\", \"year\", \"even\", \"benefit\", \"anxiety\", \"negative\", \"month\", \"could\", \"answer\", \"thing\", \"tech\", \"take\", \"option\", \"one\", \"never\", \"might\", \"workplace\", \"something\", \"seen\", \"physical\", \"need\", \"may\", \"many\", \"manager\", \"make\", \"also\"], \"y\": [111, 100, 54, 50, 49, 38, 33, 30, 27, 22, 21, 21, 20, 19, 18, 18, 17, 17, 17, 16, 15, 15, 14, 14, 14, 13, 13, 13, 13, 12, 12, 12, 12, 11, 11, 11, 11, 11, 11, 11, 10, 10, 10, 10, 10, 10, 10, 10, 10, 10]}], {\"title\": \"Comment Word Frequency Top Words\", \"xaxis\": {\"title\": \"words\"}, \"yaxis\": {\"title\": \"frequency\"}}, {\"showLink\": true, \"linkText\": \"Export to plot.ly\"})});</script>"
      ]
     },
     "metadata": {},
     "output_type": "display_data"
    }
   ],
   "source": [
    "count_plot = [go.Bar(\n",
    "                x=list(freq_distr_sorted.keys()),\n",
    "                y=list(freq_distr_sorted.values()))]\n",
    "\n",
    "count_layout = go.Layout(title=\"Comment Word Frequency Top Words\", xaxis={'title': 'words'}, yaxis={'title':'frequency'})\n",
    "      #  plot_data[feature].append(go.Figure(data=plot_data[feature][0], layout = plot_data[feature][1]))\n",
    "\n",
    "    \n",
    "    \n",
    "iplot(go.Figure(data=count_plot, layout = count_layout))"
   ]
  },
  {
   "cell_type": "markdown",
   "metadata": {},
   "source": [
    "Reaffirming what we saw visually. Top words: mental, health, employer, issue, work. "
   ]
  },
  {
   "cell_type": "code",
   "execution_count": 328,
   "metadata": {
    "scrolled": true
   },
   "outputs": [
    {
     "data": {
      "application/vnd.plotly.v1+json": {
       "data": [
        {
         "type": "bar",
         "x": [
          "12",
          "17k",
          "22",
          "40",
          "45",
          "60",
          "80",
          "800",
          "ability",
          "abuse",
          "accept",
          "accessibility",
          "accommodations",
          "accomodations",
          "active",
          "actively",
          "acute",
          "additionally",
          "addressing",
          "adjusted",
          "admitted",
          "advice",
          "advised",
          "affected",
          "ago",
          "agree",
          "agreed",
          "allow",
          "allowed",
          "allows",
          "altercation",
          "alternative",
          "amazing",
          "ambivalent",
          "among",
          "ample",
          "analysis",
          "andsay",
          "annoying",
          "anonymous",
          "answering",
          "antidepressant",
          "anxious",
          "anyway",
          "anywhere",
          "apply",
          "approach",
          "approval",
          "are",
          "arise"
         ],
         "y": [
          1,
          1,
          1,
          1,
          1,
          1,
          1,
          1,
          1,
          1,
          1,
          1,
          1,
          1,
          1,
          1,
          1,
          1,
          1,
          1,
          1,
          1,
          1,
          1,
          1,
          1,
          1,
          1,
          1,
          1,
          1,
          1,
          1,
          1,
          1,
          1,
          1,
          1,
          1,
          1,
          1,
          1,
          1,
          1,
          1,
          1,
          1,
          1,
          1,
          1
         ]
        }
       ],
       "layout": {
        "title": "Comment Word Frequency Bottom Words",
        "xaxis": {
         "title": "words"
        },
        "yaxis": {
         "title": "frequency"
        }
       }
      },
      "text/html": [
       "<div id=\"f54203e9-f0cd-4008-b2e7-75466b175305\" style=\"height: 525px; width: 100%;\" class=\"plotly-graph-div\"></div><script type=\"text/javascript\">require([\"plotly\"], function(Plotly) { window.PLOTLYENV=window.PLOTLYENV || {};window.PLOTLYENV.BASE_URL=\"https://plot.ly\";Plotly.newPlot(\"f54203e9-f0cd-4008-b2e7-75466b175305\", [{\"type\": \"bar\", \"x\": [\"12\", \"17k\", \"22\", \"40\", \"45\", \"60\", \"80\", \"800\", \"ability\", \"abuse\", \"accept\", \"accessibility\", \"accommodations\", \"accomodations\", \"active\", \"actively\", \"acute\", \"additionally\", \"addressing\", \"adjusted\", \"admitted\", \"advice\", \"advised\", \"affected\", \"ago\", \"agree\", \"agreed\", \"allow\", \"allowed\", \"allows\", \"altercation\", \"alternative\", \"amazing\", \"ambivalent\", \"among\", \"ample\", \"analysis\", \"andsay\", \"annoying\", \"anonymous\", \"answering\", \"antidepressant\", \"anxious\", \"anyway\", \"anywhere\", \"apply\", \"approach\", \"approval\", \"are\", \"arise\"], \"y\": [1, 1, 1, 1, 1, 1, 1, 1, 1, 1, 1, 1, 1, 1, 1, 1, 1, 1, 1, 1, 1, 1, 1, 1, 1, 1, 1, 1, 1, 1, 1, 1, 1, 1, 1, 1, 1, 1, 1, 1, 1, 1, 1, 1, 1, 1, 1, 1, 1, 1]}], {\"title\": \"Comment Word Frequency Bottom Words\", \"xaxis\": {\"title\": \"words\"}, \"yaxis\": {\"title\": \"frequency\"}}, {\"showLink\": true, \"linkText\": \"Export to plot.ly\"})});</script>"
      ],
      "text/vnd.plotly.v1+html": [
       "<div id=\"f54203e9-f0cd-4008-b2e7-75466b175305\" style=\"height: 525px; width: 100%;\" class=\"plotly-graph-div\"></div><script type=\"text/javascript\">require([\"plotly\"], function(Plotly) { window.PLOTLYENV=window.PLOTLYENV || {};window.PLOTLYENV.BASE_URL=\"https://plot.ly\";Plotly.newPlot(\"f54203e9-f0cd-4008-b2e7-75466b175305\", [{\"type\": \"bar\", \"x\": [\"12\", \"17k\", \"22\", \"40\", \"45\", \"60\", \"80\", \"800\", \"ability\", \"abuse\", \"accept\", \"accessibility\", \"accommodations\", \"accomodations\", \"active\", \"actively\", \"acute\", \"additionally\", \"addressing\", \"adjusted\", \"admitted\", \"advice\", \"advised\", \"affected\", \"ago\", \"agree\", \"agreed\", \"allow\", \"allowed\", \"allows\", \"altercation\", \"alternative\", \"amazing\", \"ambivalent\", \"among\", \"ample\", \"analysis\", \"andsay\", \"annoying\", \"anonymous\", \"answering\", \"antidepressant\", \"anxious\", \"anyway\", \"anywhere\", \"apply\", \"approach\", \"approval\", \"are\", \"arise\"], \"y\": [1, 1, 1, 1, 1, 1, 1, 1, 1, 1, 1, 1, 1, 1, 1, 1, 1, 1, 1, 1, 1, 1, 1, 1, 1, 1, 1, 1, 1, 1, 1, 1, 1, 1, 1, 1, 1, 1, 1, 1, 1, 1, 1, 1, 1, 1, 1, 1, 1, 1]}], {\"title\": \"Comment Word Frequency Bottom Words\", \"xaxis\": {\"title\": \"words\"}, \"yaxis\": {\"title\": \"frequency\"}}, {\"showLink\": true, \"linkText\": \"Export to plot.ly\"})});</script>"
      ]
     },
     "metadata": {},
     "output_type": "display_data"
    }
   ],
   "source": [
    "count_plot = [go.Bar(\n",
    "                x=list(freq_distr_sorted_inv.keys()),\n",
    "                y=list(freq_distr_sorted_inv.values()))]\n",
    "\n",
    "count_layout = go.Layout(title=\"Comment Word Frequency Bottom Words\", xaxis={'title': 'words'}, yaxis={'title':'frequency'})\n",
    "      \n",
    "iplot(go.Figure(data=count_plot, layout = count_layout))"
   ]
  },
  {
   "cell_type": "markdown",
   "metadata": {},
   "source": [
    "The bottom words can be helpful to visualize as some might convey significant meaning for our analysis. These might be 'abuse', 'accomdation', 'antidepressant' etc\n",
    "\n",
    "## Topic Modelling\n",
    "\n",
    "Looking for patterns in comments based on word similarities. "
   ]
  },
  {
   "cell_type": "code",
   "execution_count": 329,
   "metadata": {
    "collapsed": true
   },
   "outputs": [],
   "source": [
    "lda = LatentDirichletAllocation(n_components=5, max_iter=5,\n",
    "                                learning_method = 'online',\n",
    "                                learning_offset = 50.,\n",
    "                                random_state = 0)"
   ]
  },
  {
   "cell_type": "code",
   "execution_count": 330,
   "metadata": {},
   "outputs": [
    {
     "data": {
      "text/plain": [
       "LatentDirichletAllocation(batch_size=128, doc_topic_prior=None,\n",
       "             evaluate_every=-1, learning_decay=0.7,\n",
       "             learning_method='online', learning_offset=50.0,\n",
       "             max_doc_update_iter=100, max_iter=5, mean_change_tol=0.001,\n",
       "             n_components=5, n_jobs=1, n_topics=None, perp_tol=0.1,\n",
       "             random_state=0, topic_word_prior=None,\n",
       "             total_samples=1000000.0, verbose=0)"
      ]
     },
     "execution_count": 330,
     "metadata": {},
     "output_type": "execute_result"
    }
   ],
   "source": [
    "lda.fit(comments_transform)"
   ]
  },
  {
   "cell_type": "code",
   "execution_count": 331,
   "metadata": {},
   "outputs": [
    {
     "name": "stdout",
     "output_type": "stream",
     "text": [
      "Size of topic:  1283\n",
      "Size of topic:  1283\n",
      "Size of topic:  1283\n",
      "Size of topic:  1283\n",
      "Size of topic:  1283\n"
     ]
    }
   ],
   "source": [
    "for i in lda.components_:\n",
    "    print('Size of topic: ', len(i))\n",
    "    "
   ]
  },
  {
   "cell_type": "code",
   "execution_count": 332,
   "metadata": {
    "collapsed": true
   },
   "outputs": [],
   "source": [
    "# Define helper function to print top words\n",
    "def print_top_words(model, feature_names, n_top_words):\n",
    "    for index, topic in enumerate(model.components_):\n",
    "        message = \"\\nTopic #{}:\".format(index)\n",
    "        message += \" \".join([feature_names[i] for i in topic.argsort()[:-n_top_words - 1 :-1]])\n",
    "        print(message)\n",
    "        print(\"=\"*70)"
   ]
  },
  {
   "cell_type": "code",
   "execution_count": 333,
   "metadata": {},
   "outputs": [
    {
     "name": "stdout",
     "output_type": "stream",
     "text": [
      "\n",
      "Topic #0:mental job feel coworkers could workplace covered day worse policy bipolar think person bring others condition open pay still comfortable free survey told worked role med lucky woman given male\n",
      "======================================================================\n",
      "\n",
      "Topic #1:employer issue company know ve help family month never benefit might one physical something co worker supervisor treatment disorder large place current related say currently long direct program though suffer\n",
      "======================================================================\n",
      "\n",
      "Topic #2:work get insurance even manager thing take employee working well understand doctor team like however illness community go quite experience thanks ymmv therapy bos medication cover part took bad better\n",
      "======================================================================\n",
      "\n",
      "Topic #3:depression question time leave small anxiety negative seen tech also really since care may want medical answered good public business keep often sometimes non previous offer said stigma fired office\n",
      "======================================================================\n",
      "\n",
      "Topic #4:health would people employed self problem year option answer make need much many discus supportive support lot struggle etc back week everyone past re state depressed way situation healthcare high\n",
      "======================================================================\n"
     ]
    }
   ],
   "source": [
    "print_top_words(lda, vocab, 30)"
   ]
  },
  {
   "cell_type": "markdown",
   "metadata": {},
   "source": [
    "There appears to be a lot of overlap in our topics so we may need to tune the LDA to get more distinct groupings. Given that the nature of the survey, it isn't surprising that they should all reference mental health in the workplace. All topics reference specific conditions (bipolar, disorder, anxiety, depression, depressed). Topics 1 and 2 indicate treatment options (treatment, insurance/doctor/medication. Topic 0 seems to refer a lot to other people (coworkers, person, others, woman, male). Topic 1 seems to be the only topic that references family. \n",
    "\n",
    "## Next Steps\n",
    "\n",
    "- Feature selection to improve model performance\n",
    "- Consider other eval metrics\n",
    "- Are there any NLP packages that are specific for medical or mental health terminology? \n",
    "    - Can we focus in on extracting words related specifically to mental health like medication or conditions? \n",
    "- Feed NLP analysis of comments into a classifier\n",
    "    - We did not find that commenting alone was a significant predictor in any of our models but perhaps the content of the comment can be used to improve classification. After tuning the number of topics, we could use membership in one of these topics as an independent variable and see if that improves accuracy.\n",
    "    - So far, analysis has only considered individual words. What if we looked at a comment as a whole and the words associated with it and not just all of the words in our comments together. A neural net might be helpful here in remembering the last word that was stated. Is there any way to devise a sentiment score for each comment related to what we are trying to classify?"
   ]
  }
 ],
 "metadata": {
  "kernelspec": {
   "display_name": "Python 3",
   "language": "python",
   "name": "python3"
  },
  "language_info": {
   "codemirror_mode": {
    "name": "ipython",
    "version": 3
   },
   "file_extension": ".py",
   "mimetype": "text/x-python",
   "name": "python",
   "nbconvert_exporter": "python",
   "pygments_lexer": "ipython3",
   "version": "3.6.2"
  }
 },
 "nbformat": 4,
 "nbformat_minor": 2
}
