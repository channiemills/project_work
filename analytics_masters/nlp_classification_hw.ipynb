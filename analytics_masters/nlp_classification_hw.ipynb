{
 "cells": [
  {
   "cell_type": "markdown",
   "metadata": {},
   "source": [
    "# Assignment 4\n",
    "## Chantel A. Miller\n",
    "\n",
    "Create classification model, predicting the outcome of food safety inspection based on the inspectors’ comments\n",
    "\n",
    "Leverage the results of your homework from Week-1 and Week-2 to extract free-form text comments from inspectors\n",
    "Discard the text from “Health Code” – only keep inspectors’ comments\n",
    "Build classification model, predicting the outcome of inspection – your target variable is “Results”\n",
    "Explain why you selected a particular text pre-processing technique\n",
    "Visualize results of at least two text classifiers and select the most robust one\n",
    "You can choose to build a binary classifier (limiting your data to Pass / Fail) or multinomial classifier with all available values in Results\n",
    "Rules and requirements:\n",
    "\n",
    "Your final output and the code should be contained within Jupyter Notebook"
   ]
  },
  {
   "cell_type": "code",
   "execution_count": 31,
   "metadata": {
    "scrolled": true
   },
   "outputs": [
    {
     "data": {
      "text/html": [
       "<script>requirejs.config({paths: { 'plotly': ['https://cdn.plot.ly/plotly-latest.min']},});if(!window.Plotly) {{require(['plotly'],function(plotly) {window.Plotly=plotly;});}}</script>"
      ],
      "text/vnd.plotly.v1+html": [
       "<script>requirejs.config({paths: { 'plotly': ['https://cdn.plot.ly/plotly-latest.min']},});if(!window.Plotly) {{require(['plotly'],function(plotly) {window.Plotly=plotly;});}}</script>"
      ]
     },
     "metadata": {},
     "output_type": "display_data"
    }
   ],
   "source": [
    "# General\n",
    "import pandas as pd\n",
    "import numpy as np\n",
    "from collections import Counter\n",
    "\n",
    "# Regex\n",
    "import re\n",
    "\n",
    "# Plotting \n",
    "from plotly.offline import download_plotlyjs, init_notebook_mode, plot, iplot\n",
    "import plotly.graph_objs as go\n",
    "init_notebook_mode(connected=True)\n",
    "\n",
    "# Modeling\n",
    "from sklearn.model_selection import train_test_split\n",
    "from sklearn.feature_extraction.text import CountVectorizer, HashingVectorizer, TfidfTransformer, TfidfVectorizer\n",
    "from sklearn.naive_bayes import MultinomialNB\n",
    "from sklearn.metrics import classification_report, confusion_matrix, accuracy_score\n",
    "from sklearn.linear_model import LogisticRegression, SGDClassifier\n",
    "from sklearn import metrics"
   ]
  },
  {
   "cell_type": "code",
   "execution_count": 3,
   "metadata": {
    "collapsed": true,
    "scrolled": true
   },
   "outputs": [],
   "source": [
    "data = pd.read_csv('Food_Inspections.csv')"
   ]
  },
  {
   "cell_type": "markdown",
   "metadata": {},
   "source": [
    "### Data Exploration"
   ]
  },
  {
   "cell_type": "code",
   "execution_count": 4,
   "metadata": {
    "scrolled": true
   },
   "outputs": [
    {
     "data": {
      "text/html": [
       "<div>\n",
       "<style>\n",
       "    .dataframe thead tr:only-child th {\n",
       "        text-align: right;\n",
       "    }\n",
       "\n",
       "    .dataframe thead th {\n",
       "        text-align: left;\n",
       "    }\n",
       "\n",
       "    .dataframe tbody tr th {\n",
       "        vertical-align: top;\n",
       "    }\n",
       "</style>\n",
       "<table border=\"1\" class=\"dataframe\">\n",
       "  <thead>\n",
       "    <tr style=\"text-align: right;\">\n",
       "      <th></th>\n",
       "      <th>Inspection ID</th>\n",
       "      <th>DBA Name</th>\n",
       "      <th>AKA Name</th>\n",
       "      <th>License #</th>\n",
       "      <th>Facility Type</th>\n",
       "      <th>Risk</th>\n",
       "      <th>Address</th>\n",
       "      <th>City</th>\n",
       "      <th>State</th>\n",
       "      <th>Zip</th>\n",
       "      <th>Inspection Date</th>\n",
       "      <th>Inspection Type</th>\n",
       "      <th>Results</th>\n",
       "      <th>Violations</th>\n",
       "      <th>Latitude</th>\n",
       "      <th>Longitude</th>\n",
       "      <th>Location</th>\n",
       "    </tr>\n",
       "  </thead>\n",
       "  <tbody>\n",
       "    <tr>\n",
       "      <th>0</th>\n",
       "      <td>2130049</td>\n",
       "      <td>JOE &amp; THE JUICE ILLINOIS, LLC</td>\n",
       "      <td>JOE &amp; THE JUICE</td>\n",
       "      <td>2564512.0</td>\n",
       "      <td>Restaurant</td>\n",
       "      <td>Risk 2 (Medium)</td>\n",
       "      <td>10 E DELAWARE PL</td>\n",
       "      <td>CHICAGO</td>\n",
       "      <td>IL</td>\n",
       "      <td>60611.0</td>\n",
       "      <td>01/05/2018</td>\n",
       "      <td>License</td>\n",
       "      <td>Pass</td>\n",
       "      <td>NaN</td>\n",
       "      <td>41.899255</td>\n",
       "      <td>-87.627835</td>\n",
       "      <td>(41.89925505559848, -87.62783463799146)</td>\n",
       "    </tr>\n",
       "    <tr>\n",
       "      <th>1</th>\n",
       "      <td>2130022</td>\n",
       "      <td>BOO BAE TEA INC</td>\n",
       "      <td>BOO BAE TEA INC</td>\n",
       "      <td>2570290.0</td>\n",
       "      <td>NaN</td>\n",
       "      <td>Risk 2 (Medium)</td>\n",
       "      <td>1013 W Webster AVE</td>\n",
       "      <td>CHICAGO</td>\n",
       "      <td>IL</td>\n",
       "      <td>60614.0</td>\n",
       "      <td>01/05/2018</td>\n",
       "      <td>License</td>\n",
       "      <td>Not Ready</td>\n",
       "      <td>NaN</td>\n",
       "      <td>41.921620</td>\n",
       "      <td>-87.654051</td>\n",
       "      <td>(41.92161984057171, -87.65405058579164)</td>\n",
       "    </tr>\n",
       "    <tr>\n",
       "      <th>2</th>\n",
       "      <td>2130018</td>\n",
       "      <td>FRESHII</td>\n",
       "      <td>FRESHII</td>\n",
       "      <td>2446395.0</td>\n",
       "      <td>Restaurant</td>\n",
       "      <td>Risk 1 (High)</td>\n",
       "      <td>1166 W MADISON ST</td>\n",
       "      <td>CHICAGO</td>\n",
       "      <td>IL</td>\n",
       "      <td>60607.0</td>\n",
       "      <td>01/05/2018</td>\n",
       "      <td>Canvass</td>\n",
       "      <td>Fail</td>\n",
       "      <td>9. WATER SOURCE: SAFE, HOT &amp; COLD UNDER CITY P...</td>\n",
       "      <td>41.881731</td>\n",
       "      <td>-87.656851</td>\n",
       "      <td>(41.881731324473414, -87.65685079354886)</td>\n",
       "    </tr>\n",
       "    <tr>\n",
       "      <th>3</th>\n",
       "      <td>2129964</td>\n",
       "      <td>LINCOLN PARK PRESCHOOL</td>\n",
       "      <td>LINCOLN PARK PRESCHOOL &amp; KINDERGARTEN</td>\n",
       "      <td>2215624.0</td>\n",
       "      <td>Daycare (2 - 6 Years)</td>\n",
       "      <td>Risk 1 (High)</td>\n",
       "      <td>108 W GERMANIA PL</td>\n",
       "      <td>CHICAGO</td>\n",
       "      <td>IL</td>\n",
       "      <td>60610.0</td>\n",
       "      <td>01/04/2018</td>\n",
       "      <td>License</td>\n",
       "      <td>Pass w/ Conditions</td>\n",
       "      <td>8. SANITIZING RINSE FOR EQUIPMENT AND UTENSILS...</td>\n",
       "      <td>41.910486</td>\n",
       "      <td>-87.631996</td>\n",
       "      <td>(41.91048634702192, -87.63199583676088)</td>\n",
       "    </tr>\n",
       "    <tr>\n",
       "      <th>4</th>\n",
       "      <td>2129963</td>\n",
       "      <td>ORIGINAL STEAM</td>\n",
       "      <td>ORIGINAL STEAM</td>\n",
       "      <td>2574892.0</td>\n",
       "      <td>NaN</td>\n",
       "      <td>Risk 1 (High)</td>\n",
       "      <td>2428 S WALLACE AVE</td>\n",
       "      <td>CHICAGO</td>\n",
       "      <td>IL</td>\n",
       "      <td>60616.0</td>\n",
       "      <td>01/04/2018</td>\n",
       "      <td>License</td>\n",
       "      <td>Not Ready</td>\n",
       "      <td>NaN</td>\n",
       "      <td>41.848386</td>\n",
       "      <td>-87.641960</td>\n",
       "      <td>(41.84838625123219, -87.64196007758322)</td>\n",
       "    </tr>\n",
       "  </tbody>\n",
       "</table>\n",
       "</div>"
      ],
      "text/plain": [
       "   Inspection ID                       DBA Name  \\\n",
       "0        2130049  JOE & THE JUICE ILLINOIS, LLC   \n",
       "1        2130022                BOO BAE TEA INC   \n",
       "2        2130018                        FRESHII   \n",
       "3        2129964         LINCOLN PARK PRESCHOOL   \n",
       "4        2129963                 ORIGINAL STEAM   \n",
       "\n",
       "                                AKA Name  License #          Facility Type  \\\n",
       "0                        JOE & THE JUICE  2564512.0             Restaurant   \n",
       "1                        BOO BAE TEA INC  2570290.0                    NaN   \n",
       "2                                FRESHII  2446395.0             Restaurant   \n",
       "3  LINCOLN PARK PRESCHOOL & KINDERGARTEN  2215624.0  Daycare (2 - 6 Years)   \n",
       "4                         ORIGINAL STEAM  2574892.0                    NaN   \n",
       "\n",
       "              Risk              Address     City State      Zip  \\\n",
       "0  Risk 2 (Medium)    10 E DELAWARE PL   CHICAGO    IL  60611.0   \n",
       "1  Risk 2 (Medium)  1013 W Webster AVE   CHICAGO    IL  60614.0   \n",
       "2    Risk 1 (High)   1166 W MADISON ST   CHICAGO    IL  60607.0   \n",
       "3    Risk 1 (High)   108 W GERMANIA PL   CHICAGO    IL  60610.0   \n",
       "4    Risk 1 (High)  2428 S WALLACE AVE   CHICAGO    IL  60616.0   \n",
       "\n",
       "  Inspection Date Inspection Type             Results  \\\n",
       "0      01/05/2018         License                Pass   \n",
       "1      01/05/2018         License           Not Ready   \n",
       "2      01/05/2018         Canvass                Fail   \n",
       "3      01/04/2018         License  Pass w/ Conditions   \n",
       "4      01/04/2018         License           Not Ready   \n",
       "\n",
       "                                          Violations   Latitude  Longitude  \\\n",
       "0                                                NaN  41.899255 -87.627835   \n",
       "1                                                NaN  41.921620 -87.654051   \n",
       "2  9. WATER SOURCE: SAFE, HOT & COLD UNDER CITY P...  41.881731 -87.656851   \n",
       "3  8. SANITIZING RINSE FOR EQUIPMENT AND UTENSILS...  41.910486 -87.631996   \n",
       "4                                                NaN  41.848386 -87.641960   \n",
       "\n",
       "                                   Location  \n",
       "0   (41.89925505559848, -87.62783463799146)  \n",
       "1   (41.92161984057171, -87.65405058579164)  \n",
       "2  (41.881731324473414, -87.65685079354886)  \n",
       "3   (41.91048634702192, -87.63199583676088)  \n",
       "4   (41.84838625123219, -87.64196007758322)  "
      ]
     },
     "execution_count": 4,
     "metadata": {},
     "output_type": "execute_result"
    }
   ],
   "source": [
    "data.head()"
   ]
  },
  {
   "cell_type": "code",
   "execution_count": 5,
   "metadata": {
    "scrolled": true
   },
   "outputs": [
    {
     "name": "stdout",
     "output_type": "stream",
     "text": [
      "<class 'pandas.core.frame.DataFrame'>\n",
      "RangeIndex: 163254 entries, 0 to 163253\n",
      "Data columns (total 17 columns):\n",
      "Inspection ID      163254 non-null int64\n",
      "DBA Name           163254 non-null object\n",
      "AKA Name           160795 non-null object\n",
      "License #          163239 non-null float64\n",
      "Facility Type      158603 non-null object\n",
      "Risk               163188 non-null object\n",
      "Address            163254 non-null object\n",
      "City               163110 non-null object\n",
      "State              163234 non-null object\n",
      "Zip                163183 non-null float64\n",
      "Inspection Date    163254 non-null object\n",
      "Inspection Type    163253 non-null object\n",
      "Results            163254 non-null object\n",
      "Violations         130310 non-null object\n",
      "Latitude           162683 non-null float64\n",
      "Longitude          162683 non-null float64\n",
      "Location           162683 non-null object\n",
      "dtypes: float64(4), int64(1), object(12)\n",
      "memory usage: 21.2+ MB\n"
     ]
    }
   ],
   "source": [
    "data.info()"
   ]
  },
  {
   "cell_type": "code",
   "execution_count": 6,
   "metadata": {
    "scrolled": true
   },
   "outputs": [
    {
     "data": {
      "text/plain": [
       "array(['Pass', 'Not Ready', 'Fail', 'Pass w/ Conditions', 'No Entry',\n",
       "       'Out of Business', 'Business Not Located'], dtype=object)"
      ]
     },
     "execution_count": 6,
     "metadata": {},
     "output_type": "execute_result"
    }
   ],
   "source": [
    "data['Results'].unique()"
   ]
  },
  {
   "cell_type": "markdown",
   "metadata": {},
   "source": [
    "Trim data to columns and results needed for analysis. "
   ]
  },
  {
   "cell_type": "code",
   "execution_count": 7,
   "metadata": {
    "scrolled": true
   },
   "outputs": [
    {
     "data": {
      "text/html": [
       "<div>\n",
       "<style>\n",
       "    .dataframe thead tr:only-child th {\n",
       "        text-align: right;\n",
       "    }\n",
       "\n",
       "    .dataframe thead th {\n",
       "        text-align: left;\n",
       "    }\n",
       "\n",
       "    .dataframe tbody tr th {\n",
       "        vertical-align: top;\n",
       "    }\n",
       "</style>\n",
       "<table border=\"1\" class=\"dataframe\">\n",
       "  <thead>\n",
       "    <tr style=\"text-align: right;\">\n",
       "      <th></th>\n",
       "      <th>Results</th>\n",
       "      <th>Inspection ID</th>\n",
       "      <th>Facility Type</th>\n",
       "      <th>Risk</th>\n",
       "      <th>Zip</th>\n",
       "      <th>Inspection Date</th>\n",
       "      <th>Inspection Type</th>\n",
       "      <th>Violations</th>\n",
       "    </tr>\n",
       "  </thead>\n",
       "  <tbody>\n",
       "    <tr>\n",
       "      <th>0</th>\n",
       "      <td>Pass</td>\n",
       "      <td>2130049</td>\n",
       "      <td>Restaurant</td>\n",
       "      <td>Risk 2 (Medium)</td>\n",
       "      <td>60611.0</td>\n",
       "      <td>01/05/2018</td>\n",
       "      <td>License</td>\n",
       "      <td>NaN</td>\n",
       "    </tr>\n",
       "    <tr>\n",
       "      <th>2</th>\n",
       "      <td>Fail</td>\n",
       "      <td>2130018</td>\n",
       "      <td>Restaurant</td>\n",
       "      <td>Risk 1 (High)</td>\n",
       "      <td>60607.0</td>\n",
       "      <td>01/05/2018</td>\n",
       "      <td>Canvass</td>\n",
       "      <td>9. WATER SOURCE: SAFE, HOT &amp; COLD UNDER CITY P...</td>\n",
       "    </tr>\n",
       "    <tr>\n",
       "      <th>5</th>\n",
       "      <td>Fail</td>\n",
       "      <td>2129953</td>\n",
       "      <td>Restaurant</td>\n",
       "      <td>Risk 1 (High)</td>\n",
       "      <td>60624.0</td>\n",
       "      <td>01/04/2018</td>\n",
       "      <td>Complaint</td>\n",
       "      <td>3. POTENTIALLY HAZARDOUS FOOD MEETS TEMPERATUR...</td>\n",
       "    </tr>\n",
       "    <tr>\n",
       "      <th>6</th>\n",
       "      <td>Fail</td>\n",
       "      <td>2129949</td>\n",
       "      <td>Restaurant</td>\n",
       "      <td>Risk 1 (High)</td>\n",
       "      <td>60608.0</td>\n",
       "      <td>01/04/2018</td>\n",
       "      <td>Canvass</td>\n",
       "      <td>12. HAND WASHING FACILITIES: WITH SOAP AND SAN...</td>\n",
       "    </tr>\n",
       "    <tr>\n",
       "      <th>7</th>\n",
       "      <td>Pass</td>\n",
       "      <td>2129931</td>\n",
       "      <td>Restaurant</td>\n",
       "      <td>Risk 1 (High)</td>\n",
       "      <td>60645.0</td>\n",
       "      <td>01/04/2018</td>\n",
       "      <td>Complaint</td>\n",
       "      <td>35. WALLS, CEILINGS, ATTACHED EQUIPMENT CONSTR...</td>\n",
       "    </tr>\n",
       "  </tbody>\n",
       "</table>\n",
       "</div>"
      ],
      "text/plain": [
       "  Results  Inspection ID Facility Type             Risk      Zip  \\\n",
       "0    Pass        2130049    Restaurant  Risk 2 (Medium)  60611.0   \n",
       "2    Fail        2130018    Restaurant    Risk 1 (High)  60607.0   \n",
       "5    Fail        2129953    Restaurant    Risk 1 (High)  60624.0   \n",
       "6    Fail        2129949    Restaurant    Risk 1 (High)  60608.0   \n",
       "7    Pass        2129931    Restaurant    Risk 1 (High)  60645.0   \n",
       "\n",
       "  Inspection Date Inspection Type  \\\n",
       "0      01/05/2018         License   \n",
       "2      01/05/2018         Canvass   \n",
       "5      01/04/2018       Complaint   \n",
       "6      01/04/2018         Canvass   \n",
       "7      01/04/2018       Complaint   \n",
       "\n",
       "                                          Violations  \n",
       "0                                                NaN  \n",
       "2  9. WATER SOURCE: SAFE, HOT & COLD UNDER CITY P...  \n",
       "5  3. POTENTIALLY HAZARDOUS FOOD MEETS TEMPERATUR...  \n",
       "6  12. HAND WASHING FACILITIES: WITH SOAP AND SAN...  \n",
       "7  35. WALLS, CEILINGS, ATTACHED EQUIPMENT CONSTR...  "
      ]
     },
     "execution_count": 7,
     "metadata": {},
     "output_type": "execute_result"
    }
   ],
   "source": [
    "data = data.loc[data['Results'].isin(['Pass', 'Fail'])]\n",
    "data = data[['Results', 'Inspection ID', 'Facility Type', 'Risk', 'Zip', 'Inspection Date', 'Inspection Type', 'Violations']]\n",
    "data.head()"
   ]
  },
  {
   "cell_type": "markdown",
   "metadata": {},
   "source": [
    "### Missing Values\n",
    "\n",
    "We saw some missing values in violations before, are they still there after restricting our data."
   ]
  },
  {
   "cell_type": "code",
   "execution_count": 8,
   "metadata": {
    "scrolled": true
   },
   "outputs": [
    {
     "data": {
      "text/plain": [
       "12701"
      ]
     },
     "execution_count": 8,
     "metadata": {},
     "output_type": "execute_result"
    }
   ],
   "source": [
    "len(data[data['Violations'].isnull()])"
   ]
  },
  {
   "cell_type": "markdown",
   "metadata": {},
   "source": [
    "Remove missing violations since we won't be able to analyze them as predictors."
   ]
  },
  {
   "cell_type": "code",
   "execution_count": 9,
   "metadata": {
    "scrolled": false
   },
   "outputs": [
    {
     "data": {
      "text/html": [
       "<div>\n",
       "<style>\n",
       "    .dataframe thead tr:only-child th {\n",
       "        text-align: right;\n",
       "    }\n",
       "\n",
       "    .dataframe thead th {\n",
       "        text-align: left;\n",
       "    }\n",
       "\n",
       "    .dataframe tbody tr th {\n",
       "        vertical-align: top;\n",
       "    }\n",
       "</style>\n",
       "<table border=\"1\" class=\"dataframe\">\n",
       "  <thead>\n",
       "    <tr style=\"text-align: right;\">\n",
       "      <th></th>\n",
       "      <th>Results</th>\n",
       "      <th>Inspection ID</th>\n",
       "      <th>Facility Type</th>\n",
       "      <th>Risk</th>\n",
       "      <th>Zip</th>\n",
       "      <th>Inspection Date</th>\n",
       "      <th>Inspection Type</th>\n",
       "      <th>Violations</th>\n",
       "    </tr>\n",
       "  </thead>\n",
       "  <tbody>\n",
       "    <tr>\n",
       "      <th>2</th>\n",
       "      <td>Fail</td>\n",
       "      <td>2130018</td>\n",
       "      <td>Restaurant</td>\n",
       "      <td>Risk 1 (High)</td>\n",
       "      <td>60607.0</td>\n",
       "      <td>01/05/2018</td>\n",
       "      <td>Canvass</td>\n",
       "      <td>9. WATER SOURCE: SAFE, HOT &amp; COLD UNDER CITY P...</td>\n",
       "    </tr>\n",
       "    <tr>\n",
       "      <th>5</th>\n",
       "      <td>Fail</td>\n",
       "      <td>2129953</td>\n",
       "      <td>Restaurant</td>\n",
       "      <td>Risk 1 (High)</td>\n",
       "      <td>60624.0</td>\n",
       "      <td>01/04/2018</td>\n",
       "      <td>Complaint</td>\n",
       "      <td>3. POTENTIALLY HAZARDOUS FOOD MEETS TEMPERATUR...</td>\n",
       "    </tr>\n",
       "    <tr>\n",
       "      <th>6</th>\n",
       "      <td>Fail</td>\n",
       "      <td>2129949</td>\n",
       "      <td>Restaurant</td>\n",
       "      <td>Risk 1 (High)</td>\n",
       "      <td>60608.0</td>\n",
       "      <td>01/04/2018</td>\n",
       "      <td>Canvass</td>\n",
       "      <td>12. HAND WASHING FACILITIES: WITH SOAP AND SAN...</td>\n",
       "    </tr>\n",
       "    <tr>\n",
       "      <th>7</th>\n",
       "      <td>Pass</td>\n",
       "      <td>2129931</td>\n",
       "      <td>Restaurant</td>\n",
       "      <td>Risk 1 (High)</td>\n",
       "      <td>60645.0</td>\n",
       "      <td>01/04/2018</td>\n",
       "      <td>Complaint</td>\n",
       "      <td>35. WALLS, CEILINGS, ATTACHED EQUIPMENT CONSTR...</td>\n",
       "    </tr>\n",
       "    <tr>\n",
       "      <th>8</th>\n",
       "      <td>Pass</td>\n",
       "      <td>2129924</td>\n",
       "      <td>Restaurant</td>\n",
       "      <td>Risk 2 (Medium)</td>\n",
       "      <td>60601.0</td>\n",
       "      <td>01/04/2018</td>\n",
       "      <td>License</td>\n",
       "      <td>33. FOOD AND NON-FOOD CONTACT EQUIPMENT UTENSI...</td>\n",
       "    </tr>\n",
       "  </tbody>\n",
       "</table>\n",
       "</div>"
      ],
      "text/plain": [
       "  Results  Inspection ID Facility Type             Risk      Zip  \\\n",
       "2    Fail        2130018    Restaurant    Risk 1 (High)  60607.0   \n",
       "5    Fail        2129953    Restaurant    Risk 1 (High)  60624.0   \n",
       "6    Fail        2129949    Restaurant    Risk 1 (High)  60608.0   \n",
       "7    Pass        2129931    Restaurant    Risk 1 (High)  60645.0   \n",
       "8    Pass        2129924    Restaurant  Risk 2 (Medium)  60601.0   \n",
       "\n",
       "  Inspection Date Inspection Type  \\\n",
       "2      01/05/2018         Canvass   \n",
       "5      01/04/2018       Complaint   \n",
       "6      01/04/2018         Canvass   \n",
       "7      01/04/2018       Complaint   \n",
       "8      01/04/2018         License   \n",
       "\n",
       "                                          Violations  \n",
       "2  9. WATER SOURCE: SAFE, HOT & COLD UNDER CITY P...  \n",
       "5  3. POTENTIALLY HAZARDOUS FOOD MEETS TEMPERATUR...  \n",
       "6  12. HAND WASHING FACILITIES: WITH SOAP AND SAN...  \n",
       "7  35. WALLS, CEILINGS, ATTACHED EQUIPMENT CONSTR...  \n",
       "8  33. FOOD AND NON-FOOD CONTACT EQUIPMENT UTENSI...  "
      ]
     },
     "execution_count": 9,
     "metadata": {},
     "output_type": "execute_result"
    }
   ],
   "source": [
    "data = data[~data['Violations'].isnull()]\n",
    "data.head()"
   ]
  },
  {
   "cell_type": "code",
   "execution_count": 39,
   "metadata": {
    "collapsed": true,
    "scrolled": true
   },
   "outputs": [],
   "source": [
    "### Helper functions\n",
    "\n",
    "def split_violations(row):\n",
    "    #violations_array = []\n",
    "    #violations_array.append(row.split('|'))\n",
    "    return row.split('|')\n",
    "    \n",
    "def parse_comments(row):\n",
    "    # row == violations_array?\n",
    "    comments_array = []\n",
    "    for violation in row:\n",
    "        comments_array.append(violation.rpartition(' - Comments: ')[2])\n",
    "    return ''.join(comments_array)\n",
    "\n",
    "\n",
    "def apply_comment_extraction(row):\n",
    "    return parse_comments(split_violations(row))"
   ]
  },
  {
   "cell_type": "code",
   "execution_count": 23,
   "metadata": {
    "scrolled": true
   },
   "outputs": [
    {
     "name": "stderr",
     "output_type": "stream",
     "text": [
      "C:\\Users\\cmill\\Anaconda3\\lib\\site-packages\\ipykernel_launcher.py:1: SettingWithCopyWarning:\n",
      "\n",
      "\n",
      "A value is trying to be set on a copy of a slice from a DataFrame.\n",
      "Try using .loc[row_indexer,col_indexer] = value instead\n",
      "\n",
      "See the caveats in the documentation: http://pandas.pydata.org/pandas-docs/stable/indexing.html#indexing-view-versus-copy\n",
      "\n"
     ]
    }
   ],
   "source": [
    "#test_df['Comments'] = test_df['Violations'].apply(apply_comment_extraction)"
   ]
  },
  {
   "cell_type": "code",
   "execution_count": 25,
   "metadata": {
    "scrolled": false
   },
   "outputs": [
    {
     "data": {
      "text/plain": [
       "['OBSERVE NO HOT RUNNING WATER ON THE PREMISES; THAT INCLUDES EXPOSED HAND SINKS IN FRONT & REAR PREP AREAS, 3-COMPARTMENT SINK IN REAR PREP, AND HAND SINKS IN BOTH TOILET ROOMS. INSTRUCTED TO CONTACT PLUMMER TO HAVE HOT WATER RESTORED. CRITICAL VIOLATION 7-38-030. ',\n",
       " 'PREVIOUS MINOR VIOLATION NOT CORRECTED FROM INSPECTION REPORT 1989320, DATED 2/17/2017. VIOLATION INCLUDES; #38; NO RUNNING HOT AND COLD WATER TO TOP LOADING SOFT SERVE MACHINE, INSTRUCTED TO PROVIDE,  \\n \\nVIOLATION STILL EXISTS. SERIOUS VIOLATION 7-42-090 ',\n",
       " 'MUST DISCONTINUE USING MILK CRATES AS STORAGE RACKS THROUGHOUT FRONT AND REAR PREP AREAS, AND IN THE WALK IN COOLER. INSTALL CORRECT STORAGE RACKS. ',\n",
       " 'MUST REPAIR COVING ON WALL ACROSS FROM THE EXPOSED HAND SINK  \\nIN THE REAR PREP AREA.']"
      ]
     },
     "execution_count": 25,
     "metadata": {},
     "output_type": "execute_result"
    }
   ],
   "source": [
    "#test_df['Comments'].iloc[0]"
   ]
  },
  {
   "cell_type": "code",
   "execution_count": 40,
   "metadata": {
    "collapsed": true,
    "scrolled": true
   },
   "outputs": [],
   "source": [
    "data['Comments'] = data['Violations'].apply(apply_comment_extraction)"
   ]
  },
  {
   "cell_type": "code",
   "execution_count": 29,
   "metadata": {
    "scrolled": true
   },
   "outputs": [],
   "source": [
    "data['Results'] = data['Results'].apply(lambda x: 1 if x == 'Pass' else 0)"
   ]
  },
  {
   "cell_type": "code",
   "execution_count": 41,
   "metadata": {
    "scrolled": false
   },
   "outputs": [
    {
     "data": {
      "text/html": [
       "<div>\n",
       "<style>\n",
       "    .dataframe thead tr:only-child th {\n",
       "        text-align: right;\n",
       "    }\n",
       "\n",
       "    .dataframe thead th {\n",
       "        text-align: left;\n",
       "    }\n",
       "\n",
       "    .dataframe tbody tr th {\n",
       "        vertical-align: top;\n",
       "    }\n",
       "</style>\n",
       "<table border=\"1\" class=\"dataframe\">\n",
       "  <thead>\n",
       "    <tr style=\"text-align: right;\">\n",
       "      <th></th>\n",
       "      <th>Results</th>\n",
       "      <th>Inspection ID</th>\n",
       "      <th>Facility Type</th>\n",
       "      <th>Risk</th>\n",
       "      <th>Zip</th>\n",
       "      <th>Inspection Date</th>\n",
       "      <th>Inspection Type</th>\n",
       "      <th>Violations</th>\n",
       "      <th>Comments</th>\n",
       "    </tr>\n",
       "  </thead>\n",
       "  <tbody>\n",
       "    <tr>\n",
       "      <th>2</th>\n",
       "      <td>0</td>\n",
       "      <td>2130018</td>\n",
       "      <td>Restaurant</td>\n",
       "      <td>Risk 1 (High)</td>\n",
       "      <td>60607.0</td>\n",
       "      <td>01/05/2018</td>\n",
       "      <td>Canvass</td>\n",
       "      <td>9. WATER SOURCE: SAFE, HOT &amp; COLD UNDER CITY P...</td>\n",
       "      <td>OBSERVE NO HOT RUNNING WATER ON THE PREMISES; ...</td>\n",
       "    </tr>\n",
       "    <tr>\n",
       "      <th>5</th>\n",
       "      <td>0</td>\n",
       "      <td>2129953</td>\n",
       "      <td>Restaurant</td>\n",
       "      <td>Risk 1 (High)</td>\n",
       "      <td>60624.0</td>\n",
       "      <td>01/04/2018</td>\n",
       "      <td>Complaint</td>\n",
       "      <td>3. POTENTIALLY HAZARDOUS FOOD MEETS TEMPERATUR...</td>\n",
       "      <td>OBSERVED POTENTIALLY HAZARDOUS FOODS AT IMPROP...</td>\n",
       "    </tr>\n",
       "    <tr>\n",
       "      <th>6</th>\n",
       "      <td>0</td>\n",
       "      <td>2129949</td>\n",
       "      <td>Restaurant</td>\n",
       "      <td>Risk 1 (High)</td>\n",
       "      <td>60608.0</td>\n",
       "      <td>01/04/2018</td>\n",
       "      <td>Canvass</td>\n",
       "      <td>12. HAND WASHING FACILITIES: WITH SOAP AND SAN...</td>\n",
       "      <td>OBSERVED NO SOAP OR PAPER TOWELS AT EXPOSED HA...</td>\n",
       "    </tr>\n",
       "    <tr>\n",
       "      <th>7</th>\n",
       "      <td>1</td>\n",
       "      <td>2129931</td>\n",
       "      <td>Restaurant</td>\n",
       "      <td>Risk 1 (High)</td>\n",
       "      <td>60645.0</td>\n",
       "      <td>01/04/2018</td>\n",
       "      <td>Complaint</td>\n",
       "      <td>35. WALLS, CEILINGS, ATTACHED EQUIPMENT CONSTR...</td>\n",
       "      <td>HOLES IN WALLS IN THE FOLLOWING AREAS:LARGE HO...</td>\n",
       "    </tr>\n",
       "    <tr>\n",
       "      <th>8</th>\n",
       "      <td>1</td>\n",
       "      <td>2129924</td>\n",
       "      <td>Restaurant</td>\n",
       "      <td>Risk 2 (Medium)</td>\n",
       "      <td>60601.0</td>\n",
       "      <td>01/04/2018</td>\n",
       "      <td>License</td>\n",
       "      <td>33. FOOD AND NON-FOOD CONTACT EQUIPMENT UTENSI...</td>\n",
       "      <td>COOLERS NOT CLEAN INSIDE, LEFTOVER FOODS LEFT ...</td>\n",
       "    </tr>\n",
       "  </tbody>\n",
       "</table>\n",
       "</div>"
      ],
      "text/plain": [
       "   Results  Inspection ID Facility Type             Risk      Zip  \\\n",
       "2        0        2130018    Restaurant    Risk 1 (High)  60607.0   \n",
       "5        0        2129953    Restaurant    Risk 1 (High)  60624.0   \n",
       "6        0        2129949    Restaurant    Risk 1 (High)  60608.0   \n",
       "7        1        2129931    Restaurant    Risk 1 (High)  60645.0   \n",
       "8        1        2129924    Restaurant  Risk 2 (Medium)  60601.0   \n",
       "\n",
       "  Inspection Date Inspection Type  \\\n",
       "2      01/05/2018         Canvass   \n",
       "5      01/04/2018       Complaint   \n",
       "6      01/04/2018         Canvass   \n",
       "7      01/04/2018       Complaint   \n",
       "8      01/04/2018         License   \n",
       "\n",
       "                                          Violations  \\\n",
       "2  9. WATER SOURCE: SAFE, HOT & COLD UNDER CITY P...   \n",
       "5  3. POTENTIALLY HAZARDOUS FOOD MEETS TEMPERATUR...   \n",
       "6  12. HAND WASHING FACILITIES: WITH SOAP AND SAN...   \n",
       "7  35. WALLS, CEILINGS, ATTACHED EQUIPMENT CONSTR...   \n",
       "8  33. FOOD AND NON-FOOD CONTACT EQUIPMENT UTENSI...   \n",
       "\n",
       "                                            Comments  \n",
       "2  OBSERVE NO HOT RUNNING WATER ON THE PREMISES; ...  \n",
       "5  OBSERVED POTENTIALLY HAZARDOUS FOODS AT IMPROP...  \n",
       "6  OBSERVED NO SOAP OR PAPER TOWELS AT EXPOSED HA...  \n",
       "7  HOLES IN WALLS IN THE FOLLOWING AREAS:LARGE HO...  \n",
       "8  COOLERS NOT CLEAN INSIDE, LEFTOVER FOODS LEFT ...  "
      ]
     },
     "execution_count": 41,
     "metadata": {},
     "output_type": "execute_result"
    }
   ],
   "source": [
    "data.head()"
   ]
  },
  {
   "cell_type": "code",
   "execution_count": 42,
   "metadata": {
    "collapsed": true,
    "scrolled": true
   },
   "outputs": [],
   "source": [
    "X = data['Comments']\n",
    "y = data['Results']\n",
    "\n",
    "X_train, X_test, y_train, y_test = train_test_split(X, y, random_state=1)\n"
   ]
  },
  {
   "cell_type": "markdown",
   "metadata": {},
   "source": [
    "Can do some cleanup on comments but lets build model first.\n",
    "\n",
    "### Vectorize Dataset"
   ]
  },
  {
   "cell_type": "code",
   "execution_count": 37,
   "metadata": {
    "collapsed": true,
    "scrolled": true
   },
   "outputs": [],
   "source": [
    "### instantiate the vectorizer\n",
    "vect = CountVectorizer()"
   ]
  },
  {
   "cell_type": "code",
   "execution_count": 43,
   "metadata": {
    "scrolled": false
   },
   "outputs": [
    {
     "data": {
      "text/plain": [
       "<85940x31216 sparse matrix of type '<class 'numpy.int64'>'\n",
       "\twith 5231157 stored elements in Compressed Sparse Row format>"
      ]
     },
     "execution_count": 43,
     "metadata": {},
     "output_type": "execute_result"
    }
   ],
   "source": [
    "X_train_dtm = vect.fit_transform(X_train)\n",
    "X_train_dtm"
   ]
  },
  {
   "cell_type": "code",
   "execution_count": 46,
   "metadata": {
    "scrolled": true
   },
   "outputs": [
    {
     "data": {
      "text/plain": [
       "<28647x31216 sparse matrix of type '<class 'numpy.int64'>'\n",
       "\twith 1739806 stored elements in Compressed Sparse Row format>"
      ]
     },
     "execution_count": 46,
     "metadata": {},
     "output_type": "execute_result"
    }
   ],
   "source": [
    "# transform testing data (using fitted vocabulary) into a document-term matrix\n",
    "X_test_dtm = vect.transform(X_test)\n",
    "X_test_dtm"
   ]
  },
  {
   "cell_type": "markdown",
   "metadata": {},
   "source": [
    "## Model Building\n",
    "\n",
    "### NaiveBayes"
   ]
  },
  {
   "cell_type": "code",
   "execution_count": 44,
   "metadata": {
    "scrolled": true
   },
   "outputs": [
    {
     "name": "stdout",
     "output_type": "stream",
     "text": [
      "Wall time: 81.2 ms\n"
     ]
    },
    {
     "data": {
      "text/plain": [
       "MultinomialNB(alpha=1.0, class_prior=None, fit_prior=True)"
      ]
     },
     "execution_count": 44,
     "metadata": {},
     "output_type": "execute_result"
    }
   ],
   "source": [
    "# instantiate a multinomial naive bayes model\n",
    "\n",
    "nb = MultinomialNB()\n",
    "\n",
    "# train and time model using X_train_dtm\n",
    "%time nb.fit(X_train_dtm, y_train)"
   ]
  },
  {
   "cell_type": "code",
   "execution_count": 47,
   "metadata": {
    "scrolled": false
   },
   "outputs": [
    {
     "name": "stdout",
     "output_type": "stream",
     "text": [
      "0.925541941565\n"
     ]
    }
   ],
   "source": [
    "# make class predictions for X_test_dtm\n",
    "y_pred_class = nb.predict(X_test_dtm)\n",
    "\n",
    "# calculate accuracy of class predictions\n",
    "print(metrics.accuracy_score(y_test, y_pred_class))"
   ]
  },
  {
   "cell_type": "code",
   "execution_count": 48,
   "metadata": {
    "scrolled": true
   },
   "outputs": [
    {
     "name": "stdout",
     "output_type": "stream",
     "text": [
      "             precision    recall  f1-score   support\n",
      "\n",
      "          0       0.82      0.90      0.86      7124\n",
      "          1       0.97      0.93      0.95     21523\n",
      "\n",
      "avg / total       0.93      0.93      0.93     28647\n",
      "\n"
     ]
    }
   ],
   "source": [
    "# calculate precision and recall\n",
    "print(classification_report(y_test, y_pred_class))"
   ]
  },
  {
   "cell_type": "code",
   "execution_count": 49,
   "metadata": {
    "scrolled": true
   },
   "outputs": [
    {
     "name": "stdout",
     "output_type": "stream",
     "text": [
      "[[ 6398   726]\n",
      " [ 1407 20116]]\n"
     ]
    }
   ],
   "source": [
    "# calculate the confusion matrix\n",
    "print(metrics.confusion_matrix(y_test, y_pred_class))"
   ]
  },
  {
   "cell_type": "markdown",
   "metadata": {},
   "source": [
    "### Logistic Regression"
   ]
  },
  {
   "cell_type": "code",
   "execution_count": 51,
   "metadata": {
    "scrolled": true
   },
   "outputs": [
    {
     "name": "stdout",
     "output_type": "stream",
     "text": [
      "Wall time: 45.7 s\n"
     ]
    },
    {
     "data": {
      "text/plain": [
       "LogisticRegression(C=1.0, class_weight=None, dual=False, fit_intercept=True,\n",
       "          intercept_scaling=1, max_iter=100, multi_class='ovr', n_jobs=1,\n",
       "          penalty='l2', random_state=None, solver='liblinear', tol=0.0001,\n",
       "          verbose=0, warm_start=False)"
      ]
     },
     "execution_count": 51,
     "metadata": {},
     "output_type": "execute_result"
    }
   ],
   "source": [
    "# instantiate a logistic regression model\n",
    "logreg = LogisticRegression()\n",
    "\n",
    "# train the model using X_train_dtm\n",
    "%time logreg.fit(X_train_dtm, y_train)"
   ]
  },
  {
   "cell_type": "code",
   "execution_count": 52,
   "metadata": {
    "scrolled": true
   },
   "outputs": [
    {
     "name": "stdout",
     "output_type": "stream",
     "text": [
      "0.972981464028\n"
     ]
    }
   ],
   "source": [
    "# make class predictions for X_test_dtm\n",
    "y_pred_class = logreg.predict(X_test_dtm)\n",
    "\n",
    "# calculate accuracy of class predictions\n",
    "print(metrics.accuracy_score(y_test, y_pred_class))"
   ]
  },
  {
   "cell_type": "code",
   "execution_count": 53,
   "metadata": {
    "scrolled": true
   },
   "outputs": [
    {
     "name": "stdout",
     "output_type": "stream",
     "text": [
      "             precision    recall  f1-score   support\n",
      "\n",
      "          0       0.97      0.92      0.94      7124\n",
      "          1       0.97      0.99      0.98     21523\n",
      "\n",
      "avg / total       0.97      0.97      0.97     28647\n",
      "\n"
     ]
    }
   ],
   "source": [
    "# calculate precision and recall\n",
    "print(classification_report(y_test, y_pred_class))"
   ]
  },
  {
   "cell_type": "code",
   "execution_count": 54,
   "metadata": {
    "scrolled": false
   },
   "outputs": [
    {
     "name": "stdout",
     "output_type": "stream",
     "text": [
      "[[ 6550   574]\n",
      " [  200 21323]]\n"
     ]
    }
   ],
   "source": [
    "# calculate the confusion matrix\n",
    "print(metrics.confusion_matrix(y_test, y_pred_class))"
   ]
  },
  {
   "cell_type": "markdown",
   "metadata": {},
   "source": [
    "### Support Vector Machine"
   ]
  },
  {
   "cell_type": "code",
   "execution_count": 55,
   "metadata": {
    "scrolled": false
   },
   "outputs": [
    {
     "name": "stdout",
     "output_type": "stream",
     "text": [
      "Wall time: 3.28 s\n"
     ]
    },
    {
     "data": {
      "text/plain": [
       "SGDClassifier(alpha=0.0001, average=False, class_weight=None, epsilon=0.1,\n",
       "       eta0=0.0, fit_intercept=True, l1_ratio=0.15,\n",
       "       learning_rate='optimal', loss='hinge', max_iter=100, n_iter=None,\n",
       "       n_jobs=1, penalty='l2', power_t=0.5, random_state=None,\n",
       "       shuffle=True, tol=None, verbose=0, warm_start=False)"
      ]
     },
     "execution_count": 55,
     "metadata": {},
     "output_type": "execute_result"
    }
   ],
   "source": [
    "# instantiate a SVM model\n",
    "svm = SGDClassifier(max_iter=100, tol=None)\n",
    "\n",
    "# train the model using X_train_dtm\n",
    "%time svm.fit(X_train_dtm, y_train)"
   ]
  },
  {
   "cell_type": "code",
   "execution_count": 60,
   "metadata": {
    "scrolled": true
   },
   "outputs": [
    {
     "name": "stdout",
     "output_type": "stream",
     "text": [
      "0.964080008378\n"
     ]
    }
   ],
   "source": [
    "# make class predictions for X_test_dtm\n",
    "y_pred_class = svm.predict(X_test_dtm)\n",
    "\n",
    "print(metrics.accuracy_score(y_test, y_pred_class))"
   ]
  },
  {
   "cell_type": "code",
   "execution_count": 61,
   "metadata": {
    "scrolled": false
   },
   "outputs": [
    {
     "name": "stdout",
     "output_type": "stream",
     "text": [
      "             precision    recall  f1-score   support\n",
      "\n",
      "          0       0.94      0.91      0.93      7124\n",
      "          1       0.97      0.98      0.98     21523\n",
      "\n",
      "avg / total       0.96      0.96      0.96     28647\n",
      "\n"
     ]
    }
   ],
   "source": [
    "# calculate accuracy of class predictions\n",
    "# calculate precision and recall\n",
    "print(classification_report(y_test, y_pred_class))"
   ]
  },
  {
   "cell_type": "code",
   "execution_count": 62,
   "metadata": {
    "scrolled": true
   },
   "outputs": [
    {
     "name": "stdout",
     "output_type": "stream",
     "text": [
      "[[ 6517   607]\n",
      " [  422 21101]]\n"
     ]
    }
   ],
   "source": [
    "# calculate the confusion matrix\n",
    "print(metrics.confusion_matrix(y_test, y_pred_class))"
   ]
  },
  {
   "cell_type": "markdown",
   "metadata": {},
   "source": [
    "### Conclusions\n",
    "\n",
    "Even without cleaning our comments, we saw very high model accuracy with all models predicting the training data with > 92% accuracy. Our best performing model was the logistic regression with an accuracy of 97%. Though this is very high, lets try to improve on this by cleaning up our comment data and performing some basic processing.\n",
    "\n",
    "Some processing techniques that might be helpful for us are removing stop words, removing words that appear in many documents (inspections) and therefore have less predictive power, ensuring words aren't two rare, therefore excluding words that only appear in one document (inspection) as they also won't have much predictive power. "
   ]
  },
  {
   "cell_type": "code",
   "execution_count": 78,
   "metadata": {
    "scrolled": true
   },
   "outputs": [
    {
     "data": {
      "text/plain": [
       "CountVectorizer(analyzer='word', binary=False, decode_error='strict',\n",
       "        dtype=<class 'numpy.int64'>, encoding='utf-8', input='content',\n",
       "        lowercase=True, max_df=0.5, max_features=None, min_df=2,\n",
       "        ngram_range=(1, 3), preprocessor=None, stop_words='english',\n",
       "        strip_accents=None, token_pattern='(?u)\\\\b\\\\w\\\\w+\\\\b',\n",
       "        tokenizer=None, vocabulary=None)"
      ]
     },
     "execution_count": 78,
     "metadata": {},
     "output_type": "execute_result"
    }
   ],
   "source": [
    "vect"
   ]
  },
  {
   "cell_type": "code",
   "execution_count": 63,
   "metadata": {
    "collapsed": true,
    "scrolled": true
   },
   "outputs": [],
   "source": [
    "### instantiate the vectorizer, remove stop words, limit lower and upper bounds of n grams used\n",
    "# ignore words that have a document frequency above 50%\n",
    "# only include words that appear in at least two documents\n",
    "vect = CountVectorizer(stop_words='english', ngram_range=(1, 3), max_df=0.5, min_df=2)"
   ]
  },
  {
   "cell_type": "code",
   "execution_count": 64,
   "metadata": {
    "scrolled": false
   },
   "outputs": [
    {
     "data": {
      "text/plain": [
       "<85940x627512 sparse matrix of type '<class 'numpy.int64'>'\n",
       "\twith 13537647 stored elements in Compressed Sparse Row format>"
      ]
     },
     "execution_count": 64,
     "metadata": {},
     "output_type": "execute_result"
    }
   ],
   "source": [
    "X_train_dtm = vect.fit_transform(X_train)\n",
    "X_train_dtm"
   ]
  },
  {
   "cell_type": "code",
   "execution_count": 65,
   "metadata": {
    "scrolled": true
   },
   "outputs": [
    {
     "data": {
      "text/plain": [
       "<28647x627512 sparse matrix of type '<class 'numpy.int64'>'\n",
       "\twith 4340395 stored elements in Compressed Sparse Row format>"
      ]
     },
     "execution_count": 65,
     "metadata": {},
     "output_type": "execute_result"
    }
   ],
   "source": [
    "# transform testing data (using fitted vocabulary) into a document-term matrix\n",
    "X_test_dtm = vect.transform(X_test)\n",
    "X_test_dtm"
   ]
  },
  {
   "cell_type": "markdown",
   "metadata": {},
   "source": [
    "## Model Building\n",
    "\n",
    "### NaiveBayes"
   ]
  },
  {
   "cell_type": "code",
   "execution_count": 66,
   "metadata": {
    "scrolled": true
   },
   "outputs": [
    {
     "name": "stdout",
     "output_type": "stream",
     "text": [
      "Wall time: 315 ms\n"
     ]
    },
    {
     "data": {
      "text/plain": [
       "MultinomialNB(alpha=1.0, class_prior=None, fit_prior=True)"
      ]
     },
     "execution_count": 66,
     "metadata": {},
     "output_type": "execute_result"
    }
   ],
   "source": [
    "# instantiate a multinomial naive bayes model\n",
    "\n",
    "nb = MultinomialNB()\n",
    "\n",
    "# train and time model using X_train_dtm\n",
    "%time nb.fit(X_train_dtm, y_train)"
   ]
  },
  {
   "cell_type": "code",
   "execution_count": 67,
   "metadata": {
    "scrolled": false
   },
   "outputs": [
    {
     "name": "stdout",
     "output_type": "stream",
     "text": [
      "0.941110762034\n"
     ]
    }
   ],
   "source": [
    "# make class predictions for X_test_dtm\n",
    "y_pred_class = nb.predict(X_test_dtm)\n",
    "\n",
    "# calculate accuracy of class predictions\n",
    "print(metrics.accuracy_score(y_test, y_pred_class))"
   ]
  },
  {
   "cell_type": "code",
   "execution_count": 68,
   "metadata": {
    "scrolled": true
   },
   "outputs": [
    {
     "name": "stdout",
     "output_type": "stream",
     "text": [
      "             precision    recall  f1-score   support\n",
      "\n",
      "          0       0.86      0.91      0.88      7124\n",
      "          1       0.97      0.95      0.96     21523\n",
      "\n",
      "avg / total       0.94      0.94      0.94     28647\n",
      "\n"
     ]
    }
   ],
   "source": [
    "# calculate precision and recall\n",
    "print(classification_report(y_test, y_pred_class))"
   ]
  },
  {
   "cell_type": "code",
   "execution_count": 69,
   "metadata": {
    "scrolled": true
   },
   "outputs": [
    {
     "name": "stdout",
     "output_type": "stream",
     "text": [
      "[[ 6476   648]\n",
      " [ 1039 20484]]\n"
     ]
    }
   ],
   "source": [
    "# calculate the confusion matrix\n",
    "print(metrics.confusion_matrix(y_test, y_pred_class))"
   ]
  },
  {
   "cell_type": "markdown",
   "metadata": {},
   "source": [
    "### Logistic Regression"
   ]
  },
  {
   "cell_type": "code",
   "execution_count": 70,
   "metadata": {
    "scrolled": true
   },
   "outputs": [
    {
     "name": "stdout",
     "output_type": "stream",
     "text": [
      "Wall time: 1min 19s\n"
     ]
    },
    {
     "data": {
      "text/plain": [
       "LogisticRegression(C=1.0, class_weight=None, dual=False, fit_intercept=True,\n",
       "          intercept_scaling=1, max_iter=100, multi_class='ovr', n_jobs=1,\n",
       "          penalty='l2', random_state=None, solver='liblinear', tol=0.0001,\n",
       "          verbose=0, warm_start=False)"
      ]
     },
     "execution_count": 70,
     "metadata": {},
     "output_type": "execute_result"
    }
   ],
   "source": [
    "# instantiate a logistic regression model\n",
    "logreg = LogisticRegression()\n",
    "\n",
    "# train the model using X_train_dtm\n",
    "%time logreg.fit(X_train_dtm, y_train)"
   ]
  },
  {
   "cell_type": "code",
   "execution_count": 71,
   "metadata": {
    "scrolled": true
   },
   "outputs": [
    {
     "name": "stdout",
     "output_type": "stream",
     "text": [
      "0.977275107341\n"
     ]
    }
   ],
   "source": [
    "# make class predictions for X_test_dtm\n",
    "y_pred_class = logreg.predict(X_test_dtm)\n",
    "\n",
    "# calculate accuracy of class predictions\n",
    "print(metrics.accuracy_score(y_test, y_pred_class))"
   ]
  },
  {
   "cell_type": "code",
   "execution_count": 72,
   "metadata": {
    "scrolled": true
   },
   "outputs": [
    {
     "name": "stdout",
     "output_type": "stream",
     "text": [
      "             precision    recall  f1-score   support\n",
      "\n",
      "          0       0.98      0.93      0.95      7124\n",
      "          1       0.98      0.99      0.99     21523\n",
      "\n",
      "avg / total       0.98      0.98      0.98     28647\n",
      "\n"
     ]
    }
   ],
   "source": [
    "# calculate precision and recall\n",
    "print(classification_report(y_test, y_pred_class))"
   ]
  },
  {
   "cell_type": "code",
   "execution_count": 73,
   "metadata": {
    "scrolled": false
   },
   "outputs": [
    {
     "name": "stdout",
     "output_type": "stream",
     "text": [
      "[[ 6621   503]\n",
      " [  148 21375]]\n"
     ]
    }
   ],
   "source": [
    "# calculate the confusion matrix\n",
    "print(metrics.confusion_matrix(y_test, y_pred_class))"
   ]
  },
  {
   "cell_type": "markdown",
   "metadata": {},
   "source": [
    "### Support Vector Machine"
   ]
  },
  {
   "cell_type": "code",
   "execution_count": 74,
   "metadata": {
    "scrolled": false
   },
   "outputs": [
    {
     "name": "stdout",
     "output_type": "stream",
     "text": [
      "Wall time: 11.8 s\n"
     ]
    },
    {
     "data": {
      "text/plain": [
       "SGDClassifier(alpha=0.0001, average=False, class_weight=None, epsilon=0.1,\n",
       "       eta0=0.0, fit_intercept=True, l1_ratio=0.15,\n",
       "       learning_rate='optimal', loss='hinge', max_iter=100, n_iter=None,\n",
       "       n_jobs=1, penalty='l2', power_t=0.5, random_state=None,\n",
       "       shuffle=True, tol=None, verbose=0, warm_start=False)"
      ]
     },
     "execution_count": 74,
     "metadata": {},
     "output_type": "execute_result"
    }
   ],
   "source": [
    "# instantiate a SVM model\n",
    "svm = SGDClassifier(max_iter=100, tol=None)\n",
    "\n",
    "# train the model using X_train_dtm\n",
    "%time svm.fit(X_train_dtm, y_train)"
   ]
  },
  {
   "cell_type": "code",
   "execution_count": 75,
   "metadata": {
    "scrolled": true
   },
   "outputs": [
    {
     "name": "stdout",
     "output_type": "stream",
     "text": [
      "0.963346947324\n"
     ]
    }
   ],
   "source": [
    "# make class predictions for X_test_dtm\n",
    "y_pred_class = svm.predict(X_test_dtm)\n",
    "\n",
    "print(metrics.accuracy_score(y_test, y_pred_class))"
   ]
  },
  {
   "cell_type": "code",
   "execution_count": 76,
   "metadata": {
    "scrolled": false
   },
   "outputs": [
    {
     "name": "stdout",
     "output_type": "stream",
     "text": [
      "             precision    recall  f1-score   support\n",
      "\n",
      "          0       0.94      0.91      0.93      7124\n",
      "          1       0.97      0.98      0.98     21523\n",
      "\n",
      "avg / total       0.96      0.96      0.96     28647\n",
      "\n"
     ]
    }
   ],
   "source": [
    "# calculate accuracy of class predictions\n",
    "# calculate precision and recall\n",
    "print(classification_report(y_test, y_pred_class))"
   ]
  },
  {
   "cell_type": "code",
   "execution_count": 77,
   "metadata": {
    "scrolled": true
   },
   "outputs": [
    {
     "name": "stdout",
     "output_type": "stream",
     "text": [
      "[[ 6485   639]\n",
      " [  411 21112]]\n"
     ]
    }
   ],
   "source": [
    "# calculate the confusion matrix\n",
    "print(metrics.confusion_matrix(y_test, y_pred_class))"
   ]
  },
  {
   "cell_type": "markdown",
   "metadata": {},
   "source": [
    "### Post cleanup conclusions\n",
    "\n",
    "As expected, since the models performed well without cleaning up the comments, there wasn't much room for additional improvement. Our lowest performing model without cleanup, the naive bayes, went from 92% to 94% accuracy on the test data. The best performing model, logit, went from 97.2% accuracy to 97.7%. "
   ]
  }
 ],
 "metadata": {
  "kernelspec": {
   "display_name": "Python 3",
   "language": "python",
   "name": "python3"
  },
  "language_info": {
   "codemirror_mode": {
    "name": "ipython",
    "version": 3
   },
   "file_extension": ".py",
   "mimetype": "text/x-python",
   "name": "python",
   "nbconvert_exporter": "python",
   "pygments_lexer": "ipython3",
   "version": "3.6.2"
  }
 },
 "nbformat": 4,
 "nbformat_minor": 2
}
